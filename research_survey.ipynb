{
 "cells": [
  {
   "cell_type": "markdown",
   "metadata": {},
   "source": [
    "# Imports"
   ]
  },
  {
   "cell_type": "markdown",
   "metadata": {},
   "source": [
    "from Bio import Entrez\n",
    "import time\n"
   ]
  },
  {
   "cell_type": "code",
   "execution_count": 2,
   "metadata": {},
   "outputs": [
    {
     "name": "stdout",
     "output_type": "stream",
     "text": [
      "Requirement already satisfied: biopython in /opt/anaconda3/lib/python3.11/site-packages (1.85)\n",
      "Requirement already satisfied: numpy in /opt/anaconda3/lib/python3.11/site-packages (from biopython) (1.26.4)\n",
      "\n",
      "\u001b[1m[\u001b[0m\u001b[34;49mnotice\u001b[0m\u001b[1;39;49m]\u001b[0m\u001b[39;49m A new release of pip is available: \u001b[0m\u001b[31;49m24.3.1\u001b[0m\u001b[39;49m -> \u001b[0m\u001b[32;49m25.1.1\u001b[0m\n",
      "\u001b[1m[\u001b[0m\u001b[34;49mnotice\u001b[0m\u001b[1;39;49m]\u001b[0m\u001b[39;49m To update, run: \u001b[0m\u001b[32;49mpip install --upgrade pip\u001b[0m\n",
      "Note: you may need to restart the kernel to use updated packages.\n"
     ]
    }
   ],
   "source": [
    "%pip install biopython"
   ]
  },
  {
   "cell_type": "code",
   "execution_count": 3,
   "metadata": {},
   "outputs": [
    {
     "name": "stdout",
     "output_type": "stream",
     "text": [
      "Requirement already satisfied: scipy==1.12 in /opt/anaconda3/lib/python3.11/site-packages (from -r requirements.txt (line 2)) (1.12.0)\n",
      "Requirement already satisfied: gensim==4.3.1 in /opt/anaconda3/lib/python3.11/site-packages (from -r requirements.txt (line 3)) (4.3.1)\n",
      "Requirement already satisfied: numpy<1.29.0,>=1.22.4 in /opt/anaconda3/lib/python3.11/site-packages (from scipy==1.12->-r requirements.txt (line 2)) (1.26.4)\n",
      "Requirement already satisfied: smart-open>=1.8.1 in /opt/anaconda3/lib/python3.11/site-packages (from gensim==4.3.1->-r requirements.txt (line 3)) (5.2.1)\n",
      "\n",
      "\u001b[1m[\u001b[0m\u001b[34;49mnotice\u001b[0m\u001b[1;39;49m]\u001b[0m\u001b[39;49m A new release of pip is available: \u001b[0m\u001b[31;49m24.3.1\u001b[0m\u001b[39;49m -> \u001b[0m\u001b[32;49m25.1.1\u001b[0m\n",
      "\u001b[1m[\u001b[0m\u001b[34;49mnotice\u001b[0m\u001b[1;39;49m]\u001b[0m\u001b[39;49m To update, run: \u001b[0m\u001b[32;49mpip install --upgrade pip\u001b[0m\n",
      "Note: you may need to restart the kernel to use updated packages.\n"
     ]
    }
   ],
   "source": [
    "%pip install -r requirements.txt"
   ]
  },
  {
   "cell_type": "code",
   "execution_count": 4,
   "metadata": {},
   "outputs": [
    {
     "name": "stdout",
     "output_type": "stream",
     "text": [
      "Requirement already satisfied: symspellpy in /opt/anaconda3/lib/python3.11/site-packages (6.9.0)\n",
      "Requirement already satisfied: editdistpy>=0.1.3 in /opt/anaconda3/lib/python3.11/site-packages (from symspellpy) (0.1.5)\n",
      "\n",
      "\u001b[1m[\u001b[0m\u001b[34;49mnotice\u001b[0m\u001b[1;39;49m]\u001b[0m\u001b[39;49m A new release of pip is available: \u001b[0m\u001b[31;49m24.3.1\u001b[0m\u001b[39;49m -> \u001b[0m\u001b[32;49m25.1.1\u001b[0m\n",
      "\u001b[1m[\u001b[0m\u001b[34;49mnotice\u001b[0m\u001b[1;39;49m]\u001b[0m\u001b[39;49m To update, run: \u001b[0m\u001b[32;49mpip install --upgrade pip\u001b[0m\n",
      "Note: you may need to restart the kernel to use updated packages.\n"
     ]
    }
   ],
   "source": [
    "%pip install symspellpy"
   ]
  },
  {
   "cell_type": "code",
   "execution_count": 5,
   "metadata": {},
   "outputs": [],
   "source": [
    "#import kagglehub\n",
    "import os\n",
    "import shutil\n",
    "import pandas as pd\n",
    "\n",
    "import numpy as np\n",
    "from symspellpy.symspellpy import SymSpell, Verbosity\n",
    "\n",
    "import matplotlib.pyplot as plt\n",
    "import seaborn as sns\n",
    "\n",
    "import re\n",
    "import string\n",
    "\n",
    "import pandas as pd\n",
    "import re\n",
    "from nltk.corpus import stopwords\n",
    "import nltk\n",
    "from nltk.stem import PorterStemmer\n",
    "\n",
    "\n",
    "from sklearn.feature_extraction.text import TfidfVectorizer\n",
    "\n",
    "from gensim.models import Word2Vec,LdaMulticore, TfidfModel\n",
    "from gensim.models.doc2vec import Doc2Vec, TaggedDocument\n",
    "\n",
    "from gensim import corpora\n",
    "from gensim.models import LdaModel\n",
    "\n"
   ]
  },
  {
   "cell_type": "code",
   "execution_count": 6,
   "metadata": {},
   "outputs": [],
   "source": [
    "from gensim.models import Word2Vec,LdaMulticore, TfidfModel\n",
    "from gensim.models.doc2vec import Doc2Vec, TaggedDocument\n",
    "\n",
    "from gensim import corpora\n",
    "from gensim.models import LdaModel"
   ]
  },
  {
   "cell_type": "code",
   "execution_count": 7,
   "metadata": {},
   "outputs": [],
   "source": [
    "from backports import tarfile"
   ]
  },
  {
   "cell_type": "code",
   "execution_count": 8,
   "metadata": {},
   "outputs": [
    {
     "name": "stderr",
     "output_type": "stream",
     "text": [
      "/var/folders/zv/4f9cw9vs6tjbvz5bh2k07w_40000gn/T/ipykernel_94560/1894539248.py:1: DeprecationWarning: pkg_resources is deprecated as an API. See https://setuptools.pypa.io/en/latest/pkg_resources.html\n",
      "  import pkg_resources\n"
     ]
    }
   ],
   "source": [
    "import pkg_resources"
   ]
  },
  {
   "cell_type": "code",
   "execution_count": 9,
   "metadata": {},
   "outputs": [],
   "source": [
    "from Bio import Entrez\n",
    "import time\n",
    "import xml.etree.ElementTree as ET\n",
    "\n",
    "import pandas as pd\n",
    "from datetime import datetime\n",
    "import numpy as np\n"
   ]
  },
  {
   "cell_type": "markdown",
   "metadata": {},
   "source": [
    "# Get articles from PubMed"
   ]
  },
  {
   "cell_type": "code",
   "execution_count": 10,
   "metadata": {},
   "outputs": [],
   "source": [
    "Entrez.email = \"gracefujinaga@gmail.com\"\n",
    "\n",
    "def get_ids(query, num_ids=10000, batch_size=500, delay=0.5):\n",
    "    ids = []\n",
    "    for start in range(0, num_ids, batch_size):\n",
    "        handle = Entrez.esearch(\n",
    "            db=\"pubmed\",\n",
    "            term=query,\n",
    "            retstart=start,\n",
    "            retmax=batch_size,\n",
    "        )\n",
    "        record = Entrez.read(handle)\n",
    "        ids.extend(record[\"IdList\"])\n",
    "        time.sleep(delay)\n",
    "\n",
    "        # stop early if we need to\n",
    "        if len(record[\"IdList\"]) < batch_size:\n",
    "            break\n",
    "\n",
    "    print(f\"Retrieved {len(ids)} IDs\")\n",
    "    return ids\n"
   ]
  },
  {
   "cell_type": "code",
   "execution_count": 11,
   "metadata": {},
   "outputs": [
    {
     "name": "stdout",
     "output_type": "stream",
     "text": [
      "Retrieved 9999 IDs\n"
     ]
    }
   ],
   "source": [
    "ids = get_ids('erectile dysfunction')"
   ]
  },
  {
   "cell_type": "code",
   "execution_count": 12,
   "metadata": {},
   "outputs": [],
   "source": [
    "id_df = pd.DataFrame(ids, columns=['article_id'])\n",
    "\n",
    "id_df.to_csv('/Users/gracefujinaga/womens_health/data/ed_id_dataframe.csv')"
   ]
  },
  {
   "cell_type": "code",
   "execution_count": 13,
   "metadata": {},
   "outputs": [],
   "source": [
    "from bs4 import BeautifulSoup\n",
    "\n",
    "def parse_mesh_list(mesh_list_obj):\n",
    "    # If it's a list like in your example:\n",
    "    return [str(el) for el in mesh_list_obj[0]]"
   ]
  },
  {
   "cell_type": "code",
   "execution_count": 14,
   "metadata": {},
   "outputs": [],
   "source": [
    "from Bio import Entrez\n",
    "from time import sleep\n",
    "import xml.etree.ElementTree as ET\n",
    "\n",
    "\n",
    "def fetch_pubmed_metadata(id_list, batch_size=100, delay=0.4):\n",
    "    results = []\n",
    "\n",
    "    for i in range(0, len(id_list), batch_size):\n",
    "        batch_ids = id_list[i:i + batch_size]\n",
    "        handle = Entrez.efetch(db=\"pubmed\", id=','.join(batch_ids), retmode=\"xml\")\n",
    "        records = Entrez.read(handle)\n",
    "\n",
    "        for article in records['PubmedArticle']:\n",
    "            article_data = {}\n",
    "\n",
    "            # Title\n",
    "            title = article['MedlineCitation']['Article'].get('ArticleTitle', 'No title')\n",
    "\n",
    "            # Abstract\n",
    "            abstract = article['MedlineCitation']['Article'].get('Abstract', {}).get('AbstractText', ['No abstract'])\n",
    "            abstract_text = ' '.join(str(a) for a in abstract)\n",
    "\n",
    "            # Authors\n",
    "            author_list = article['MedlineCitation']['Article'].get('AuthorList', [])\n",
    "            authors = []\n",
    "            for a in author_list:\n",
    "                lastname = a.get('LastName', '')\n",
    "                firstname = a.get('ForeName', '')\n",
    "                if lastname or firstname:\n",
    "                    authors.append(f\"{firstname} {lastname}\".strip())\n",
    "            authors_text = '; '.join(authors) if authors else \"No authors\"\n",
    "\n",
    "            # Journal / Publisher\n",
    "            journal = article['MedlineCitation']['Article']['Journal'].get('Title', 'No journal')\n",
    "\n",
    "            # Date of Publication\n",
    "            pub_date = article['MedlineCitation']['Article']['Journal']['JournalIssue'].get('PubDate', {})\n",
    "            year = pub_date.get('Year', '')\n",
    "            month = pub_date.get('Month', '')\n",
    "            day = pub_date.get('Day', '')\n",
    "            pub_date_formatted = f\"{year}-{month}-{day}\".strip('-')\n",
    "\n",
    "            # key words - list of words\n",
    "            try:\n",
    "                keywords = parse_mesh_list(article['MedlineCitation']['KeywordList'])\n",
    "            except:\n",
    "                keywords = None\n",
    "\n",
    "            # get id\n",
    "            pmid = article['MedlineCitation']['PMID']\n",
    "            article_data['pmid'] = str(pmid)\n",
    "\n",
    "            article_data['title'] = title\n",
    "            article_data['keywords'] = keywords\n",
    "            article_data['abstract'] = abstract_text\n",
    "            article_data['authors'] = authors_text\n",
    "            article_data['journal'] = journal\n",
    "            article_data['pub_date'] = pub_date_formatted\n",
    "\n",
    "            results.append(article_data)\n",
    "\n",
    "        time.sleep(delay) \n",
    "    return results\n"
   ]
  },
  {
   "cell_type": "code",
   "execution_count": 15,
   "metadata": {},
   "outputs": [],
   "source": [
    "ed_article_metadata = fetch_pubmed_metadata(ids)"
   ]
  },
  {
   "cell_type": "code",
   "execution_count": 16,
   "metadata": {},
   "outputs": [
    {
     "data": {
      "text/plain": [
       "9967"
      ]
     },
     "execution_count": 16,
     "metadata": {},
     "output_type": "execute_result"
    }
   ],
   "source": [
    "len(ed_article_metadata)"
   ]
  },
  {
   "cell_type": "code",
   "execution_count": 17,
   "metadata": {},
   "outputs": [],
   "source": [
    "df = pd.DataFrame(ed_article_metadata)"
   ]
  },
  {
   "cell_type": "code",
   "execution_count": 18,
   "metadata": {},
   "outputs": [],
   "source": [
    "df.to_csv('data/ed_article_data.csv', index=False)"
   ]
  },
  {
   "cell_type": "code",
   "execution_count": 19,
   "metadata": {},
   "outputs": [
    {
     "data": {
      "text/plain": [
       "pmid                                               26429202\n",
       "title       Gout and Association with Erectile Dysfunction.\n",
       "keywords                                               None\n",
       "abstract                                        No abstract\n",
       "authors                                      Allan C Gelber\n",
       "journal                         The Journal of rheumatology\n",
       "pub_date                                           2015-Oct\n",
       "Name: 9966, dtype: object"
      ]
     },
     "execution_count": 19,
     "metadata": {},
     "output_type": "execute_result"
    }
   ],
   "source": [
    "df.iloc[-1]"
   ]
  },
  {
   "cell_type": "markdown",
   "metadata": {},
   "source": [
    "# MORE DATA"
   ]
  },
  {
   "cell_type": "code",
   "execution_count": 86,
   "metadata": {},
   "outputs": [],
   "source": [
    "with open(\"/Users/gracefujinaga/womens_health/data/menopause_ids.txt\") as f:\n",
    "    id_list = [line.strip() for line in f if line.strip()]"
   ]
  },
  {
   "cell_type": "code",
   "execution_count": 87,
   "metadata": {},
   "outputs": [
    {
     "data": {
      "text/plain": [
       "100606"
      ]
     },
     "execution_count": 87,
     "metadata": {},
     "output_type": "execute_result"
    }
   ],
   "source": [
    "len(id_list)"
   ]
  },
  {
   "cell_type": "code",
   "execution_count": 22,
   "metadata": {},
   "outputs": [],
   "source": [
    "menopause_article_metadata = fetch_pubmed_metadata(id_list, 1000, 0.5)"
   ]
  },
  {
   "cell_type": "code",
   "execution_count": 23,
   "metadata": {},
   "outputs": [],
   "source": [
    "df = pd.DataFrame(menopause_article_metadata)"
   ]
  },
  {
   "cell_type": "code",
   "execution_count": 24,
   "metadata": {},
   "outputs": [],
   "source": [
    "df.to_csv('/Users/gracefujinaga/womens_health/data/all_menopause_data.csv')"
   ]
  },
  {
   "cell_type": "markdown",
   "metadata": {},
   "source": [
    "# EDA"
   ]
  },
  {
   "cell_type": "code",
   "execution_count": 88,
   "metadata": {},
   "outputs": [],
   "source": [
    "df = pd.read_csv('data/all_menopause_data.csv')"
   ]
  },
  {
   "cell_type": "code",
   "execution_count": 89,
   "metadata": {},
   "outputs": [
    {
     "data": {
      "text/html": [
       "<div>\n",
       "<style scoped>\n",
       "    .dataframe tbody tr th:only-of-type {\n",
       "        vertical-align: middle;\n",
       "    }\n",
       "\n",
       "    .dataframe tbody tr th {\n",
       "        vertical-align: top;\n",
       "    }\n",
       "\n",
       "    .dataframe thead th {\n",
       "        text-align: right;\n",
       "    }\n",
       "</style>\n",
       "<table border=\"1\" class=\"dataframe\">\n",
       "  <thead>\n",
       "    <tr style=\"text-align: right;\">\n",
       "      <th></th>\n",
       "      <th>Unnamed: 0</th>\n",
       "      <th>pmid</th>\n",
       "      <th>title</th>\n",
       "      <th>keywords</th>\n",
       "      <th>abstract</th>\n",
       "      <th>authors</th>\n",
       "      <th>journal</th>\n",
       "      <th>pub_date</th>\n",
       "    </tr>\n",
       "  </thead>\n",
       "  <tbody>\n",
       "    <tr>\n",
       "      <th>0</th>\n",
       "      <td>0</td>\n",
       "      <td>1697</td>\n",
       "      <td>Treatment of ovarian hyperstimulation syndrome...</td>\n",
       "      <td>NaN</td>\n",
       "      <td>Ovarian hyperstimulation was produced by human...</td>\n",
       "      <td>R Z Gergely; E Paldi; Y Erlik; A Makler</td>\n",
       "      <td>Obstetrics and gynecology</td>\n",
       "      <td>1976-Jan</td>\n",
       "    </tr>\n",
       "    <tr>\n",
       "      <th>1</th>\n",
       "      <td>1</td>\n",
       "      <td>2274</td>\n",
       "      <td>Circulating levels of prolactin in human breas...</td>\n",
       "      <td>NaN</td>\n",
       "      <td>Serum prolactin concentrations were measured b...</td>\n",
       "      <td>N A Sheth; K J Ranadive; J N Suraiya; A R Sheth</td>\n",
       "      <td>British journal of cancer</td>\n",
       "      <td>1975-Aug</td>\n",
       "    </tr>\n",
       "    <tr>\n",
       "      <th>2</th>\n",
       "      <td>2</td>\n",
       "      <td>2401</td>\n",
       "      <td>Experience with a simple method for estrogen r...</td>\n",
       "      <td>NaN</td>\n",
       "      <td>A simple procedure for the assay of specific e...</td>\n",
       "      <td>L Liskowski; D P Rose</td>\n",
       "      <td>Clinica chimica acta; international journal of...</td>\n",
       "      <td>1976-Mar-01</td>\n",
       "    </tr>\n",
       "    <tr>\n",
       "      <th>3</th>\n",
       "      <td>3</td>\n",
       "      <td>4380</td>\n",
       "      <td>Age at the menopause and onset of the climacte...</td>\n",
       "      <td>NaN</td>\n",
       "      <td>In this study, 6877 women were analysed whose ...</td>\n",
       "      <td>V Magurský; M Mesko; L Sokolík</td>\n",
       "      <td>International journal of fertility</td>\n",
       "      <td>1975</td>\n",
       "    </tr>\n",
       "    <tr>\n",
       "      <th>4</th>\n",
       "      <td>4</td>\n",
       "      <td>6351</td>\n",
       "      <td>Effect of hysterectomy, oophorectomy and estro...</td>\n",
       "      <td>NaN</td>\n",
       "      <td>No abstract</td>\n",
       "      <td>W H Utian</td>\n",
       "      <td>International journal of gynaecology and obste...</td>\n",
       "      <td>1975</td>\n",
       "    </tr>\n",
       "  </tbody>\n",
       "</table>\n",
       "</div>"
      ],
      "text/plain": [
       "   Unnamed: 0  pmid                                              title  \\\n",
       "0           0  1697  Treatment of ovarian hyperstimulation syndrome...   \n",
       "1           1  2274  Circulating levels of prolactin in human breas...   \n",
       "2           2  2401  Experience with a simple method for estrogen r...   \n",
       "3           3  4380  Age at the menopause and onset of the climacte...   \n",
       "4           4  6351  Effect of hysterectomy, oophorectomy and estro...   \n",
       "\n",
       "  keywords                                           abstract  \\\n",
       "0      NaN  Ovarian hyperstimulation was produced by human...   \n",
       "1      NaN  Serum prolactin concentrations were measured b...   \n",
       "2      NaN  A simple procedure for the assay of specific e...   \n",
       "3      NaN  In this study, 6877 women were analysed whose ...   \n",
       "4      NaN                                        No abstract   \n",
       "\n",
       "                                           authors  \\\n",
       "0          R Z Gergely; E Paldi; Y Erlik; A Makler   \n",
       "1  N A Sheth; K J Ranadive; J N Suraiya; A R Sheth   \n",
       "2                            L Liskowski; D P Rose   \n",
       "3                   V Magurský; M Mesko; L Sokolík   \n",
       "4                                        W H Utian   \n",
       "\n",
       "                                             journal     pub_date  \n",
       "0                          Obstetrics and gynecology     1976-Jan  \n",
       "1                          British journal of cancer     1975-Aug  \n",
       "2  Clinica chimica acta; international journal of...  1976-Mar-01  \n",
       "3                 International journal of fertility         1975  \n",
       "4  International journal of gynaecology and obste...         1975  "
      ]
     },
     "execution_count": 89,
     "metadata": {},
     "output_type": "execute_result"
    }
   ],
   "source": [
    "df.head()"
   ]
  },
  {
   "cell_type": "code",
   "execution_count": 90,
   "metadata": {},
   "outputs": [
    {
     "data": {
      "text/plain": [
       "Unnamed: 0     int64\n",
       "pmid           int64\n",
       "title         object\n",
       "keywords      object\n",
       "abstract      object\n",
       "authors       object\n",
       "journal       object\n",
       "pub_date      object\n",
       "dtype: object"
      ]
     },
     "execution_count": 90,
     "metadata": {},
     "output_type": "execute_result"
    }
   ],
   "source": [
    "df.dtypes"
   ]
  },
  {
   "cell_type": "markdown",
   "metadata": {},
   "source": [
    "## Data Cleaning"
   ]
  },
  {
   "cell_type": "markdown",
   "metadata": {},
   "source": [
    "### Convert to Date"
   ]
  },
  {
   "cell_type": "code",
   "execution_count": 91,
   "metadata": {},
   "outputs": [
    {
     "data": {
      "text/plain": [
       "0            1976-Jan\n",
       "1            1975-Aug\n",
       "2         1976-Mar-01\n",
       "3                1975\n",
       "4                1975\n",
       "             ...     \n",
       "100478    2025-May-02\n",
       "100479           2025\n",
       "100480       2025-Mar\n",
       "100481    2025-Apr-23\n",
       "100482    2025-May-02\n",
       "Name: pub_date, Length: 100483, dtype: object"
      ]
     },
     "execution_count": 91,
     "metadata": {},
     "output_type": "execute_result"
    }
   ],
   "source": [
    "df['pub_date']"
   ]
  },
  {
   "cell_type": "code",
   "execution_count": 92,
   "metadata": {},
   "outputs": [],
   "source": [
    "# date formats\n",
    "date_formats = [\n",
    "    \"%Y-%b-%d\",  # 2025-Apr-22\n",
    "    \"%Y-%b\",     # 2022-Sep\n",
    "    \"%Y\",        # 2023\n",
    "]\n",
    "\n",
    "# parse different formats\n",
    "def parse_date(date_str):\n",
    "    if pd.isna(date_str):\n",
    "        return pd.NaT\n",
    "    for fmt in date_formats:\n",
    "        try:\n",
    "            return datetime.strptime(date_str, fmt)\n",
    "        except ValueError:\n",
    "            continue\n",
    "    return pd.NaT\n",
    "\n",
    "# Apply the function\n",
    "df['pub_date_parsed'] = df['pub_date'].apply(parse_date)"
   ]
  },
  {
   "cell_type": "code",
   "execution_count": 93,
   "metadata": {},
   "outputs": [
    {
     "name": "stdout",
     "output_type": "stream",
     "text": [
      "284\n"
     ]
    },
    {
     "data": {
      "text/html": [
       "<div>\n",
       "<style scoped>\n",
       "    .dataframe tbody tr th:only-of-type {\n",
       "        vertical-align: middle;\n",
       "    }\n",
       "\n",
       "    .dataframe tbody tr th {\n",
       "        vertical-align: top;\n",
       "    }\n",
       "\n",
       "    .dataframe thead th {\n",
       "        text-align: right;\n",
       "    }\n",
       "</style>\n",
       "<table border=\"1\" class=\"dataframe\">\n",
       "  <thead>\n",
       "    <tr style=\"text-align: right;\">\n",
       "      <th></th>\n",
       "      <th>Unnamed: 0</th>\n",
       "      <th>pmid</th>\n",
       "      <th>title</th>\n",
       "      <th>keywords</th>\n",
       "      <th>abstract</th>\n",
       "      <th>authors</th>\n",
       "      <th>journal</th>\n",
       "      <th>pub_date</th>\n",
       "      <th>pub_date_parsed</th>\n",
       "    </tr>\n",
       "  </thead>\n",
       "  <tbody>\n",
       "    <tr>\n",
       "      <th>65</th>\n",
       "      <td>65</td>\n",
       "      <td>60992</td>\n",
       "      <td>Endocrine and metabolic indices during progest...</td>\n",
       "      <td>NaN</td>\n",
       "      <td>Quingestanol at 300 y/day was well tolerated d...</td>\n",
       "      <td>T S Danowski; J H Sunder; S Nolan; T Stephan; ...</td>\n",
       "      <td>Behavioral neuropsychiatry</td>\n",
       "      <td>NaN</td>\n",
       "      <td>NaT</td>\n",
       "    </tr>\n",
       "    <tr>\n",
       "      <th>362</th>\n",
       "      <td>362</td>\n",
       "      <td>220722</td>\n",
       "      <td>[Current research in therapy of postmenopausal...</td>\n",
       "      <td>NaN</td>\n",
       "      <td>The goals of osteoporosis treatment are not on...</td>\n",
       "      <td>C Laroche; M Detilleux; D Sereni</td>\n",
       "      <td>La semaine des hopitaux : organe fonde par l'A...</td>\n",
       "      <td>NaN</td>\n",
       "      <td>NaT</td>\n",
       "    </tr>\n",
       "    <tr>\n",
       "      <th>749</th>\n",
       "      <td>749</td>\n",
       "      <td>459064</td>\n",
       "      <td>The myth of involutional melancholia.</td>\n",
       "      <td>NaN</td>\n",
       "      <td>Depressions occurring in the menopausal years ...</td>\n",
       "      <td>M M Weissman</td>\n",
       "      <td>JAMA</td>\n",
       "      <td>NaN</td>\n",
       "      <td>NaT</td>\n",
       "    </tr>\n",
       "    <tr>\n",
       "      <th>802</th>\n",
       "      <td>802</td>\n",
       "      <td>481761</td>\n",
       "      <td>[Evaluation of survival in a sample of patient...</td>\n",
       "      <td>NaN</td>\n",
       "      <td>Survival and its modalities were studied in 40...</td>\n",
       "      <td>S Abeatici; G Sera; N Palestini</td>\n",
       "      <td>Minerva chirurgica</td>\n",
       "      <td>NaN</td>\n",
       "      <td>NaT</td>\n",
       "    </tr>\n",
       "    <tr>\n",
       "      <th>906</th>\n",
       "      <td>906</td>\n",
       "      <td>537468</td>\n",
       "      <td>The effect of acutely administered 2-hydroxyes...</td>\n",
       "      <td>NaN</td>\n",
       "      <td>No abstract</td>\n",
       "      <td>E Y Adashi; J Rakoff; W Divers; J Fishman; S S...</td>\n",
       "      <td>Life sciences</td>\n",
       "      <td>NaN</td>\n",
       "      <td>NaT</td>\n",
       "    </tr>\n",
       "    <tr>\n",
       "      <th>...</th>\n",
       "      <td>...</td>\n",
       "      <td>...</td>\n",
       "      <td>...</td>\n",
       "      <td>...</td>\n",
       "      <td>...</td>\n",
       "      <td>...</td>\n",
       "      <td>...</td>\n",
       "      <td>...</td>\n",
       "      <td>...</td>\n",
       "    </tr>\n",
       "    <tr>\n",
       "      <th>96939</th>\n",
       "      <td>96939</td>\n",
       "      <td>38717964</td>\n",
       "      <td>The Future for Women's and Gender-Related Heal...</td>\n",
       "      <td>NaN</td>\n",
       "      <td>This commentary examines the future of women's...</td>\n",
       "      <td>Komkwuan P Paruchabutr</td>\n",
       "      <td>The Journal of perinatal &amp; neonatal nursing</td>\n",
       "      <td>NaN</td>\n",
       "      <td>NaT</td>\n",
       "    </tr>\n",
       "    <tr>\n",
       "      <th>97038</th>\n",
       "      <td>97038</td>\n",
       "      <td>38758262</td>\n",
       "      <td>ACNM's Commentary on the Midwifery Workforce i...</td>\n",
       "      <td>NaN</td>\n",
       "      <td>The American College of Nurse-Midwives (ACNM) ...</td>\n",
       "      <td>Heather Clarke; Karen Jefferson</td>\n",
       "      <td>The Journal of perinatal &amp; neonatal nursing</td>\n",
       "      <td>NaN</td>\n",
       "      <td>NaT</td>\n",
       "    </tr>\n",
       "    <tr>\n",
       "      <th>97765</th>\n",
       "      <td>97765</td>\n",
       "      <td>39082616</td>\n",
       "      <td>Intrarater and Interrater Reliability of Quant...</td>\n",
       "      <td>NaN</td>\n",
       "      <td>Quantitative ultrasound (QUS) performed at the...</td>\n",
       "      <td>Cynthia J Watson; Matthew J de Ruig; Kent T Sa...</td>\n",
       "      <td>Journal of geriatric physical therapy (2001)</td>\n",
       "      <td>NaN</td>\n",
       "      <td>NaT</td>\n",
       "    </tr>\n",
       "    <tr>\n",
       "      <th>97834</th>\n",
       "      <td>97834</td>\n",
       "      <td>39120136</td>\n",
       "      <td>Effect of Acupressure on Menopausal Symptoms a...</td>\n",
       "      <td>NaN</td>\n",
       "      <td>This study was conducted as a randomized contr...</td>\n",
       "      <td>Ahu Aksoy Can; Duygu Vefikuluçay Yilmaz</td>\n",
       "      <td>Holistic nursing practice</td>\n",
       "      <td>NaN</td>\n",
       "      <td>NaT</td>\n",
       "    </tr>\n",
       "    <tr>\n",
       "      <th>97847</th>\n",
       "      <td>97847</td>\n",
       "      <td>39129431</td>\n",
       "      <td>DXA-Measured Abdominal Adipose Depots and Stru...</td>\n",
       "      <td>NaN</td>\n",
       "      <td>This study extends prior research from the MRI...</td>\n",
       "      <td>Zeinah Al-Darsani; Hailey R Banack; Mallory N ...</td>\n",
       "      <td>Alzheimer disease and associated disorders</td>\n",
       "      <td>NaN</td>\n",
       "      <td>NaT</td>\n",
       "    </tr>\n",
       "  </tbody>\n",
       "</table>\n",
       "<p>284 rows × 9 columns</p>\n",
       "</div>"
      ],
      "text/plain": [
       "       Unnamed: 0      pmid  \\\n",
       "65             65     60992   \n",
       "362           362    220722   \n",
       "749           749    459064   \n",
       "802           802    481761   \n",
       "906           906    537468   \n",
       "...           ...       ...   \n",
       "96939       96939  38717964   \n",
       "97038       97038  38758262   \n",
       "97765       97765  39082616   \n",
       "97834       97834  39120136   \n",
       "97847       97847  39129431   \n",
       "\n",
       "                                                   title keywords  \\\n",
       "65     Endocrine and metabolic indices during progest...      NaN   \n",
       "362    [Current research in therapy of postmenopausal...      NaN   \n",
       "749                The myth of involutional melancholia.      NaN   \n",
       "802    [Evaluation of survival in a sample of patient...      NaN   \n",
       "906    The effect of acutely administered 2-hydroxyes...      NaN   \n",
       "...                                                  ...      ...   \n",
       "96939  The Future for Women's and Gender-Related Heal...      NaN   \n",
       "97038  ACNM's Commentary on the Midwifery Workforce i...      NaN   \n",
       "97765  Intrarater and Interrater Reliability of Quant...      NaN   \n",
       "97834  Effect of Acupressure on Menopausal Symptoms a...      NaN   \n",
       "97847  DXA-Measured Abdominal Adipose Depots and Stru...      NaN   \n",
       "\n",
       "                                                abstract  \\\n",
       "65     Quingestanol at 300 y/day was well tolerated d...   \n",
       "362    The goals of osteoporosis treatment are not on...   \n",
       "749    Depressions occurring in the menopausal years ...   \n",
       "802    Survival and its modalities were studied in 40...   \n",
       "906                                          No abstract   \n",
       "...                                                  ...   \n",
       "96939  This commentary examines the future of women's...   \n",
       "97038  The American College of Nurse-Midwives (ACNM) ...   \n",
       "97765  Quantitative ultrasound (QUS) performed at the...   \n",
       "97834  This study was conducted as a randomized contr...   \n",
       "97847  This study extends prior research from the MRI...   \n",
       "\n",
       "                                                 authors  \\\n",
       "65     T S Danowski; J H Sunder; S Nolan; T Stephan; ...   \n",
       "362                     C Laroche; M Detilleux; D Sereni   \n",
       "749                                         M M Weissman   \n",
       "802                      S Abeatici; G Sera; N Palestini   \n",
       "906    E Y Adashi; J Rakoff; W Divers; J Fishman; S S...   \n",
       "...                                                  ...   \n",
       "96939                             Komkwuan P Paruchabutr   \n",
       "97038                    Heather Clarke; Karen Jefferson   \n",
       "97765  Cynthia J Watson; Matthew J de Ruig; Kent T Sa...   \n",
       "97834            Ahu Aksoy Can; Duygu Vefikuluçay Yilmaz   \n",
       "97847  Zeinah Al-Darsani; Hailey R Banack; Mallory N ...   \n",
       "\n",
       "                                                 journal pub_date  \\\n",
       "65                            Behavioral neuropsychiatry      NaN   \n",
       "362    La semaine des hopitaux : organe fonde par l'A...      NaN   \n",
       "749                                                 JAMA      NaN   \n",
       "802                                   Minerva chirurgica      NaN   \n",
       "906                                        Life sciences      NaN   \n",
       "...                                                  ...      ...   \n",
       "96939        The Journal of perinatal & neonatal nursing      NaN   \n",
       "97038        The Journal of perinatal & neonatal nursing      NaN   \n",
       "97765       Journal of geriatric physical therapy (2001)      NaN   \n",
       "97834                          Holistic nursing practice      NaN   \n",
       "97847         Alzheimer disease and associated disorders      NaN   \n",
       "\n",
       "      pub_date_parsed  \n",
       "65                NaT  \n",
       "362               NaT  \n",
       "749               NaT  \n",
       "802               NaT  \n",
       "906               NaT  \n",
       "...               ...  \n",
       "96939             NaT  \n",
       "97038             NaT  \n",
       "97765             NaT  \n",
       "97834             NaT  \n",
       "97847             NaT  \n",
       "\n",
       "[284 rows x 9 columns]"
      ]
     },
     "execution_count": 93,
     "metadata": {},
     "output_type": "execute_result"
    }
   ],
   "source": [
    "print(df['pub_date_parsed'].isna().sum())\n",
    "\n",
    "# results in 27 nat\n",
    "df[df['pub_date_parsed'].isna()]"
   ]
  },
  {
   "cell_type": "code",
   "execution_count": 158,
   "metadata": {},
   "outputs": [
    {
     "name": "stdout",
     "output_type": "stream",
     "text": [
      "1870-10-22 00:00:00\n",
      "2025-12-21 00:00:00\n"
     ]
    }
   ],
   "source": [
    "print(df['pub_date_parsed'].min())\n",
    "print(df['pub_date_parsed'].max())"
   ]
  },
  {
   "cell_type": "markdown",
   "metadata": {},
   "source": [
    "### Handle NaN values"
   ]
  },
  {
   "cell_type": "code",
   "execution_count": 94,
   "metadata": {},
   "outputs": [
    {
     "data": {
      "text/html": [
       "<div>\n",
       "<style scoped>\n",
       "    .dataframe tbody tr th:only-of-type {\n",
       "        vertical-align: middle;\n",
       "    }\n",
       "\n",
       "    .dataframe tbody tr th {\n",
       "        vertical-align: top;\n",
       "    }\n",
       "\n",
       "    .dataframe thead th {\n",
       "        text-align: right;\n",
       "    }\n",
       "</style>\n",
       "<table border=\"1\" class=\"dataframe\">\n",
       "  <thead>\n",
       "    <tr style=\"text-align: right;\">\n",
       "      <th></th>\n",
       "      <th>Unnamed: 0</th>\n",
       "      <th>pmid</th>\n",
       "      <th>title</th>\n",
       "      <th>keywords</th>\n",
       "      <th>abstract</th>\n",
       "      <th>authors</th>\n",
       "      <th>journal</th>\n",
       "      <th>pub_date</th>\n",
       "      <th>pub_date_parsed</th>\n",
       "    </tr>\n",
       "  </thead>\n",
       "  <tbody>\n",
       "  </tbody>\n",
       "</table>\n",
       "</div>"
      ],
      "text/plain": [
       "Empty DataFrame\n",
       "Columns: [Unnamed: 0, pmid, title, keywords, abstract, authors, journal, pub_date, pub_date_parsed]\n",
       "Index: []"
      ]
     },
     "execution_count": 94,
     "metadata": {},
     "output_type": "execute_result"
    }
   ],
   "source": [
    "df[df['title'].isna()]"
   ]
  },
  {
   "cell_type": "code",
   "execution_count": 95,
   "metadata": {},
   "outputs": [
    {
     "data": {
      "text/html": [
       "<div>\n",
       "<style scoped>\n",
       "    .dataframe tbody tr th:only-of-type {\n",
       "        vertical-align: middle;\n",
       "    }\n",
       "\n",
       "    .dataframe tbody tr th {\n",
       "        vertical-align: top;\n",
       "    }\n",
       "\n",
       "    .dataframe thead th {\n",
       "        text-align: right;\n",
       "    }\n",
       "</style>\n",
       "<table border=\"1\" class=\"dataframe\">\n",
       "  <thead>\n",
       "    <tr style=\"text-align: right;\">\n",
       "      <th></th>\n",
       "      <th>Unnamed: 0</th>\n",
       "      <th>pmid</th>\n",
       "      <th>title</th>\n",
       "      <th>keywords</th>\n",
       "      <th>abstract</th>\n",
       "      <th>authors</th>\n",
       "      <th>journal</th>\n",
       "      <th>pub_date</th>\n",
       "      <th>pub_date_parsed</th>\n",
       "    </tr>\n",
       "  </thead>\n",
       "  <tbody>\n",
       "  </tbody>\n",
       "</table>\n",
       "</div>"
      ],
      "text/plain": [
       "Empty DataFrame\n",
       "Columns: [Unnamed: 0, pmid, title, keywords, abstract, authors, journal, pub_date, pub_date_parsed]\n",
       "Index: []"
      ]
     },
     "execution_count": 95,
     "metadata": {},
     "output_type": "execute_result"
    }
   ],
   "source": [
    "df[df['abstract'].isna()]"
   ]
  },
  {
   "cell_type": "code",
   "execution_count": 96,
   "metadata": {},
   "outputs": [
    {
     "data": {
      "text/html": [
       "<div>\n",
       "<style scoped>\n",
       "    .dataframe tbody tr th:only-of-type {\n",
       "        vertical-align: middle;\n",
       "    }\n",
       "\n",
       "    .dataframe tbody tr th {\n",
       "        vertical-align: top;\n",
       "    }\n",
       "\n",
       "    .dataframe thead th {\n",
       "        text-align: right;\n",
       "    }\n",
       "</style>\n",
       "<table border=\"1\" class=\"dataframe\">\n",
       "  <thead>\n",
       "    <tr style=\"text-align: right;\">\n",
       "      <th></th>\n",
       "      <th>Unnamed: 0</th>\n",
       "      <th>pmid</th>\n",
       "      <th>title</th>\n",
       "      <th>keywords</th>\n",
       "      <th>abstract</th>\n",
       "      <th>authors</th>\n",
       "      <th>journal</th>\n",
       "      <th>pub_date</th>\n",
       "      <th>pub_date_parsed</th>\n",
       "    </tr>\n",
       "  </thead>\n",
       "  <tbody>\n",
       "  </tbody>\n",
       "</table>\n",
       "</div>"
      ],
      "text/plain": [
       "Empty DataFrame\n",
       "Columns: [Unnamed: 0, pmid, title, keywords, abstract, authors, journal, pub_date, pub_date_parsed]\n",
       "Index: []"
      ]
     },
     "execution_count": 96,
     "metadata": {},
     "output_type": "execute_result"
    }
   ],
   "source": [
    "df[df['journal'].isna()]"
   ]
  },
  {
   "cell_type": "code",
   "execution_count": 97,
   "metadata": {},
   "outputs": [
    {
     "data": {
      "text/html": [
       "<div>\n",
       "<style scoped>\n",
       "    .dataframe tbody tr th:only-of-type {\n",
       "        vertical-align: middle;\n",
       "    }\n",
       "\n",
       "    .dataframe tbody tr th {\n",
       "        vertical-align: top;\n",
       "    }\n",
       "\n",
       "    .dataframe thead th {\n",
       "        text-align: right;\n",
       "    }\n",
       "</style>\n",
       "<table border=\"1\" class=\"dataframe\">\n",
       "  <thead>\n",
       "    <tr style=\"text-align: right;\">\n",
       "      <th></th>\n",
       "      <th>Unnamed: 0</th>\n",
       "      <th>pmid</th>\n",
       "      <th>title</th>\n",
       "      <th>keywords</th>\n",
       "      <th>abstract</th>\n",
       "      <th>authors</th>\n",
       "      <th>journal</th>\n",
       "      <th>pub_date</th>\n",
       "      <th>pub_date_parsed</th>\n",
       "    </tr>\n",
       "  </thead>\n",
       "  <tbody>\n",
       "    <tr>\n",
       "      <th>0</th>\n",
       "      <td>0</td>\n",
       "      <td>1697</td>\n",
       "      <td>Treatment of ovarian hyperstimulation syndrome...</td>\n",
       "      <td>NaN</td>\n",
       "      <td>Ovarian hyperstimulation was produced by human...</td>\n",
       "      <td>R Z Gergely; E Paldi; Y Erlik; A Makler</td>\n",
       "      <td>Obstetrics and gynecology</td>\n",
       "      <td>1976-Jan</td>\n",
       "      <td>1976-01-01</td>\n",
       "    </tr>\n",
       "    <tr>\n",
       "      <th>1</th>\n",
       "      <td>1</td>\n",
       "      <td>2274</td>\n",
       "      <td>Circulating levels of prolactin in human breas...</td>\n",
       "      <td>NaN</td>\n",
       "      <td>Serum prolactin concentrations were measured b...</td>\n",
       "      <td>N A Sheth; K J Ranadive; J N Suraiya; A R Sheth</td>\n",
       "      <td>British journal of cancer</td>\n",
       "      <td>1975-Aug</td>\n",
       "      <td>1975-08-01</td>\n",
       "    </tr>\n",
       "    <tr>\n",
       "      <th>2</th>\n",
       "      <td>2</td>\n",
       "      <td>2401</td>\n",
       "      <td>Experience with a simple method for estrogen r...</td>\n",
       "      <td>NaN</td>\n",
       "      <td>A simple procedure for the assay of specific e...</td>\n",
       "      <td>L Liskowski; D P Rose</td>\n",
       "      <td>Clinica chimica acta; international journal of...</td>\n",
       "      <td>1976-Mar-01</td>\n",
       "      <td>1976-03-01</td>\n",
       "    </tr>\n",
       "    <tr>\n",
       "      <th>3</th>\n",
       "      <td>3</td>\n",
       "      <td>4380</td>\n",
       "      <td>Age at the menopause and onset of the climacte...</td>\n",
       "      <td>NaN</td>\n",
       "      <td>In this study, 6877 women were analysed whose ...</td>\n",
       "      <td>V Magurský; M Mesko; L Sokolík</td>\n",
       "      <td>International journal of fertility</td>\n",
       "      <td>1975</td>\n",
       "      <td>1975-01-01</td>\n",
       "    </tr>\n",
       "    <tr>\n",
       "      <th>4</th>\n",
       "      <td>4</td>\n",
       "      <td>6351</td>\n",
       "      <td>Effect of hysterectomy, oophorectomy and estro...</td>\n",
       "      <td>NaN</td>\n",
       "      <td>No abstract</td>\n",
       "      <td>W H Utian</td>\n",
       "      <td>International journal of gynaecology and obste...</td>\n",
       "      <td>1975</td>\n",
       "      <td>1975-01-01</td>\n",
       "    </tr>\n",
       "    <tr>\n",
       "      <th>...</th>\n",
       "      <td>...</td>\n",
       "      <td>...</td>\n",
       "      <td>...</td>\n",
       "      <td>...</td>\n",
       "      <td>...</td>\n",
       "      <td>...</td>\n",
       "      <td>...</td>\n",
       "      <td>...</td>\n",
       "      <td>...</td>\n",
       "    </tr>\n",
       "    <tr>\n",
       "      <th>100437</th>\n",
       "      <td>100437</td>\n",
       "      <td>40297421</td>\n",
       "      <td>A cross-sectional analysis of the vaginal micr...</td>\n",
       "      <td>NaN</td>\n",
       "      <td>The human microbiota is implicated in the deve...</td>\n",
       "      <td>Marlyd E Mejia; Savannah Bowman; Jessica Lee; ...</td>\n",
       "      <td>medRxiv : the preprint server for health sciences</td>\n",
       "      <td>2025-Apr-13</td>\n",
       "      <td>2025-04-13</td>\n",
       "    </tr>\n",
       "    <tr>\n",
       "      <th>100440</th>\n",
       "      <td>100440</td>\n",
       "      <td>40298120</td>\n",
       "      <td>The AUA/SUFU/AUGS Guideline on Genitourinary S...</td>\n",
       "      <td>NaN</td>\n",
       "      <td>Genitourinary syndrome of menopause (GSM) desc...</td>\n",
       "      <td>Melissa R Kaufman; A Lenore Ackerman; Katherin...</td>\n",
       "      <td>The Journal of urology</td>\n",
       "      <td>2025-Apr-29</td>\n",
       "      <td>2025-04-29</td>\n",
       "    </tr>\n",
       "    <tr>\n",
       "      <th>100441</th>\n",
       "      <td>100441</td>\n",
       "      <td>40298171</td>\n",
       "      <td>Breast Cancer Risk Modification in Women with ...</td>\n",
       "      <td>NaN</td>\n",
       "      <td>There is limited information on whether establ...</td>\n",
       "      <td>Allison W Kurian; Elisha Hughes; Ryan Bernhise...</td>\n",
       "      <td>Cancer research communications</td>\n",
       "      <td>2025-May-01</td>\n",
       "      <td>2025-05-01</td>\n",
       "    </tr>\n",
       "    <tr>\n",
       "      <th>100462</th>\n",
       "      <td>100462</td>\n",
       "      <td>40306365</td>\n",
       "      <td>Menopause in Cystic Fibrosis: Special consider...</td>\n",
       "      <td>NaN</td>\n",
       "      <td>Cystic fibrosis (CF) is a multisystem autosoma...</td>\n",
       "      <td>Sarah Haroon; Crystal Cobb; Sandy Sufian; Raks...</td>\n",
       "      <td>Endocrine practice : official journal of the A...</td>\n",
       "      <td>2025-Apr-28</td>\n",
       "      <td>2025-04-28</td>\n",
       "    </tr>\n",
       "    <tr>\n",
       "      <th>100464</th>\n",
       "      <td>100464</td>\n",
       "      <td>40306948</td>\n",
       "      <td>Coroner calls for specialist menopause care af...</td>\n",
       "      <td>NaN</td>\n",
       "      <td>No abstract</td>\n",
       "      <td>Clare Dyer</td>\n",
       "      <td>BMJ (Clinical research ed.)</td>\n",
       "      <td>2025-Apr-30</td>\n",
       "      <td>2025-04-30</td>\n",
       "    </tr>\n",
       "  </tbody>\n",
       "</table>\n",
       "<p>72063 rows × 9 columns</p>\n",
       "</div>"
      ],
      "text/plain": [
       "        Unnamed: 0      pmid  \\\n",
       "0                0      1697   \n",
       "1                1      2274   \n",
       "2                2      2401   \n",
       "3                3      4380   \n",
       "4                4      6351   \n",
       "...            ...       ...   \n",
       "100437      100437  40297421   \n",
       "100440      100440  40298120   \n",
       "100441      100441  40298171   \n",
       "100462      100462  40306365   \n",
       "100464      100464  40306948   \n",
       "\n",
       "                                                    title keywords  \\\n",
       "0       Treatment of ovarian hyperstimulation syndrome...      NaN   \n",
       "1       Circulating levels of prolactin in human breas...      NaN   \n",
       "2       Experience with a simple method for estrogen r...      NaN   \n",
       "3       Age at the menopause and onset of the climacte...      NaN   \n",
       "4       Effect of hysterectomy, oophorectomy and estro...      NaN   \n",
       "...                                                   ...      ...   \n",
       "100437  A cross-sectional analysis of the vaginal micr...      NaN   \n",
       "100440  The AUA/SUFU/AUGS Guideline on Genitourinary S...      NaN   \n",
       "100441  Breast Cancer Risk Modification in Women with ...      NaN   \n",
       "100462  Menopause in Cystic Fibrosis: Special consider...      NaN   \n",
       "100464  Coroner calls for specialist menopause care af...      NaN   \n",
       "\n",
       "                                                 abstract  \\\n",
       "0       Ovarian hyperstimulation was produced by human...   \n",
       "1       Serum prolactin concentrations were measured b...   \n",
       "2       A simple procedure for the assay of specific e...   \n",
       "3       In this study, 6877 women were analysed whose ...   \n",
       "4                                             No abstract   \n",
       "...                                                   ...   \n",
       "100437  The human microbiota is implicated in the deve...   \n",
       "100440  Genitourinary syndrome of menopause (GSM) desc...   \n",
       "100441  There is limited information on whether establ...   \n",
       "100462  Cystic fibrosis (CF) is a multisystem autosoma...   \n",
       "100464                                        No abstract   \n",
       "\n",
       "                                                  authors  \\\n",
       "0                 R Z Gergely; E Paldi; Y Erlik; A Makler   \n",
       "1         N A Sheth; K J Ranadive; J N Suraiya; A R Sheth   \n",
       "2                                   L Liskowski; D P Rose   \n",
       "3                          V Magurský; M Mesko; L Sokolík   \n",
       "4                                               W H Utian   \n",
       "...                                                   ...   \n",
       "100437  Marlyd E Mejia; Savannah Bowman; Jessica Lee; ...   \n",
       "100440  Melissa R Kaufman; A Lenore Ackerman; Katherin...   \n",
       "100441  Allison W Kurian; Elisha Hughes; Ryan Bernhise...   \n",
       "100462  Sarah Haroon; Crystal Cobb; Sandy Sufian; Raks...   \n",
       "100464                                         Clare Dyer   \n",
       "\n",
       "                                                  journal     pub_date  \\\n",
       "0                               Obstetrics and gynecology     1976-Jan   \n",
       "1                               British journal of cancer     1975-Aug   \n",
       "2       Clinica chimica acta; international journal of...  1976-Mar-01   \n",
       "3                      International journal of fertility         1975   \n",
       "4       International journal of gynaecology and obste...         1975   \n",
       "...                                                   ...          ...   \n",
       "100437  medRxiv : the preprint server for health sciences  2025-Apr-13   \n",
       "100440                             The Journal of urology  2025-Apr-29   \n",
       "100441                     Cancer research communications  2025-May-01   \n",
       "100462  Endocrine practice : official journal of the A...  2025-Apr-28   \n",
       "100464                        BMJ (Clinical research ed.)  2025-Apr-30   \n",
       "\n",
       "       pub_date_parsed  \n",
       "0           1976-01-01  \n",
       "1           1975-08-01  \n",
       "2           1976-03-01  \n",
       "3           1975-01-01  \n",
       "4           1975-01-01  \n",
       "...                ...  \n",
       "100437      2025-04-13  \n",
       "100440      2025-04-29  \n",
       "100441      2025-05-01  \n",
       "100462      2025-04-28  \n",
       "100464      2025-04-30  \n",
       "\n",
       "[72063 rows x 9 columns]"
      ]
     },
     "execution_count": 97,
     "metadata": {},
     "output_type": "execute_result"
    }
   ],
   "source": [
    "df[df['keywords'].isna()]"
   ]
  },
  {
   "cell_type": "markdown",
   "metadata": {},
   "source": [
    "From the above, we can see that the title and keywords columns are never Nan. We can also see that there is a huge amoutn of variation in the strings of titles, abstracts, and more, there will be a robust cleaning process. The original loading of the data may also need to be altered"
   ]
  },
  {
   "cell_type": "markdown",
   "metadata": {},
   "source": [
    "### Cleaning the strings in the dataset\n",
    "- convert to lowercase\n",
    "- remove punctuation\n",
    "- NOTE this is different than preparing the data for NLP steps, this is to ensure that when counting journal articles it is normalized"
   ]
  },
  {
   "cell_type": "code",
   "execution_count": 98,
   "metadata": {},
   "outputs": [],
   "source": [
    "sym_spell = SymSpell(max_dictionary_edit_distance=2, prefix_length=7)\n",
    "\n",
    "dictionary_path = pkg_resources.resource_filename(\"symspellpy\", \"frequency_dictionary_en_82_765.txt\")\n",
    "sym_spell.load_dictionary(dictionary_path, term_index=0, count_index=1)\n",
    "\n",
    "def clean_abstract(comment): \n",
    "\n",
    "    suggestions = sym_spell.lookup_compound(comment, max_edit_distance=2)\n",
    "\n",
    "    for suggestion in suggestions:\n",
    "        #print(suggestion.term)\n",
    "        tokens = suggestion.term\n",
    "\n",
    "    #split document into individual words\n",
    "    tokens=tokens.split()\n",
    "    re_punc = re.compile('[%s]' % re.escape(string.punctuation))\n",
    "\n",
    "    # remove punctuation from each word\n",
    "    tokens = [re_punc.sub('', w) for w in tokens]\n",
    "\n",
    "    # # remove remaining tokens that are not alphabetic\n",
    "    tokens = [word for word in tokens if word.isalpha()]\n",
    "\n",
    "    # # filter out short tokens\n",
    "    tokens = [word for word in tokens if len(word) > 4]\n",
    "\n",
    "    #lowercase all words\n",
    "    tokens = [word.lower() for word in tokens]\n",
    "\n",
    "    # filter out stop words\n",
    "    stop_words = set(stopwords.words('english'))\n",
    "    words_to_remove = ['menopause']\n",
    "    \n",
    "    tokens = [w for w in tokens if (not w in stop_words and not w in words_to_remove)]    \n",
    "\n",
    "    # word stemming    \n",
    "    ps=PorterStemmer()\n",
    "    tokens=[ps.stem(word) for word in tokens]\n",
    "\n",
    "    #print(tokens)\n",
    "    return tokens\n"
   ]
  },
  {
   "cell_type": "markdown",
   "metadata": {},
   "source": [
    "## Clean Journal"
   ]
  },
  {
   "cell_type": "code",
   "execution_count": 111,
   "metadata": {},
   "outputs": [
    {
     "name": "stdout",
     "output_type": "stream",
     "text": [
      "Average Length: 31.123802036165323\n",
      "Max Length: 189\n",
      "Min Length: 0\n"
     ]
    }
   ],
   "source": [
    "\n",
    "def clean_journal(comment): \n",
    "    suggestions = sym_spell.lookup_compound(comment, max_edit_distance=2)\n",
    "\n",
    "    for suggestion in suggestions:\n",
    "        tokens = suggestion.term\n",
    "\n",
    "    # Split into individual words\n",
    "    tokens = tokens.split()\n",
    "    \n",
    "    # Remove punctuation\n",
    "    re_punc = re.compile('[%s]' % re.escape(string.punctuation))\n",
    "    tokens = [re_punc.sub('', w) for w in tokens]\n",
    "\n",
    "    # Remove tokens with numbers and non-alphabetic tokens\n",
    "    tokens = [word for word in tokens if word.isalpha()]\n",
    "\n",
    "    # Filter out short words\n",
    "    tokens = [word for word in tokens if len(word) > 4]\n",
    "\n",
    "    # Lowercase all words\n",
    "    tokens = [word.lower() for word in tokens]\n",
    "\n",
    "    # Remove stop words\n",
    "    stop_words = set(stopwords.words('english'))\n",
    "    tokens = [w for w in tokens if w not in stop_words]\n",
    "\n",
    "    # Join tokens back into a cleaned string\n",
    "    cleaned_text = ' '.join(tokens)\n",
    "\n",
    "    return cleaned_text\n",
    "\n",
    "\n",
    "# Apply the clean_comment function to the 'comment' column\n",
    "df['journal_cleaned'] = df['journal'].apply(clean_journal)\n",
    "\n",
    "# Compute comment lengths after cleaning\n",
    "df['journal_length'] = df['journal_cleaned'].apply(len)\n",
    "\n",
    "# Get statistics\n",
    "average_length = df['journal_length'].mean()\n",
    "max_length = df['journal_length'].max()\n",
    "min_length = df['journal_length'].min()\n",
    "\n",
    "# Display results\n",
    "print(f\"Average Length: {average_length}\")\n",
    "print(f\"Max Length: {max_length}\")\n",
    "print(f\"Min Length: {min_length}\")"
   ]
  },
  {
   "cell_type": "code",
   "execution_count": 99,
   "metadata": {},
   "outputs": [
    {
     "data": {
      "text/html": [
       "<div>\n",
       "<style scoped>\n",
       "    .dataframe tbody tr th:only-of-type {\n",
       "        vertical-align: middle;\n",
       "    }\n",
       "\n",
       "    .dataframe tbody tr th {\n",
       "        vertical-align: top;\n",
       "    }\n",
       "\n",
       "    .dataframe thead th {\n",
       "        text-align: right;\n",
       "    }\n",
       "</style>\n",
       "<table border=\"1\" class=\"dataframe\">\n",
       "  <thead>\n",
       "    <tr style=\"text-align: right;\">\n",
       "      <th></th>\n",
       "      <th>Unnamed: 0</th>\n",
       "      <th>pmid</th>\n",
       "      <th>title</th>\n",
       "      <th>keywords</th>\n",
       "      <th>abstract</th>\n",
       "      <th>authors</th>\n",
       "      <th>journal</th>\n",
       "      <th>pub_date</th>\n",
       "      <th>pub_date_parsed</th>\n",
       "    </tr>\n",
       "  </thead>\n",
       "  <tbody>\n",
       "    <tr>\n",
       "      <th>0</th>\n",
       "      <td>0</td>\n",
       "      <td>1697</td>\n",
       "      <td>Treatment of ovarian hyperstimulation syndrome...</td>\n",
       "      <td>NaN</td>\n",
       "      <td>Ovarian hyperstimulation was produced by human...</td>\n",
       "      <td>R Z Gergely; E Paldi; Y Erlik; A Makler</td>\n",
       "      <td>Obstetrics and gynecology</td>\n",
       "      <td>1976-Jan</td>\n",
       "      <td>1976-01-01</td>\n",
       "    </tr>\n",
       "    <tr>\n",
       "      <th>1</th>\n",
       "      <td>1</td>\n",
       "      <td>2274</td>\n",
       "      <td>Circulating levels of prolactin in human breas...</td>\n",
       "      <td>NaN</td>\n",
       "      <td>Serum prolactin concentrations were measured b...</td>\n",
       "      <td>N A Sheth; K J Ranadive; J N Suraiya; A R Sheth</td>\n",
       "      <td>British journal of cancer</td>\n",
       "      <td>1975-Aug</td>\n",
       "      <td>1975-08-01</td>\n",
       "    </tr>\n",
       "    <tr>\n",
       "      <th>2</th>\n",
       "      <td>2</td>\n",
       "      <td>2401</td>\n",
       "      <td>Experience with a simple method for estrogen r...</td>\n",
       "      <td>NaN</td>\n",
       "      <td>A simple procedure for the assay of specific e...</td>\n",
       "      <td>L Liskowski; D P Rose</td>\n",
       "      <td>Clinica chimica acta; international journal of...</td>\n",
       "      <td>1976-Mar-01</td>\n",
       "      <td>1976-03-01</td>\n",
       "    </tr>\n",
       "    <tr>\n",
       "      <th>3</th>\n",
       "      <td>3</td>\n",
       "      <td>4380</td>\n",
       "      <td>Age at the menopause and onset of the climacte...</td>\n",
       "      <td>NaN</td>\n",
       "      <td>In this study, 6877 women were analysed whose ...</td>\n",
       "      <td>V Magurský; M Mesko; L Sokolík</td>\n",
       "      <td>International journal of fertility</td>\n",
       "      <td>1975</td>\n",
       "      <td>1975-01-01</td>\n",
       "    </tr>\n",
       "    <tr>\n",
       "      <th>4</th>\n",
       "      <td>4</td>\n",
       "      <td>6351</td>\n",
       "      <td>Effect of hysterectomy, oophorectomy and estro...</td>\n",
       "      <td>NaN</td>\n",
       "      <td>No abstract</td>\n",
       "      <td>W H Utian</td>\n",
       "      <td>International journal of gynaecology and obste...</td>\n",
       "      <td>1975</td>\n",
       "      <td>1975-01-01</td>\n",
       "    </tr>\n",
       "  </tbody>\n",
       "</table>\n",
       "</div>"
      ],
      "text/plain": [
       "   Unnamed: 0  pmid                                              title  \\\n",
       "0           0  1697  Treatment of ovarian hyperstimulation syndrome...   \n",
       "1           1  2274  Circulating levels of prolactin in human breas...   \n",
       "2           2  2401  Experience with a simple method for estrogen r...   \n",
       "3           3  4380  Age at the menopause and onset of the climacte...   \n",
       "4           4  6351  Effect of hysterectomy, oophorectomy and estro...   \n",
       "\n",
       "  keywords                                           abstract  \\\n",
       "0      NaN  Ovarian hyperstimulation was produced by human...   \n",
       "1      NaN  Serum prolactin concentrations were measured b...   \n",
       "2      NaN  A simple procedure for the assay of specific e...   \n",
       "3      NaN  In this study, 6877 women were analysed whose ...   \n",
       "4      NaN                                        No abstract   \n",
       "\n",
       "                                           authors  \\\n",
       "0          R Z Gergely; E Paldi; Y Erlik; A Makler   \n",
       "1  N A Sheth; K J Ranadive; J N Suraiya; A R Sheth   \n",
       "2                            L Liskowski; D P Rose   \n",
       "3                   V Magurský; M Mesko; L Sokolík   \n",
       "4                                        W H Utian   \n",
       "\n",
       "                                             journal     pub_date  \\\n",
       "0                          Obstetrics and gynecology     1976-Jan   \n",
       "1                          British journal of cancer     1975-Aug   \n",
       "2  Clinica chimica acta; international journal of...  1976-Mar-01   \n",
       "3                 International journal of fertility         1975   \n",
       "4  International journal of gynaecology and obste...         1975   \n",
       "\n",
       "  pub_date_parsed  \n",
       "0      1976-01-01  \n",
       "1      1975-08-01  \n",
       "2      1976-03-01  \n",
       "3      1975-01-01  \n",
       "4      1975-01-01  "
      ]
     },
     "execution_count": 99,
     "metadata": {},
     "output_type": "execute_result"
    }
   ],
   "source": [
    "df.head()"
   ]
  },
  {
   "cell_type": "markdown",
   "metadata": {},
   "source": [
    "#### Clean Abstract"
   ]
  },
  {
   "cell_type": "code",
   "execution_count": 112,
   "metadata": {},
   "outputs": [
    {
     "name": "stdout",
     "output_type": "stream",
     "text": [
      "Average Length: 92.7769772001234\n",
      "Max Length: 1108\n",
      "Min Length: 1\n"
     ]
    }
   ],
   "source": [
    "# Apply the clean_comment function to the 'comment' column\n",
    "df['abstract_cleaned'] = df['abstract'].apply(clean_abstract)\n",
    "\n",
    "# Compute comment lengths after cleaning\n",
    "df['abstract_length'] = df['abstract_cleaned'].apply(len)\n",
    "\n",
    "# Get statistics\n",
    "average_length = df['abstract_length'].mean()\n",
    "max_length = df['abstract_length'].max()\n",
    "min_length = df['abstract_length'].min()\n",
    "\n",
    "# Display results\n",
    "print(f\"Average Length: {average_length}\")\n",
    "print(f\"Max Length: {max_length}\")\n",
    "print(f\"Min Length: {min_length}\")"
   ]
  },
  {
   "cell_type": "code",
   "execution_count": 164,
   "metadata": {},
   "outputs": [],
   "source": [
    "df['abstract_cleaned_string'] = df['abstract_cleaned'].apply(lambda x: \" \".join(x))"
   ]
  },
  {
   "cell_type": "code",
   "execution_count": 165,
   "metadata": {},
   "outputs": [],
   "source": [
    "df.to_csv('/Users/gracefujinaga/womens_health/data/all_menopause_cleaned.csv')"
   ]
  },
  {
   "cell_type": "markdown",
   "metadata": {},
   "source": [
    "## Exploring Data Range\n",
    "- dates\n",
    "- journals represented\n",
    "- authors represented? --> a lot of cleaning required\n",
    "\n"
   ]
  },
  {
   "cell_type": "code",
   "execution_count": 113,
   "metadata": {},
   "outputs": [
    {
     "data": {
      "text/html": [
       "<div>\n",
       "<style scoped>\n",
       "    .dataframe tbody tr th:only-of-type {\n",
       "        vertical-align: middle;\n",
       "    }\n",
       "\n",
       "    .dataframe tbody tr th {\n",
       "        vertical-align: top;\n",
       "    }\n",
       "\n",
       "    .dataframe thead th {\n",
       "        text-align: right;\n",
       "    }\n",
       "</style>\n",
       "<table border=\"1\" class=\"dataframe\">\n",
       "  <thead>\n",
       "    <tr style=\"text-align: right;\">\n",
       "      <th></th>\n",
       "      <th>Unnamed: 0</th>\n",
       "      <th>pmid</th>\n",
       "      <th>title</th>\n",
       "      <th>keywords</th>\n",
       "      <th>abstract</th>\n",
       "      <th>authors</th>\n",
       "      <th>journal</th>\n",
       "      <th>pub_date</th>\n",
       "      <th>pub_date_parsed</th>\n",
       "      <th>abstract_cleaned</th>\n",
       "      <th>abstract_length</th>\n",
       "      <th>year</th>\n",
       "      <th>journal_cleaned</th>\n",
       "      <th>journal_length</th>\n",
       "    </tr>\n",
       "  </thead>\n",
       "  <tbody>\n",
       "    <tr>\n",
       "      <th>0</th>\n",
       "      <td>0</td>\n",
       "      <td>1697</td>\n",
       "      <td>Treatment of ovarian hyperstimulation syndrome...</td>\n",
       "      <td>NaN</td>\n",
       "      <td>Ovarian hyperstimulation was produced by human...</td>\n",
       "      <td>R Z Gergely; E Paldi; Y Erlik; A Makler</td>\n",
       "      <td>Obstetrics and gynecology</td>\n",
       "      <td>1976-Jan</td>\n",
       "      <td>1976-01-01</td>\n",
       "      <td>[ovarian, hyper, stimul, produc, human, menopa...</td>\n",
       "      <td>33</td>\n",
       "      <td>1976.0</td>\n",
       "      <td>obstetrics gynaecology</td>\n",
       "      <td>22</td>\n",
       "    </tr>\n",
       "    <tr>\n",
       "      <th>1</th>\n",
       "      <td>1</td>\n",
       "      <td>2274</td>\n",
       "      <td>Circulating levels of prolactin in human breas...</td>\n",
       "      <td>NaN</td>\n",
       "      <td>Serum prolactin concentrations were measured b...</td>\n",
       "      <td>N A Sheth; K J Ranadive; J N Suraiya; A R Sheth</td>\n",
       "      <td>British journal of cancer</td>\n",
       "      <td>1975-Aug</td>\n",
       "      <td>1975-08-01</td>\n",
       "      <td>[serum, prolactin, concentr, measur, radio, im...</td>\n",
       "      <td>45</td>\n",
       "      <td>1975.0</td>\n",
       "      <td>british journal cancer</td>\n",
       "      <td>22</td>\n",
       "    </tr>\n",
       "    <tr>\n",
       "      <th>2</th>\n",
       "      <td>2</td>\n",
       "      <td>2401</td>\n",
       "      <td>Experience with a simple method for estrogen r...</td>\n",
       "      <td>NaN</td>\n",
       "      <td>A simple procedure for the assay of specific e...</td>\n",
       "      <td>L Liskowski; D P Rose</td>\n",
       "      <td>Clinica chimica acta; international journal of...</td>\n",
       "      <td>1976-Mar-01</td>\n",
       "      <td>1976-03-01</td>\n",
       "      <td>[simpl, procedur, assay, specif, oestrogen, re...</td>\n",
       "      <td>45</td>\n",
       "      <td>1976.0</td>\n",
       "      <td>clinical international journal clinical chemistry</td>\n",
       "      <td>49</td>\n",
       "    </tr>\n",
       "    <tr>\n",
       "      <th>3</th>\n",
       "      <td>3</td>\n",
       "      <td>4380</td>\n",
       "      <td>Age at the menopause and onset of the climacte...</td>\n",
       "      <td>NaN</td>\n",
       "      <td>In this study, 6877 women were analysed whose ...</td>\n",
       "      <td>V Magurský; M Mesko; L Sokolík</td>\n",
       "      <td>International journal of fertility</td>\n",
       "      <td>1975</td>\n",
       "      <td>1975-01-01</td>\n",
       "      <td>[studi, women, analys, whose, rang, artifici, ...</td>\n",
       "      <td>98</td>\n",
       "      <td>1975.0</td>\n",
       "      <td>international journal fertility</td>\n",
       "      <td>31</td>\n",
       "    </tr>\n",
       "    <tr>\n",
       "      <th>4</th>\n",
       "      <td>4</td>\n",
       "      <td>6351</td>\n",
       "      <td>Effect of hysterectomy, oophorectomy and estro...</td>\n",
       "      <td>NaN</td>\n",
       "      <td>No abstract</td>\n",
       "      <td>W H Utian</td>\n",
       "      <td>International journal of gynaecology and obste...</td>\n",
       "      <td>1975</td>\n",
       "      <td>1975-01-01</td>\n",
       "      <td>[abstract]</td>\n",
       "      <td>1</td>\n",
       "      <td>1975.0</td>\n",
       "      <td>international journal gynaecology obstetrics o...</td>\n",
       "      <td>107</td>\n",
       "    </tr>\n",
       "  </tbody>\n",
       "</table>\n",
       "</div>"
      ],
      "text/plain": [
       "   Unnamed: 0  pmid                                              title  \\\n",
       "0           0  1697  Treatment of ovarian hyperstimulation syndrome...   \n",
       "1           1  2274  Circulating levels of prolactin in human breas...   \n",
       "2           2  2401  Experience with a simple method for estrogen r...   \n",
       "3           3  4380  Age at the menopause and onset of the climacte...   \n",
       "4           4  6351  Effect of hysterectomy, oophorectomy and estro...   \n",
       "\n",
       "  keywords                                           abstract  \\\n",
       "0      NaN  Ovarian hyperstimulation was produced by human...   \n",
       "1      NaN  Serum prolactin concentrations were measured b...   \n",
       "2      NaN  A simple procedure for the assay of specific e...   \n",
       "3      NaN  In this study, 6877 women were analysed whose ...   \n",
       "4      NaN                                        No abstract   \n",
       "\n",
       "                                           authors  \\\n",
       "0          R Z Gergely; E Paldi; Y Erlik; A Makler   \n",
       "1  N A Sheth; K J Ranadive; J N Suraiya; A R Sheth   \n",
       "2                            L Liskowski; D P Rose   \n",
       "3                   V Magurský; M Mesko; L Sokolík   \n",
       "4                                        W H Utian   \n",
       "\n",
       "                                             journal     pub_date  \\\n",
       "0                          Obstetrics and gynecology     1976-Jan   \n",
       "1                          British journal of cancer     1975-Aug   \n",
       "2  Clinica chimica acta; international journal of...  1976-Mar-01   \n",
       "3                 International journal of fertility         1975   \n",
       "4  International journal of gynaecology and obste...         1975   \n",
       "\n",
       "  pub_date_parsed                                   abstract_cleaned  \\\n",
       "0      1976-01-01  [ovarian, hyper, stimul, produc, human, menopa...   \n",
       "1      1975-08-01  [serum, prolactin, concentr, measur, radio, im...   \n",
       "2      1976-03-01  [simpl, procedur, assay, specif, oestrogen, re...   \n",
       "3      1975-01-01  [studi, women, analys, whose, rang, artifici, ...   \n",
       "4      1975-01-01                                         [abstract]   \n",
       "\n",
       "   abstract_length    year                                    journal_cleaned  \\\n",
       "0               33  1976.0                             obstetrics gynaecology   \n",
       "1               45  1975.0                             british journal cancer   \n",
       "2               45  1976.0  clinical international journal clinical chemistry   \n",
       "3               98  1975.0                    international journal fertility   \n",
       "4                1  1975.0  international journal gynaecology obstetrics o...   \n",
       "\n",
       "   journal_length  \n",
       "0              22  \n",
       "1              22  \n",
       "2              49  \n",
       "3              31  \n",
       "4             107  "
      ]
     },
     "execution_count": 113,
     "metadata": {},
     "output_type": "execute_result"
    }
   ],
   "source": [
    "df.head()"
   ]
  },
  {
   "cell_type": "markdown",
   "metadata": {},
   "source": [
    "#### Number of Articles over Time"
   ]
  },
  {
   "cell_type": "code",
   "execution_count": 127,
   "metadata": {},
   "outputs": [
    {
     "name": "stdout",
     "output_type": "stream",
     "text": [
      "date range: 1870-10-22 00:00:00 to 2025-12-21 00:00:00\n"
     ]
    }
   ],
   "source": [
    "print(f\"date range: {df['pub_date_parsed'].min()} to {df['pub_date_parsed'].max()}\")"
   ]
  },
  {
   "cell_type": "code",
   "execution_count": 108,
   "metadata": {},
   "outputs": [
    {
     "data": {
      "image/png": "[encoded data removed]",
      "text/plain": [
       "<Figure size 1000x500 with 1 Axes>"
      ]
     },
     "metadata": {},
     "output_type": "display_data"
    }
   ],
   "source": [
    "# Histogram of articles based on date\n",
    "df['pub_date_parsed'].hist(bins='auto', figsize=(10, 5))\n",
    "#plt.xlim(pd.Timestamp('2020-01-01'), pd.Timestamp('2026-01-01'))\n",
    "plt.title('Histogram of Article Distribution')\n",
    "plt.xlabel('Date')\n",
    "plt.ylabel('Frequency')\n",
    "plt.xticks(rotation=45)\n",
    "plt.tight_layout()\n",
    "plt.show()\n"
   ]
  },
  {
   "cell_type": "code",
   "execution_count": 104,
   "metadata": {},
   "outputs": [
    {
     "data": {
      "text/plain": [
       "100483"
      ]
     },
     "execution_count": 104,
     "metadata": {},
     "output_type": "execute_result"
    }
   ],
   "source": [
    "len(df)"
   ]
  },
  {
   "cell_type": "code",
   "execution_count": 114,
   "metadata": {},
   "outputs": [
    {
     "data": {
      "image/png": "[encoded data removed]",
      "text/plain": [
       "<Figure size 1600x600 with 1 Axes>"
      ]
     },
     "metadata": {},
     "output_type": "display_data"
    }
   ],
   "source": [
    "df['year'] = df['pub_date_parsed'].dt.year\n",
    "articles_by_year = df.groupby('year')['pmid'].count().reset_index(name='count')\n",
    "\n",
    "plt.figure(figsize=(16,6))\n",
    "plt.plot(articles_by_year['year'], articles_by_year['count'], marker='o')\n",
    "\n",
    "plt.xticks(rotation=90)\n",
    "\n",
    "plt.xlabel('Publication Year')\n",
    "plt.ylabel('Number of Articles per year')\n",
    "plt.title('Number of Articles published')\n",
    "plt.tight_layout()\n",
    "plt.show()"
   ]
  },
  {
   "cell_type": "markdown",
   "metadata": {},
   "source": [
    "#### Number of Articles per Journal"
   ]
  },
  {
   "cell_type": "code",
   "execution_count": 115,
   "metadata": {},
   "outputs": [],
   "source": [
    "# group by journal\n",
    "articles_by_journal = df.groupby('journal_cleaned')['pmid'].count().reset_index(name='count')"
   ]
  },
  {
   "cell_type": "code",
   "execution_count": 156,
   "metadata": {},
   "outputs": [
    {
     "data": {
      "text/html": [
       "<div>\n",
       "<style scoped>\n",
       "    .dataframe tbody tr th:only-of-type {\n",
       "        vertical-align: middle;\n",
       "    }\n",
       "\n",
       "    .dataframe tbody tr th {\n",
       "        vertical-align: top;\n",
       "    }\n",
       "\n",
       "    .dataframe thead th {\n",
       "        text-align: right;\n",
       "    }\n",
       "</style>\n",
       "<table border=\"1\" class=\"dataframe\">\n",
       "  <thead>\n",
       "    <tr style=\"text-align: right;\">\n",
       "      <th></th>\n",
       "      <th>journal_cleaned</th>\n",
       "      <th>count</th>\n",
       "    </tr>\n",
       "  </thead>\n",
       "  <tbody>\n",
       "    <tr>\n",
       "      <th>2</th>\n",
       "      <td>abdominal radiology</td>\n",
       "      <td>7</td>\n",
       "    </tr>\n",
       "    <tr>\n",
       "      <th>3</th>\n",
       "      <td>abstracts</td>\n",
       "      <td>1</td>\n",
       "    </tr>\n",
       "    <tr>\n",
       "      <th>4</th>\n",
       "      <td>academia brasil science</td>\n",
       "      <td>4</td>\n",
       "    </tr>\n",
       "    <tr>\n",
       "      <th>5</th>\n",
       "      <td>academia laura model medicine laura</td>\n",
       "      <td>2</td>\n",
       "    </tr>\n",
       "    <tr>\n",
       "      <th>6</th>\n",
       "      <td>academia media</td>\n",
       "      <td>1</td>\n",
       "    </tr>\n",
       "    <tr>\n",
       "      <th>...</th>\n",
       "      <td>...</td>\n",
       "      <td>...</td>\n",
       "    </tr>\n",
       "    <tr>\n",
       "      <th>6012</th>\n",
       "      <td>zdravookhranenie belorussian</td>\n",
       "      <td>2</td>\n",
       "    </tr>\n",
       "    <tr>\n",
       "      <th>6013</th>\n",
       "      <td>zdravookhranenie kirghizia</td>\n",
       "      <td>1</td>\n",
       "    </tr>\n",
       "    <tr>\n",
       "      <th>6014</th>\n",
       "      <td>zealand medical journal</td>\n",
       "      <td>38</td>\n",
       "    </tr>\n",
       "    <tr>\n",
       "      <th>6015</th>\n",
       "      <td>zealand nursing journal</td>\n",
       "      <td>1</td>\n",
       "    </tr>\n",
       "    <tr>\n",
       "      <th>6016</th>\n",
       "      <td>zygote cambridge england</td>\n",
       "      <td>3</td>\n",
       "    </tr>\n",
       "  </tbody>\n",
       "</table>\n",
       "<p>6015 rows × 2 columns</p>\n",
       "</div>"
      ],
      "text/plain": [
       "                          journal_cleaned  count\n",
       "2                     abdominal radiology      7\n",
       "3                               abstracts      1\n",
       "4                 academia brasil science      4\n",
       "5     academia laura model medicine laura      2\n",
       "6                          academia media      1\n",
       "...                                   ...    ...\n",
       "6012         zdravookhranenie belorussian      2\n",
       "6013           zdravookhranenie kirghizia      1\n",
       "6014              zealand medical journal     38\n",
       "6015              zealand nursing journal      1\n",
       "6016             zygote cambridge england      3\n",
       "\n",
       "[6015 rows x 2 columns]"
      ]
     },
     "execution_count": 156,
     "metadata": {},
     "output_type": "execute_result"
    }
   ],
   "source": [
    "articles_by_journal"
   ]
  },
  {
   "cell_type": "code",
   "execution_count": 155,
   "metadata": {},
   "outputs": [],
   "source": [
    "# drop the first row because that is title less\n",
    "articles_by_journal = articles_by_journal[1:]"
   ]
  },
  {
   "cell_type": "code",
   "execution_count": 157,
   "metadata": {},
   "outputs": [
    {
     "data": {
      "text/html": [
       "<div>\n",
       "<style scoped>\n",
       "    .dataframe tbody tr th:only-of-type {\n",
       "        vertical-align: middle;\n",
       "    }\n",
       "\n",
       "    .dataframe tbody tr th {\n",
       "        vertical-align: top;\n",
       "    }\n",
       "\n",
       "    .dataframe thead th {\n",
       "        text-align: right;\n",
       "    }\n",
       "</style>\n",
       "<table border=\"1\" class=\"dataframe\">\n",
       "  <thead>\n",
       "    <tr style=\"text-align: right;\">\n",
       "      <th></th>\n",
       "      <th>journal_cleaned</th>\n",
       "      <th>count</th>\n",
       "    </tr>\n",
       "  </thead>\n",
       "  <tbody>\n",
       "    <tr>\n",
       "      <th>4123</th>\n",
       "      <td>menopause</td>\n",
       "      <td>4563</td>\n",
       "    </tr>\n",
       "    <tr>\n",
       "      <th>3973</th>\n",
       "      <td>maturity</td>\n",
       "      <td>2875</td>\n",
       "    </tr>\n",
       "    <tr>\n",
       "      <th>1140</th>\n",
       "      <td>climacteric journal international menopause so...</td>\n",
       "      <td>1777</td>\n",
       "    </tr>\n",
       "    <tr>\n",
       "      <th>3036</th>\n",
       "      <td>journal clinical endocrinology metabolism</td>\n",
       "      <td>1507</td>\n",
       "    </tr>\n",
       "    <tr>\n",
       "      <th>2002</th>\n",
       "      <td>fertility sterility</td>\n",
       "      <td>1154</td>\n",
       "    </tr>\n",
       "    <tr>\n",
       "      <th>...</th>\n",
       "      <td>...</td>\n",
       "      <td>...</td>\n",
       "    </tr>\n",
       "    <tr>\n",
       "      <th>1830</th>\n",
       "      <td>european heart journal reports</td>\n",
       "      <td>1</td>\n",
       "    </tr>\n",
       "    <tr>\n",
       "      <th>1831</th>\n",
       "      <td>european heart journal supplements journal eur...</td>\n",
       "      <td>1</td>\n",
       "    </tr>\n",
       "    <tr>\n",
       "      <th>1832</th>\n",
       "      <td>european journal anaesthesiology</td>\n",
       "      <td>1</td>\n",
       "    </tr>\n",
       "    <tr>\n",
       "      <th>4256</th>\n",
       "      <td>monoclonal antibodies immune diagnosis immunot...</td>\n",
       "      <td>1</td>\n",
       "    </tr>\n",
       "    <tr>\n",
       "      <th>3009</th>\n",
       "      <td>journal cells</td>\n",
       "      <td>1</td>\n",
       "    </tr>\n",
       "  </tbody>\n",
       "</table>\n",
       "<p>6015 rows × 2 columns</p>\n",
       "</div>"
      ],
      "text/plain": [
       "                                        journal_cleaned  count\n",
       "4123                                          menopause   4563\n",
       "3973                                           maturity   2875\n",
       "1140  climacteric journal international menopause so...   1777\n",
       "3036          journal clinical endocrinology metabolism   1507\n",
       "2002                                fertility sterility   1154\n",
       "...                                                 ...    ...\n",
       "1830                     european heart journal reports      1\n",
       "1831  european heart journal supplements journal eur...      1\n",
       "1832                   european journal anaesthesiology      1\n",
       "4256  monoclonal antibodies immune diagnosis immunot...      1\n",
       "3009                                      journal cells      1\n",
       "\n",
       "[6015 rows x 2 columns]"
      ]
     },
     "execution_count": 157,
     "metadata": {},
     "output_type": "execute_result"
    }
   ],
   "source": [
    "articles_by_journal.sort_values('count', ascending=False)"
   ]
  },
  {
   "cell_type": "code",
   "execution_count": 154,
   "metadata": {},
   "outputs": [
    {
     "data": {
      "text/plain": [
       "6016"
      ]
     },
     "execution_count": 154,
     "metadata": {},
     "output_type": "execute_result"
    }
   ],
   "source": [
    "len(df)\n",
    "\n",
    "len(articles_by_journal)"
   ]
  },
  {
   "cell_type": "code",
   "execution_count": 119,
   "metadata": {},
   "outputs": [
    {
     "name": "stdout",
     "output_type": "stream",
     "text": [
      "range of articles: 1 to 4563\n"
     ]
    }
   ],
   "source": [
    "print(f\"range of articles: {articles_by_journal['count'].min()} to {articles_by_journal['count'].max()}\")"
   ]
  },
  {
   "cell_type": "code",
   "execution_count": 120,
   "metadata": {},
   "outputs": [
    {
     "data": {
      "image/png": "[encoded data removed]",
      "text/plain": [
       "<Figure size 1000x500 with 1 Axes>"
      ]
     },
     "metadata": {},
     "output_type": "display_data"
    }
   ],
   "source": [
    "# plot\n",
    "articles_by_journal['count'].hist(bins=150, figsize=(10, 5), edgecolor='black')\n",
    "#plt.xlim((0,1000))\n",
    "plt.title('Histogram of Articles per Journal')\n",
    "plt.xlabel('Date')\n",
    "plt.ylabel('Frequency')\n",
    "plt.xticks(rotation=45)\n",
    "plt.tight_layout()\n",
    "plt.show()"
   ]
  },
  {
   "cell_type": "code",
   "execution_count": 121,
   "metadata": {},
   "outputs": [
    {
     "data": {
      "image/png": "[encoded data removed]",
      "text/plain": [
       "<Figure size 1000x500 with 1 Axes>"
      ]
     },
     "metadata": {},
     "output_type": "display_data"
    }
   ],
   "source": [
    "\n",
    "# Box plot\n",
    "plt.figure(figsize=(10, 5))\n",
    "plt.boxplot(articles_by_journal['count'], vert=False)\n",
    "plt.title('Box Plot of Articles per Journal')\n",
    "plt.xlabel('Number of Articles')\n",
    "plt.ylabel('Articles Per Journal')\n",
    "plt.tight_layout()\n",
    "plt.show()\n"
   ]
  },
  {
   "cell_type": "code",
   "execution_count": 122,
   "metadata": {},
   "outputs": [
    {
     "data": {
      "text/html": [
       "<div>\n",
       "<style scoped>\n",
       "    .dataframe tbody tr th:only-of-type {\n",
       "        vertical-align: middle;\n",
       "    }\n",
       "\n",
       "    .dataframe tbody tr th {\n",
       "        vertical-align: top;\n",
       "    }\n",
       "\n",
       "    .dataframe thead th {\n",
       "        text-align: right;\n",
       "    }\n",
       "</style>\n",
       "<table border=\"1\" class=\"dataframe\">\n",
       "  <thead>\n",
       "    <tr style=\"text-align: right;\">\n",
       "      <th></th>\n",
       "      <th>journal_cleaned</th>\n",
       "      <th>count</th>\n",
       "    </tr>\n",
       "  </thead>\n",
       "  <tbody>\n",
       "    <tr>\n",
       "      <th>4123</th>\n",
       "      <td>menopause</td>\n",
       "      <td>4563</td>\n",
       "    </tr>\n",
       "    <tr>\n",
       "      <th>3973</th>\n",
       "      <td>maturity</td>\n",
       "      <td>2875</td>\n",
       "    </tr>\n",
       "    <tr>\n",
       "      <th>1140</th>\n",
       "      <td>climacteric journal international menopause so...</td>\n",
       "      <td>1777</td>\n",
       "    </tr>\n",
       "    <tr>\n",
       "      <th>3036</th>\n",
       "      <td>journal clinical endocrinology metabolism</td>\n",
       "      <td>1507</td>\n",
       "    </tr>\n",
       "    <tr>\n",
       "      <th>2002</th>\n",
       "      <td>fertility sterility</td>\n",
       "      <td>1154</td>\n",
       "    </tr>\n",
       "    <tr>\n",
       "      <th>...</th>\n",
       "      <td>...</td>\n",
       "      <td>...</td>\n",
       "    </tr>\n",
       "    <tr>\n",
       "      <th>1829</th>\n",
       "      <td>european heart journal cardiovascular pharmacy...</td>\n",
       "      <td>1</td>\n",
       "    </tr>\n",
       "    <tr>\n",
       "      <th>1830</th>\n",
       "      <td>european heart journal reports</td>\n",
       "      <td>1</td>\n",
       "    </tr>\n",
       "    <tr>\n",
       "      <th>1831</th>\n",
       "      <td>european heart journal supplements journal eur...</td>\n",
       "      <td>1</td>\n",
       "    </tr>\n",
       "    <tr>\n",
       "      <th>4256</th>\n",
       "      <td>monoclonal antibodies immune diagnosis immunot...</td>\n",
       "      <td>1</td>\n",
       "    </tr>\n",
       "    <tr>\n",
       "      <th>3009</th>\n",
       "      <td>journal cells</td>\n",
       "      <td>1</td>\n",
       "    </tr>\n",
       "  </tbody>\n",
       "</table>\n",
       "<p>6016 rows × 2 columns</p>\n",
       "</div>"
      ],
      "text/plain": [
       "                                        journal_cleaned  count\n",
       "4123                                          menopause   4563\n",
       "3973                                           maturity   2875\n",
       "1140  climacteric journal international menopause so...   1777\n",
       "3036          journal clinical endocrinology metabolism   1507\n",
       "2002                                fertility sterility   1154\n",
       "...                                                 ...    ...\n",
       "1829  european heart journal cardiovascular pharmacy...      1\n",
       "1830                     european heart journal reports      1\n",
       "1831  european heart journal supplements journal eur...      1\n",
       "4256  monoclonal antibodies immune diagnosis immunot...      1\n",
       "3009                                      journal cells      1\n",
       "\n",
       "[6016 rows x 2 columns]"
      ]
     },
     "execution_count": 122,
     "metadata": {},
     "output_type": "execute_result"
    }
   ],
   "source": [
    "articles_by_journal.sort_values(by='count', ascending=False)"
   ]
  },
  {
   "cell_type": "markdown",
   "metadata": {},
   "source": [
    "# NLP Exploration\n",
    "- get all of the keywords and cluster them\n",
    "- cluster documents based on the abstract\n"
   ]
  },
  {
   "cell_type": "code",
   "execution_count": 56,
   "metadata": {},
   "outputs": [],
   "source": [
    "from sklearn.cluster import KMeans"
   ]
  },
  {
   "cell_type": "code",
   "execution_count": 57,
   "metadata": {},
   "outputs": [],
   "source": [
    "import numpy as np\n",
    "from sklearn.cluster import KMeans, DBSCAN\n",
    "from sklearn.decomposition import PCA\n",
    "from sklearn.manifold import TSNE\n",
    "import matplotlib.pyplot as plt"
   ]
  },
  {
   "cell_type": "code",
   "execution_count": 58,
   "metadata": {},
   "outputs": [],
   "source": [
    "def cluster_embeddings(cluster_df, title, embeddings, n_clusters=2):\n",
    "\n",
    "    # KMeans clustering\n",
    "    kmeans = KMeans(n_clusters=n_clusters, random_state=42)\n",
    "    kmeans_labels = kmeans.fit_predict(embeddings)\n",
    "\n",
    "    clusters = kmeans.fit_predict(embeddings)\n",
    "\n",
    "    # Create df\n",
    "    cluster_df['Cluster'] = clusters\n",
    "    cluster_df = cluster_df[['Cluster', 'title', 'abstract_cleaned_string']]\n",
    "\n",
    "    # dimension reduction: TSNE\n",
    "    reducer = TSNE(n_components=2, random_state=42, init = 'random')\n",
    "    reduced_embeddings_tsne = reducer.fit_transform(embeddings)\n",
    "\n",
    "    # dimension reduction: PCA\n",
    "    reducer = PCA(n_components=2, random_state=42)\n",
    "    reduced_embeddings_pca = reducer.fit_transform(embeddings)\n",
    "    \n",
    "    if (title == 'TFIDF') :\n",
    "        fig, axes = plt.subplots(1, 3, figsize=(12, 5))\n",
    "\n",
    "        sns.scatterplot(x=reduced_embeddings_tsne[:, 0], y=reduced_embeddings_tsne[:, 1], hue=kmeans_labels, palette=\"viridis\", ax=axes[0])\n",
    "        axes[0].set_title(f\"{title}: KMeans with tsne\")\n",
    "\n",
    "        sns.scatterplot(x=reduced_embeddings_pca[:, 0], y=reduced_embeddings_pca[:, 1], hue=kmeans_labels, palette=\"coolwarm\", ax=axes[1])\n",
    "        axes[1].set_title(f\"{title}: KMeans with pca\")\n",
    "\n",
    "        plt.show()\n",
    "\n",
    "        return cluster_df\n",
    "\n",
    "\n",
    "    # Plotting\n",
    "    fig, axes = plt.subplots(1, 3, figsize=(12, 5))\n",
    "    sns.scatterplot(x=embeddings[:, 0], y=embeddings[:, 1], hue=kmeans_labels, palette=\"viridis\", ax=axes[2])\n",
    "    axes[2].set_title(f\"{title}: KMeans No Reduction\")\n",
    "\n",
    "    sns.scatterplot(x=reduced_embeddings_tsne[:, 0], y=reduced_embeddings_tsne[:, 1], hue=kmeans_labels, palette=\"viridis\", ax=axes[0])\n",
    "    axes[0].set_title(f\"{title}: KMeans with tsne\")\n",
    "\n",
    "    sns.scatterplot(x=reduced_embeddings_pca[:, 0], y=reduced_embeddings_pca[:, 1], hue=kmeans_labels, palette=\"coolwarm\", ax=axes[1])\n",
    "    axes[1].set_title(f\"{title}: KMeans with pca\")\n",
    "\n",
    "    plt.show()\n",
    "\n",
    "    return cluster_df\n",
    "\n"
   ]
  },
  {
   "cell_type": "code",
   "execution_count": null,
   "metadata": {},
   "outputs": [],
   "source": [
    "df['text'] = df['text'].str.replace(r'\\bmenopause\\b', '', case=False, regex=True)"
   ]
  },
  {
   "cell_type": "markdown",
   "metadata": {},
   "source": [
    "#### TFIDF"
   ]
  },
  {
   "cell_type": "code",
   "execution_count": 123,
   "metadata": {},
   "outputs": [],
   "source": [
    "# todo: tf-idf --> means clustering\n",
    "# LDA\n",
    "\n",
    "# TFIDF\n",
    "Tfidf=TfidfVectorizer(ngram_range=(1,1))\n",
    "TFIDF_embeddings=Tfidf.fit_transform(df['abstract_cleaned_string'].tolist())     \n",
    "\n",
    "\n",
    "tfidf_matrix_df=pd.DataFrame(TFIDF_embeddings.toarray(), columns=Tfidf.get_feature_names_out(), index=df['title'].tolist())"
   ]
  },
  {
   "cell_type": "code",
   "execution_count": 186,
   "metadata": {},
   "outputs": [
    {
     "name": "stderr",
     "output_type": "stream",
     "text": [
      "/opt/anaconda3/lib/python3.11/site-packages/seaborn/_oldcore.py:1498: FutureWarning: is_categorical_dtype is deprecated and will be removed in a future version. Use isinstance(dtype, CategoricalDtype) instead\n",
      "  if pd.api.types.is_categorical_dtype(vector):\n",
      "/opt/anaconda3/lib/python3.11/site-packages/seaborn/_oldcore.py:1498: FutureWarning: is_categorical_dtype is deprecated and will be removed in a future version. Use isinstance(dtype, CategoricalDtype) instead\n",
      "  if pd.api.types.is_categorical_dtype(vector):\n",
      "/opt/anaconda3/lib/python3.11/site-packages/seaborn/_oldcore.py:1498: FutureWarning: is_categorical_dtype is deprecated and will be removed in a future version. Use isinstance(dtype, CategoricalDtype) instead\n",
      "  if pd.api.types.is_categorical_dtype(vector):\n"
     ]
    },
    {
     "data": {
      "image/png": "[encoded data removed]",
      "text/plain": [
       "<Figure size 600x600 with 1 Axes>"
      ]
     },
     "metadata": {},
     "output_type": "display_data"
    }
   ],
   "source": [
    "cluster_df = df.copy()\n",
    "\n",
    "title = \"TFIDF\"\n",
    "embeddings = TFIDF_embeddings\n",
    "\n",
    "n_clusters=10\n",
    "\n",
    "if True:\n",
    "\n",
    "    # dimension reduction: PCA\n",
    "    \n",
    "    reducer = PCA(n_components=2, random_state=42)\n",
    "    reduced_embeddings_pca = reducer.fit_transform(embeddings)\n",
    "\n",
    "    kmeans = KMeans(n_clusters=n_clusters, random_state=42)\n",
    "    kmeans_labels = kmeans.fit_predict(reduced_embeddings_pca)\n",
    "\n",
    "    plt.figure(figsize=(6, 6))\n",
    "    ax = sns.scatterplot(x=reduced_embeddings_pca[:, 0], y=reduced_embeddings_pca[:, 1], hue=kmeans_labels, palette=\"coolwarm\")\n",
    "    ax.set_title(f\"KMeans Clustering with TF-IDF and PCA, {n_clusters} clusters\" )\n",
    "\n",
    "    plt.show()\n",
    "\n",
    "    # Create df\n",
    "    cluster_df['Cluster'] = kmeans_labels\n",
    "    cluster_df = cluster_df[['Cluster', 'title', 'abstract_cleaned_string']]\n",
    "\n",
    "\n",
    "    # else:\n",
    "    #     # Plotting\n",
    "    #     fig, axes = plt.subplots(1, 3, figsize=(12, 5))\n",
    "    #     sns.scatterplot(x=embeddings[:, 0], y=embeddings[:, 1], hue=kmeans_labels, palette=\"viridis\", ax=axes[2])\n",
    "    #     axes[2].set_title(f\"{title}: KMeans No Reduction\")\n",
    "\n",
    "    #     sns.scatterplot(x=reduced_embeddings_tsne[:, 0], y=reduced_embeddings_tsne[:, 1], hue=kmeans_labels, palette=\"viridis\", ax=axes[0])\n",
    "    #     axes[0].set_title(f\"{title}: KMeans with tsne\")\n",
    "\n",
    "    #     sns.scatterplot(x=reduced_embeddings_pca[:, 0], y=reduced_embeddings_pca[:, 1], hue=kmeans_labels, palette=\"coolwarm\", ax=axes[1])\n",
    "    #     axes[1].set_title(f\"{title}: KMeans with pca\")\n",
    "\n",
    "    #     plt.show()\n",
    "\n",
    "\n",
    "#cluster_embeddings(cluster_df, \"tfidf\", TFIDF_embeddings, n_clusters=2)"
   ]
  },
  {
   "cell_type": "code",
   "execution_count": 137,
   "metadata": {},
   "outputs": [],
   "source": [
    "df['abstract_cleaned_string']\n",
    "df['abstract_cleaned_string'] = df['abstract_cleaned_string'].str.replace(r'\\bmenopaus\\b', '', case=False, regex=True)"
   ]
  },
  {
   "cell_type": "code",
   "execution_count": 149,
   "metadata": {},
   "outputs": [],
   "source": [
    "df.to_csv('/Users/gracefujinaga/womens_health/data/all_menopause_cleaned.csv', index=False)"
   ]
  },
  {
   "cell_type": "code",
   "execution_count": 151,
   "metadata": {},
   "outputs": [],
   "source": [
    "# Function to remove \"menopause\" case-insensitively\n",
    "def remove_menopause(word_list):\n",
    "    return [word for word in word_list if word.lower() != \"menopaus\"]\n",
    "\n",
    "def remove_studi_trial(word_list):\n",
    "    return [word for word in word_list if (word.lower() != \"trial\" and word.lower() != \"studi\")]\n",
    "\n",
    "# remove from cleand string\n",
    "df['abstract_cleaned_string']\n",
    "df['abstract_cleaned_string'] = df['abstract_cleaned_string'].str.replace(r'\\bmenopaus\\b', '', case=False, regex=True)\n",
    "\n",
    "# Apply to the column\n",
    "df['abstract_cleaned'] = df['abstract_cleaned'].apply(remove_menopause)\n",
    "df['abstract_cleaned'] = df['abstract_cleaned'].apply(remove_studi_trial)\n",
    "\n",
    "df['abstract_cleaned_string'] = df['abstract_cleaned'].apply(lambda x: \" \".join(x))\n",
    "\n",
    "df.to_csv('/Users/gracefujinaga/womens_health/data/all_menopause_cleaned.csv', index=False)"
   ]
  },
  {
   "cell_type": "code",
   "execution_count": 183,
   "metadata": {},
   "outputs": [
    {
     "name": "stdout",
     "output_type": "stream",
     "text": [
      "Top terms per cluster:\n",
      "\n",
      "Cluster 0:\n",
      "\n",
      "Top 5 closest titles in Cluster 0:\n",
      "  - Invasive papillary carcinoma treated with neoadjuvant endocrine therapy in which pathological complete response was achieved.\n",
      "  - Prognostic role of GPER/Ezrin in triple-negative breast cancer is associated with menopausal status.\n",
      "  - Breastfeeding and breast cancer risk.\n",
      "  - 21. The adjuvant treatment of breast cancer.\n",
      "  - Tamoxifen-induced vasculitis.\n",
      "\n",
      "Cluster 1:\n",
      "\n",
      "Top 5 closest titles in Cluster 1:\n",
      "  - Effect of hysterectomy, oophorectomy and estrogen therapy on libido.\n",
      "  - Women's Health Initiative data--what were the real conclusions and how will these studies impact the pelvic floor?\n",
      "  - Toremifene citrate (Fareston).\n",
      "  - Get the facts straight.\n",
      "  - Delayed benefit of mammography screening in premenopausal women.\n",
      "\n",
      "Cluster 2:\n",
      "\n",
      "Top 5 closest titles in Cluster 2:\n",
      "  - Micronutrients intake and genetic variants associated with premature ovarian insufficiency; MASHAD cohort study.\n",
      "  - The ageing ovary.\n",
      "  - Bone mineral density in premenopausal women with systemic lupus erythematosus.\n",
      "  - Ginseng face cream and unexplained vaginal bleeding.\n",
      "  - Dietary phytoestrogens and bone health.\n",
      "\n",
      "Cluster 3:\n",
      "\n",
      "Top 5 closest titles in Cluster 3:\n",
      "  - Factors associated with oxidative stress and cancer risk in the Breast and Prostate Cancer Cohort Consortium.\n",
      "  - Coffee Consumption and Invasive Breast Cancer Incidence among Postmenopausal Women in the Cancer Prevention Study-II Nutrition Cohort.\n",
      "  - Observation versus late reintroduction of letrozole as adjuvant endocrine therapy for hormone receptor-positive breast cancer (ANZ0501 LATER): an open-label randomised, controlled trial.\n",
      "  - [Evaluation of epidemiologic risk factors for endometrial carcinoma based on a case-control study].\n",
      "  - Periodontal Disease and Breast Cancer: Prospective Cohort Study of Postmenopausal Women.\n"
     ]
    }
   ],
   "source": [
    "Tfidf = TfidfVectorizer(ngram_range=(1, 1))\n",
    "TFIDF_embeddings = Tfidf.fit_transform(df['abstract_cleaned_string'].tolist())   \n",
    "\n",
    "n_clusters = 4\n",
    "reducer = PCA(n_components=2, random_state=42)\n",
    "reduced_embeddings_pca = reducer.fit_transform(TFIDF_embeddings.toarray())  # PCA requires dense array\n",
    "\n",
    "km = KMeans(n_clusters=n_clusters, random_state=42)\n",
    "clusters = km.fit_predict(reduced_embeddings_pca)\n",
    "\n",
    "terms = Tfidf.get_feature_names_out()\n",
    "df['Cluster'] = clusters\n",
    "\n",
    "Dictionary = {\n",
    "    'Doc Name': df['title'],\n",
    "    'Cluster': clusters,\n",
    "    'Text': df['abstract_cleaned_string']\n",
    "}\n",
    "frame = pd.DataFrame(Dictionary, columns=['Cluster', 'Doc Name', 'Text'])\n",
    "\n",
    "print(\"Top terms per cluster:\")\n",
    "order_centroids = km.cluster_centers_.argsort()[:, ::-1]\n",
    "\n",
    "terms_dict = []\n",
    "cluster_terms = {}\n",
    "cluster_title = {}\n",
    "\n",
    "# Compute cosine distances for finding closest titles to each cluster center\n",
    "df['Distance'] = cosine_distances(reduced_embeddings_pca, km.cluster_centers_)[np.arange(len(clusters)), clusters]\n",
    "\n",
    "for i in range(n_clusters):\n",
    "    print(f\"\\nCluster {i}:\")\n",
    "    temp_terms = []\n",
    "    temp_titles = []\n",
    "\n",
    "\n",
    "    # Top 5 titles closest to the cluster center\n",
    "    print(f\"\\nTop 5 closest titles in Cluster {i}:\")\n",
    "    top_5 = df[df['Cluster'] == i].sort_values(by='Distance').head(5)\n",
    "    for title in top_5['title']:\n",
    "        print(f\"  - {title}\")"
   ]
  },
  {
   "cell_type": "markdown",
   "metadata": {},
   "source": [
    "#### LDA"
   ]
  },
  {
   "cell_type": "code",
   "execution_count": 64,
   "metadata": {},
   "outputs": [],
   "source": [
    "from gensim import corpora\n",
    "from gensim.models import LdaModel\n"
   ]
  },
  {
   "cell_type": "code",
   "execution_count": 188,
   "metadata": {},
   "outputs": [
    {
     "name": "stdout",
     "output_type": "stream",
     "text": [
      " -------------------- LDA with bag of words\n",
      "Topic: 0 \n",
      "Words: 0.054*\"women\" + 0.045*\"associ\" + 0.028*\"studi\" + 0.019*\"year\" + 0.017*\"factor\" + 0.013*\"among\" + 0.012*\"postmenopaus\" + 0.012*\"higher\" + 0.010*\"adjust\" + 0.009*\"model\"\n",
      "Topic: 1 \n",
      "Words: 0.065*\"group\" + 0.032*\"treatment\" + 0.025*\"effect\" + 0.023*\"women\" + 0.022*\"studi\" + 0.019*\"month\" + 0.018*\"control\" + 0.016*\"compar\" + 0.015*\"trial\" + 0.015*\"improv\"\n",
      "Topic: 2 \n",
      "Words: 0.038*\"ovarian\" + 0.028*\"reproduct\" + 0.022*\"pregnanc\" + 0.018*\"cycl\" + 0.016*\"menstrual\" + 0.012*\"femal\" + 0.012*\"fertil\" + 0.010*\"patient\" + 0.009*\"follicl\" + 0.009*\"human\"\n",
      "Topic: 3 \n",
      "Words: 0.046*\"oestrogen\" + 0.030*\"hormon\" + 0.028*\"level\" + 0.024*\"effect\" + 0.018*\"increas\" + 0.017*\"oestradiol\" + 0.016*\"activ\" + 0.013*\"ovariectomi\" + 0.012*\"induc\" + 0.012*\"femal\"\n",
      "Topic: 4 \n",
      "Words: 0.036*\"patient\" + 0.022*\"endometri\" + 0.018*\"vagin\" + 0.013*\"women\" + 0.011*\"surgeri\" + 0.011*\"malign\" + 0.011*\"uterin\" + 0.011*\"pelvic\" + 0.010*\"case\" + 0.009*\"cervic\"\n",
      "Topic: 5 \n",
      "Words: 0.025*\"women\" + 0.021*\"symptom\" + 0.014*\"health\" + 0.011*\"studi\" + 0.009*\"sexual\" + 0.009*\"includ\" + 0.008*\"review\" + 0.008*\"qualiti\" + 0.008*\"treatment\" + 0.008*\"effect\"\n",
      "Topic: 6 \n",
      "Words: 0.030*\"osteoporosi\" + 0.028*\"fractur\" + 0.019*\"densiti\" + 0.018*\"women\" + 0.018*\"exercis\" + 0.018*\"group\" + 0.018*\"postmenopaus\" + 0.012*\"studi\" + 0.012*\"miner\" + 0.012*\"vitamin\"\n",
      "Topic: 7 \n",
      "Words: 0.046*\"express\" + 0.022*\"cell\" + 0.016*\"receptor\" + 0.016*\"abstract\" + 0.016*\"tissu\" + 0.016*\"immun\" + 0.015*\"protein\" + 0.013*\"associ\" + 0.013*\"genet\" + 0.012*\"micro\"\n",
      "Topic: 8 \n",
      "Words: 0.097*\"cancer\" + 0.069*\"breast\" + 0.052*\"patient\" + 0.013*\"surviv\" + 0.011*\"therapi\" + 0.011*\"treatment\" + 0.010*\"posit\" + 0.010*\"clinic\" + 0.009*\"hazard\" + 0.009*\"chemotherapi\"\n",
      "Topic: 9 \n",
      "Words: 0.034*\"level\" + 0.026*\"metabol\" + 0.019*\"serum\" + 0.019*\"women\" + 0.017*\"blood\" + 0.015*\"increas\" + 0.014*\"postmenopaus\" + 0.012*\"marker\" + 0.011*\"obes\" + 0.011*\"lipid\"\n",
      " -------------------- LDA with TFIDF\n",
      "Topic: 0 \n",
      "Words: 0.030*\"urinari\" + 0.028*\"inflamm\" + 0.027*\"incontin\" + 0.025*\"vagin\" + 0.017*\"bladder\" + 0.017*\"volvo\" + 0.016*\"floor\" + 0.015*\"perceiv\" + 0.013*\"mitochondri\" + 0.012*\"arena\"\n",
      "Topic: 1 \n",
      "Words: 0.011*\"fractur\" + 0.011*\"osteoporosi\" + 0.009*\"group\" + 0.007*\"vitamin\" + 0.006*\"muscl\" + 0.006*\"level\" + 0.006*\"postmenopaus\" + 0.006*\"score\" + 0.005*\"train\" + 0.005*\"densiti\"\n",
      "Topic: 2 \n",
      "Words: 0.009*\"cell\" + 0.009*\"ovariectomi\" + 0.009*\"oestrogen\" + 0.008*\"regul\" + 0.008*\"pathway\" + 0.008*\"micro\" + 0.007*\"oxid\" + 0.007*\"exercis\" + 0.007*\"signal\" + 0.007*\"laser\"\n",
      "Topic: 3 \n",
      "Words: 0.011*\"endometri\" + 0.009*\"express\" + 0.009*\"metabol\" + 0.009*\"adipos\" + 0.008*\"obes\" + 0.007*\"insulin\" + 0.007*\"lipid\" + 0.007*\"level\" + 0.007*\"malign\" + 0.006*\"glucos\"\n",
      "Topic: 4 \n",
      "Words: 0.758*\"abstract\" + 0.006*\"lichen\" + 0.003*\"spring\" + 0.003*\"zealand\" + 0.002*\"diuret\" + 0.002*\"centuri\" + 0.002*\"occlus\" + 0.002*\"firstli\" + 0.001*\"plateau\" + 0.001*\"biliari\"\n",
      "Topic: 5 \n",
      "Words: 0.013*\"cancer\" + 0.010*\"associ\" + 0.010*\"breast\" + 0.006*\"factor\" + 0.006*\"year\" + 0.006*\"patient\" + 0.005*\"among\" + 0.005*\"women\" + 0.005*\"cohort\" + 0.005*\"model\"\n",
      "Topic: 6 \n",
      "Words: 0.011*\"treatment\" + 0.008*\"therapi\" + 0.008*\"patient\" + 0.008*\"group\" + 0.007*\"vagin\" + 0.007*\"trial\" + 0.007*\"symptom\" + 0.007*\"oestrogen\" + 0.006*\"placebo\" + 0.006*\"effect\"\n",
      "Topic: 7 \n",
      "Words: 0.015*\"symptom\" + 0.011*\"sexual\" + 0.011*\"health\" + 0.010*\"depress\" + 0.009*\"qualiti\" + 0.008*\"review\" + 0.008*\"cognit\" + 0.007*\"intervent\" + 0.006*\"score\" + 0.006*\"impact\"\n",
      "Topic: 8 \n",
      "Words: 0.067*\"sleep\" + 0.030*\"guidelin\" + 0.020*\"midlif\" + 0.017*\"satisfact\" + 0.016*\"insomnia\" + 0.016*\"lifespan\" + 0.014*\"scale\" + 0.014*\"issu\" + 0.012*\"consult\" + 0.011*\"incom\"\n",
      "Topic: 9 \n",
      "Words: 0.019*\"ovarian\" + 0.010*\"pregnanc\" + 0.009*\"memori\" + 0.008*\"cycl\" + 0.008*\"follicl\" + 0.008*\"endometriosi\" + 0.007*\"reproduct\" + 0.007*\"oocyt\" + 0.007*\"menstrual\" + 0.006*\"infertil\"\n",
      " -------------------- Preparing pyLDAvis...\n"
     ]
    },
    {
     "data": {
      "text/html": [
       "\n",
       "<link rel=\"stylesheet\" type=\"text/css\" href=\"https://cdn.jsdelivr.net/gh/bmabey/pyLDAvis@3.4.0/pyLDAvis/js/ldavis.v1.0.0.css\">\n",
       "\n",
       "\n",
       "<div id=\"ldavis_el94560342294473446640280328\" style=\"background-color:white;\"></div>\n",
       "<script type=\"text/javascript\">\n",
       "\n",
       "var ldavis_el94560342294473446640280328_data = {\"mdsDat\": {\"x\": [-0.19746994856175587, -0.16134819871797007, -0.16206209155489046, -0.12382532930884815, -0.13979878348846195, -0.02132679002263596, -0.08103259176913254, 0.32352999084551887, 0.29232671723636505, 0.27100702534181154], \"y\": [-0.03342101792119687, 0.0021840600591908634, 0.005524101273616053, -0.018474910778582328, -0.007157621626971189, 0.030769098883332787, 0.004100117031514709, -0.3147781668497954, 0.2071361796369639, 0.12411816029192675], \"topics\": [1, 2, 3, 4, 5, 6, 7, 8, 9, 10], \"cluster\": [1, 1, 1, 1, 1, 1, 1, 1, 1, 1], \"Freq\": [20.485888346036585, 16.97680076419317, 15.275085532409902, 11.801182416048274, 10.996618649406921, 8.316060050281553, 7.326308538124036, 3.084489267305055, 2.898022648919747, 2.8395437872747586]}, \"tinfo\": {\"Term\": [\"abstract\", \"sleep\", \"vagin\", \"ovarian\", \"urinari\", \"symptom\", \"fractur\", \"guidelin\", \"inflamm\", \"scale\", \"cancer\", \"incontin\", \"osteoporosi\", \"breast\", \"endometri\", \"midlif\", \"sexual\", \"depress\", \"score\", \"imag\", \"pregnanc\", \"vitamin\", \"cognit\", \"qualiti\", \"adipos\", \"health\", \"obes\", \"metabol\", \"flash\", \"insomnia\", \"chines\", \"burden\", \"china\", \"trajectori\", \"categor\", \"implement\", \"breastfeed\", \"textil\", \"hispan\", \"tailor\", \"rural\", \"snap\", \"african\", \"tripl\", \"pollut\", \"south\", \"march\", \"item\", \"india\", \"poorer\", \"korea\", \"august\", \"melanoma\", \"binari\", \"septemb\", \"meier\", \"drink\", \"mendelian\", \"multidisciplinari\", \"iranian\", \"logist\", \"variant\", \"confound\", \"pariti\", \"subtyp\", \"cohort\", \"demograph\", \"menarch\", \"ethnic\", \"hazard\", \"survivor\", \"adjust\", \"nation\", \"alcohol\", \"smoke\", \"cancer\", \"mortal\", \"quartil\", \"regress\", \"breast\", \"confid\", \"associ\", \"lifestyl\", \"among\", \"factor\", \"statu\", \"trend\", \"year\", \"incid\", \"histori\", \"model\", \"ratio\", \"particip\", \"stage\", \"analysi\", \"patient\", \"women\", \"surviv\", \"interv\", \"variabl\", \"analys\", \"studi\", \"higher\", \"popul\", \"identifi\", \"premenopaus\", \"reproduct\", \"earli\", \"includ\", \"obes\", \"lumbar\", \"spine\", \"flavon\", \"femor\", \"genotyp\", \"vertebr\", \"fragil\", \"asian\", \"periodont\", \"donat\", \"trabecular\", \"bishop\", \"stiff\", \"osteoclast\", \"walk\", \"frailti\", \"carotid\", \"magnet\", \"reson\", \"calvin\", \"melatonin\", \"phenol\", \"nutrient\", \"osteoporot\", \"handgrip\", \"machin\", \"spectrometri\", \"repair\", \"track\", \"glace\", \"vitamin\", \"post\", \"calcium\", \"fractur\", \"miner\", \"osteoporosi\", \"muscl\", \"resorpt\", \"train\", \"turnov\", \"demo\", \"pressur\", \"skelet\", \"systol\", \"supplement\", \"energi\", \"densiti\", \"arteri\", \"imag\", \"absorpt\", \"group\", \"serum\", \"score\", \"intak\", \"blood\", \"marker\", \"postmenopaus\", \"level\", \"valid\", \"measur\", \"correl\", \"chang\", \"control\", \"metabol\", \"women\", \"associ\", \"intervent\", \"increas\", \"adher\", \"instant\", \"ozon\", \"rectal\", \"vaccin\", \"salivari\", \"fullest\", \"lexem\", \"stane\", \"pablo\", \"tirol\", \"astrodom\", \"cream\", \"iren\", \"pluton\", \"hedon\", \"switch\", \"saliva\", \"cerebrovascular\", \"oxytocin\", \"moistur\", \"eliza\", \"paus\", \"underweight\", \"nitrat\", \"abl\", \"viral\", \"parkinson\", \"arthralgia\", \"transderm\", \"nocturn\", \"tamoxifen\", \"acupunctur\", \"aroma\", \"capsul\", \"safeti\", \"placebo\", \"serotonin\", \"adjuv\", \"inhibitor\", \"efficaci\", \"pharmaci\", \"flush\", \"endpoint\", \"progestin\", \"trial\", \"chemotherapi\", \"treatment\", \"therapi\", \"formul\", \"atrophi\", \"random\", \"receiv\", \"endocrin\", \"month\", \"week\", \"flash\", \"vagin\", \"oestrogen\", \"improv\", \"advers\", \"patient\", \"symptom\", \"effect\", \"treat\", \"group\", \"hormon\", \"breast\", \"cancer\", \"combin\", \"clinic\", \"outcom\", \"cognit\", \"healthcar\", \"global\", \"cochran\", \"fibroid\", \"version\", \"attitud\", \"narr\", \"dispar\", \"perspect\", \"sedentari\", \"librari\", \"drool\", \"theme\", \"lifetim\", \"lubric\", \"octob\", \"workplac\", \"pandem\", \"stein\", \"adopt\", \"bothersom\", \"engag\", \"english\", \"languag\", \"candid\", \"googl\", \"scholar\", \"practition\", \"specialist\", \"systemat\", \"psychosoci\", \"scienc\", \"depress\", \"anxieti\", \"emot\", \"psycholog\", \"mental\", \"sexual\", \"social\", \"disabl\", \"dementia\", \"expert\", \"articl\", \"summar\", \"behavior\", \"knowledg\", \"qualiti\", \"review\", \"symptom\", \"health\", \"search\", \"scope\", \"manag\", \"peopl\", \"experi\", \"impact\", \"intervent\", \"research\", \"disord\", \"strategi\", \"highlight\", \"survey\", \"discuss\", \"score\", \"preval\", \"transit\", \"literatur\", \"function\", \"provid\", \"evid\", \"physic\", \"women\", \"includ\", \"improv\", \"epidem\", \"leptin\", \"nake\", \"polyp\", \"plaqu\", \"indian\", \"fiber\", \"elisa\", \"histopatholog\", \"latin\", \"mammogram\", \"mysteri\", \"expenditur\", \"dimorph\", \"particl\", \"mass\", \"papillari\", \"stenot\", \"orogen\", \"thicken\", \"precancer\", \"fibril\", \"retrial\", \"globular\", \"thrombot\", \"lemon\", \"rostov\", \"hyperthyroid\", \"hypercholesterolemia\", \"postprandi\", \"lumin\", \"triglycerid\", \"myxoma\", \"adipos\", \"insulin\", \"mutat\", \"endotheli\", \"fast\", \"lesion\", \"ducal\", \"endometri\", \"cholesterol\", \"lipoprotein\", \"lipid\", \"glucos\", \"malign\", \"liver\", \"mammographi\", \"break\", \"hyperplasia\", \"benign\", \"lotu\", \"express\", \"metabol\", \"biopsi\", \"obes\", \"uterin\", \"patholog\", \"resist\", \"tutor\", \"tissu\", \"level\", \"grade\", \"diabet\", \"serum\", \"marker\", \"patient\", \"group\", \"postmenopaus\", \"bleed\", \"laser\", \"cardiac\", \"biom\", \"aerob\", \"mitig\", \"apoptosi\", \"microbi\", \"lactobacillu\", \"hippocampu\", \"aortic\", \"margin\", \"robot\", \"biotic\", \"bacteria\", \"mous\", \"mesenchym\", \"gastric\", \"anabol\", \"extracellular\", \"unregul\", \"symbiosi\", \"phosphoryl\", \"celia\", \"longev\", \"apoptot\", \"polymeras\", \"innov\", \"certainti\", \"lupu\", \"aneurysm\", \"transcript\", \"peni\", \"asthma\", \"signal\", \"oxid\", \"kinas\", \"ovariectomi\", \"intestin\", \"network\", \"pathway\", \"cell\", \"regul\", \"carrier\", \"gene\", \"micro\", \"immun\", \"mechan\", \"genom\", \"induc\", \"exercis\", \"inflammatori\", \"osteoblast\", \"oestrogen\", \"stroke\", \"target\", \"understand\", \"protein\", \"activ\", \"tissu\", \"femal\", \"receptor\", \"age\", \"stress\", \"mediat\", \"function\", \"migrain\", \"neuron\", \"agonist\", \"embryo\", \"ventricular\", \"station\", \"miller\", \"elast\", \"arous\", \"intercours\", \"thrombosi\", \"statement\", \"pose\", \"psoriasi\", \"sperm\", \"acquir\", \"introduct\", \"alpin\", \"ocular\", \"cascad\", \"primordi\", \"tobacco\", \"garda\", \"labour\", \"preterm\", \"coexist\", \"dopamin\", \"advoc\", \"nasal\", \"fatal\", \"memori\", \"gonadotropin\", \"transplant\", \"ovul\", \"reserv\", \"infertil\", \"oocyt\", \"serou\", \"follicl\", \"ovarian\", \"pregnanc\", \"follicular\", \"anaemia\", \"endometriosi\", \"cycl\", \"autoimmun\", \"covid\", \"menstrual\", \"ovari\", \"prematur\", \"sclerosi\", \"reproduct\", \"stimul\", \"amenorrhoea\", \"hormon\", \"understand\", \"patient\", \"insuffici\", \"abstract\", \"lichen\", \"spring\", \"zealand\", \"diuret\", \"centuri\", \"occlus\", \"firstli\", \"plateau\", \"biliari\", \"makeup\", \"laps\", \"secondli\", \"gaiter\", \"ezekiel\", \"varu\", \"splinter\", \"conif\", \"buildup\", \"obliter\", \"citrin\", \"nineteenth\", \"vernacular\", \"bruin\", \"temptat\", \"hairstyl\", \"somewher\", \"vertigin\", \"pretoria\", \"ascariasi\", \"calcin\", \"gemmatimonadet\", \"bulbou\", \"seafood\", \"narwhal\", \"antihistamin\", \"doubtlessli\", \"closet\", \"polari\", \"ringsid\", \"spici\", \"tristan\", \"oldi\", \"scratch\", \"distend\", \"fornix\", \"guidelin\", \"satisfact\", \"lifespan\", \"percept\", \"referr\", \"encompass\", \"dimens\", \"motor\", \"registr\", \"belief\", \"subclin\", \"inact\", \"student\", \"atherosclerot\", \"pittsburgh\", \"revis\", \"probe\", \"inconclus\", \"apnoea\", \"gather\", \"characteris\", \"iatrogen\", \"view\", \"candida\", \"step\", \"vasodil\", \"sensori\", \"goal\", \"safer\", \"hygien\", \"sleep\", \"consult\", \"incom\", \"insomnia\", \"calcif\", \"midlif\", \"circadian\", \"issu\", \"profession\", \"school\", \"clinician\", \"integr\", \"prescrib\", \"cluster\", \"scale\", \"night\", \"disturb\", \"imag\", \"flash\", \"incontin\", \"volvo\", \"perceiv\", \"mitochondri\", \"osteoarthr\", \"obstruct\", \"kinin\", \"rest\", \"atrial\", \"glaucoma\", \"urethr\", \"schizophrenia\", \"estonia\", \"urgenc\", \"itch\", \"miscarriag\", \"breath\", \"overact\", \"incident\", \"vestibular\", \"angiotensin\", \"magnesium\", \"pessari\", \"reflex\", \"cystiti\", \"aspirin\", \"franc\", \"suppositori\", \"dysuria\", \"graviti\", \"bladder\", \"burn\", \"floor\", \"inflamm\", \"urinari\", \"arena\", \"urogenit\", \"tract\", \"likelihood\", \"joint\", \"antibiot\", \"vagin\", \"difficulti\", \"infect\", \"stress\", \"qualit\", \"urin\", \"score\"], \"Freq\": [12572.0, 1206.0, 1309.0, 1289.0, 588.0, 1664.0, 1064.0, 468.0, 510.0, 762.0, 2074.0, 405.0, 1078.0, 1709.0, 914.0, 407.0, 857.0, 717.0, 1167.0, 466.0, 609.0, 639.0, 494.0, 824.0, 602.0, 1237.0, 966.0, 1123.0, 422.0, 298.0, 258.0416232683994, 222.71412272897246, 184.4375388255074, 144.71920674260727, 143.8002199223938, 140.41927963391944, 135.17849482831923, 128.34909256408102, 113.74667565885026, 116.7643313322571, 110.36276287863943, 109.98327049612956, 97.73100549496843, 98.73622660670028, 89.91584425239357, 88.58072140153969, 88.92404419710114, 85.03209157924282, 82.75588681334989, 81.4479776368419, 80.41855377989377, 81.39907886653066, 79.27042884668504, 77.95214157402819, 79.09133621956316, 76.12175291251496, 74.00792691395851, 68.90368454126988, 66.85961600503744, 64.75603997798603, 360.6920641498205, 254.0104376001094, 191.44732777577002, 215.14187940483495, 265.1051605067416, 564.7224875695413, 302.98851706588, 289.3123644606313, 214.70095125561673, 364.86054818642054, 266.4820648039429, 556.9566479086023, 299.4025389099116, 189.80694796103154, 272.5131736624395, 1416.8061037741563, 355.1529282986372, 211.7672428488362, 477.8651515332344, 1111.721236911136, 331.4174024084809, 1133.4892038961127, 281.65748074123434, 595.4603071182972, 715.2411153772381, 550.3065688958449, 253.23974224264515, 695.4046017728142, 407.7253908970103, 356.3407206215705, 562.4115802438716, 413.73187419896607, 472.02169402806635, 384.41582819767484, 500.0411186339695, 685.4441919627877, 579.4144892257261, 351.00799357157007, 325.4383634052299, 345.4872820441671, 401.11093053523285, 463.58729997571083, 423.5133451314432, 348.40211769091394, 367.6873365779391, 371.54012149218374, 366.06310046832107, 359.71319187108884, 376.00998031596083, 357.367972765806, 338.35549917054914, 328.2116119491034, 294.96940268918945, 271.92531627084566, 266.890853423443, 249.32352409524034, 199.46160113454636, 180.69577927361502, 177.5937948532185, 173.29493180264993, 167.49309014294087, 143.1400968978835, 133.42068728437417, 130.5094937523915, 121.02615985889963, 120.04654224262504, 118.66244029811152, 116.8713907004043, 111.31029658390275, 107.9639758106664, 104.87169604116924, 103.92015183515488, 101.06509450591273, 243.1311711057426, 94.59053154239577, 90.10003879879513, 89.29322555165267, 90.25700144020098, 88.50085248527947, 82.85312259305236, 625.7413648664824, 326.49340032204117, 298.3208199968149, 1028.2796663911593, 439.348191034796, 963.4330616684047, 582.3605135684315, 138.09023826951363, 501.47677149669676, 154.629437344725, 153.3168249127993, 349.16371964962065, 236.50629223108564, 143.03320770685104, 370.62036301910376, 270.3042360950166, 498.8314577931281, 242.06149347969972, 327.79284670679493, 181.6933409380514, 798.2612624374622, 446.06448899505835, 510.4642975363641, 298.4260634319509, 362.60427890512835, 398.82997816089113, 525.3155987463487, 543.637045279666, 310.5496357301822, 369.4982760310924, 367.941751957526, 360.8790170721611, 345.1224014701838, 344.61119783539203, 364.1229612108554, 357.38793348671294, 315.6744983563124, 324.10592878744364, 324.58213765965286, 285.55946529334307, 198.36763956497742, 169.9413031647358, 141.22287871964352, 130.2809934442848, 123.39906893939379, 117.80808684715996, 117.06731014153685, 115.09068593248182, 148.8988405715537, 99.43264012422141, 95.45503988998249, 89.7957695350224, 84.31995462342161, 74.33140616861716, 74.80764228400224, 71.54596538164799, 69.67857086647665, 66.82787504613427, 66.0797517157159, 62.94815975032472, 60.4561158347302, 59.598194378470644, 57.82023475019241, 57.48891534679594, 57.087807784583674, 57.234931350054346, 55.975367336798996, 183.53825290901315, 59.57480268690863, 365.88870275685105, 203.91091158669434, 242.68960722475802, 105.08824194352302, 453.2437210011498, 531.8849734947953, 86.95639936317777, 352.7032213219777, 317.9588258117288, 445.4196133615933, 180.86654628093544, 182.87879541048656, 160.70026184100084, 161.76721340196806, 577.9605967341166, 380.7967909668638, 876.2801079676876, 664.9003061707439, 161.46738703971278, 207.39495047269227, 378.891483473149, 396.16535682984323, 314.32290572807807, 479.8160711929823, 361.39230088476245, 280.96172012368874, 599.677181414981, 559.8846133412588, 474.96355386462847, 285.85075084601846, 664.5138106535568, 570.0931927310073, 495.81390556313204, 327.88374332446716, 628.3615763704495, 435.9061832652155, 470.2445941625915, 472.99056953079713, 309.40162246308415, 355.92377527708726, 312.2528962688623, 493.17927845944286, 194.6984872467858, 194.0966273526527, 163.2644751241946, 124.42704898158063, 124.37179631838676, 106.17165320343925, 93.09487712705634, 92.03523792097117, 90.89673487488783, 87.04935303005713, 85.34413745587449, 82.66133502088134, 81.47550628999983, 80.44810641504354, 73.16175187114348, 74.10499587303852, 67.6786151538824, 67.46382651487563, 67.35352785086694, 67.21962539085317, 66.62820194686114, 66.09896173655976, 64.00904414381039, 63.62857870401378, 64.49065605654428, 60.58106145482593, 56.855451726439796, 52.056253081383886, 51.70526286339662, 291.50141887120947, 113.42896430228616, 169.32403750136945, 634.678470387222, 318.28932119641183, 116.11914753653042, 245.32178029596298, 262.95582348914905, 717.0974347222951, 205.71688388561932, 100.27787095824375, 142.85040960827968, 86.38576013098766, 256.71261206500793, 125.0517598301952, 177.19623560502768, 261.99850430308214, 593.1983195495484, 521.2154510771911, 931.4315936343745, 711.8793277445432, 256.600778194755, 130.2569208860607, 389.1903711609343, 146.90350170903827, 262.4409979797851, 397.5409483872545, 419.6286987029513, 362.11842615735196, 313.3792002098105, 251.600345748517, 231.83732577294464, 226.3115870824061, 193.92143670162815, 402.40530841849886, 306.54750289977926, 250.58318304212202, 212.86291467415714, 284.76074157754306, 240.3492472708942, 239.87717135079276, 246.06468726378498, 282.79620900247164, 249.73592633448774, 244.36627678651183, 212.22465174376504, 211.51518584142121, 205.59523497894438, 198.13924050650334, 113.79713815977762, 113.46054832243702, 110.83895778263698, 91.361864285394, 82.73167747213466, 80.2960160222951, 79.47402567514685, 192.88157519728662, 74.53419498286966, 68.92764956170411, 67.63951599008847, 96.01828275827741, 61.46406909435938, 59.48047929548498, 58.844638121558226, 57.54817233523196, 51.80018559204294, 52.320379889899364, 50.8364513083873, 50.11881137617673, 50.24356763597321, 49.10288984924891, 47.398276216538115, 46.281216114763296, 45.26375056620731, 44.161315684888244, 200.03285063962525, 229.44728109101675, 130.73959463813387, 519.0973478626231, 438.40486560078295, 306.6346072960331, 209.0021101045137, 204.1674173125926, 335.0552242718276, 78.19219886448015, 676.8412549157924, 345.59347105981595, 281.78982061426126, 430.60291399720364, 346.79724396643735, 393.6859827292743, 300.8361011280344, 211.79165168288867, 195.24836434162702, 146.89505400784594, 224.84633047751527, 199.31312335523583, 561.1696744994084, 560.5185581716457, 191.79528548644484, 462.06948330567906, 290.6076765507636, 317.8988537413503, 270.08609540707107, 313.91740999724584, 290.305419702144, 422.18503187721905, 251.09197462616248, 280.39047621980546, 291.1210207571204, 276.68317368772387, 315.76685217091944, 312.6908309627001, 259.49436838665196, 225.6473097508369, 314.14339886442565, 205.95046237273286, 186.5730859769159, 156.4495642499128, 144.38115280779022, 113.2721780227482, 110.79401869590126, 96.53780472440936, 185.24216522994965, 87.89579697356832, 87.86327967521576, 86.44391416521604, 84.44834441689446, 82.25844064175826, 111.23489542529234, 68.11409200183495, 64.53392289012874, 61.998364186343395, 60.556576719658146, 57.908169675764775, 56.37203939480936, 56.01678322931461, 54.586032504008784, 54.24403915214152, 53.25629760861393, 53.37725966999996, 49.36031749947212, 49.23005586523669, 48.08617719814164, 46.19279352799228, 162.5412213589463, 214.65794161296319, 106.02854932975517, 322.35217550784904, 332.60036720111555, 91.03878213928563, 387.98982974805693, 91.6137953249327, 191.81546531669275, 346.7317858980279, 414.38609515967335, 359.76693682821616, 157.0397334508189, 233.46155308794505, 341.5330542178439, 269.5967181495326, 299.6265992112223, 134.94220078993558, 271.79046033896566, 332.3168862623107, 264.2586385075025, 122.71252393630958, 385.14278736485096, 161.53471423441167, 204.8079463947242, 216.6505675367698, 221.64997213089117, 265.05043368216667, 209.6471362002256, 248.13954533720445, 203.58362746270265, 189.1076876776787, 183.90741647089328, 174.18882192853067, 186.47884198361004, 246.95143289925122, 177.29062857654148, 177.40563889226223, 143.8235339544855, 117.31216242136762, 115.89173461928883, 104.97673329977796, 104.01388159923336, 104.05057493024101, 99.92191537174259, 98.07377749354268, 96.78775138790698, 89.77449564860275, 87.35725373720955, 85.38245788501945, 72.6983504771713, 71.88952095800671, 70.58947825652282, 68.154269992622, 67.53136312567598, 64.82313136925634, 63.31320171470847, 61.834054502432004, 60.77230309453612, 57.76118640226888, 56.22860292298302, 55.835615881624136, 56.58467669328826, 55.48945315964177, 52.32831902766544, 345.0435570582977, 247.57967331231274, 147.1858215868659, 148.67767491888313, 195.494039797071, 251.61912885382105, 263.324429743621, 116.32560301669794, 315.73460312507274, 753.2621064228144, 400.6665779750415, 134.18003353340575, 114.91595227687314, 310.62304982933796, 331.99150828182894, 133.49247345710432, 172.76162314931173, 258.90660400964424, 207.2874999886426, 209.99494362656407, 128.06826622181214, 274.57960500094504, 179.67103969439827, 135.99506127051407, 198.1478913771172, 150.63545291001398, 171.6474068762763, 127.35653106878792, 12566.12876135354, 101.30783033501363, 48.16935984362397, 42.970767798695874, 39.96853472870745, 38.27292732734988, 28.31099704386391, 27.880213027981153, 24.623255915803004, 22.189481038618986, 21.87767408726928, 8.570460583550254, 7.188799536930649, 6.581201258153041, 0.1741644392620762, 0.17400712487012263, 0.17232010209011558, 0.17223155811112276, 0.173076139564532, 0.17293525290655326, 0.17218117470316138, 0.17194175178396479, 0.17193563282984203, 0.17218118977447697, 0.17184677235322218, 0.1720908070949842, 0.17185153488894334, 0.17195180435145213, 0.17182342688539923, 0.17193649189482973, 0.1736570634233028, 0.17216028585977688, 0.17220785093172605, 0.17302596715498864, 0.17487349944585076, 0.17266940997115676, 0.17213938194507677, 0.17296201956301135, 0.17377820665788057, 0.17348733026731689, 0.17284812563122431, 0.17288078517207156, 0.17382684179323546, 0.17429467049994463, 0.17282832192256106, 0.17288230737494445, 467.3513697981429, 269.4022819678763, 244.8031136562271, 161.69057076536126, 137.35447694093406, 115.49017114221999, 111.94942460509792, 109.73953656219926, 107.28289384332089, 103.49332637246518, 103.49958314594456, 94.31930144571709, 88.85395543627965, 87.97631789282809, 84.894969329658, 79.98050213746654, 77.27368272976689, 75.64467411669551, 73.57221033949968, 68.83908807782919, 59.73633816855008, 56.98823710593552, 55.85537322971322, 55.27807531332605, 52.80678753949015, 50.48882334102136, 49.6861547039006, 49.566286379078775, 46.88616157155415, 46.350116309973046, 1048.6217790926255, 188.75454532652358, 171.0179627676397, 249.75114122435832, 80.85699417661944, 312.13545032977134, 67.44521959715243, 214.9483136221212, 167.93362719326043, 75.68404176442785, 157.23157203237577, 156.5739945647289, 139.59701185634444, 123.14414811478606, 224.67808213437098, 110.68140209667489, 116.19903530232699, 137.69077670294362, 126.43083194850408, 404.7178968238395, 257.46968382587715, 226.67997375547415, 192.45906276276682, 150.5209865393435, 126.89592780702604, 120.04504821207463, 117.4340084082568, 93.19998244297187, 91.63278600006318, 89.76456900892474, 88.44853203511838, 86.677856357201, 80.03557778640928, 79.41820684114552, 77.88006465292142, 74.81751178608333, 73.05671029252086, 61.971887002129826, 59.612617588172974, 59.247148451770606, 58.24317122222819, 57.545229774120266, 55.32520056702716, 53.13943620039154, 52.91377556923307, 52.63216241068505, 51.42760071600778, 50.66078505609191, 50.75641901787464, 262.5080751895925, 127.85272916728718, 237.2903744543956, 428.12269731147467, 458.9203209368211, 187.47322479175483, 141.19028013281854, 169.95139230547818, 114.25955048663963, 154.2819283892639, 75.74839163648039, 381.2557550296483, 88.75223779319428, 113.77141059301943, 100.09220574507837, 83.2465559826801, 81.66722636935546, 83.09991368941505], \"Total\": [12572.0, 1206.0, 1309.0, 1289.0, 588.0, 1664.0, 1064.0, 468.0, 510.0, 762.0, 2074.0, 405.0, 1078.0, 1709.0, 914.0, 407.0, 857.0, 717.0, 1167.0, 466.0, 609.0, 639.0, 494.0, 824.0, 602.0, 1237.0, 966.0, 1123.0, 422.0, 298.0, 259.05578641041893, 223.73403296640936, 185.43194900709787, 145.71523602357817, 144.81346794663094, 141.4382675924049, 136.1691879961849, 129.3378778161617, 114.73519600023805, 117.78636898444097, 111.35098488990701, 110.97140654731174, 98.7195640206189, 99.73936830582258, 90.90838240574574, 89.57433806792972, 89.94293333185963, 86.03650207844395, 83.75203695943075, 82.44399575934965, 81.40747566208611, 82.4008030980205, 80.25956052355527, 78.94195703922092, 80.1171635621575, 77.11299255244742, 75.00212955830494, 69.89293339922699, 67.86150903789827, 65.75296386187881, 368.65550579757354, 260.01828120030024, 198.97688519627104, 227.4175248234884, 283.84281287672525, 635.7334887507669, 331.4213585113324, 315.6622491142197, 230.1573153000145, 405.6341428651528, 290.4559527031119, 655.5986810564032, 335.15626712541115, 204.7767978083983, 313.92798431047066, 2074.055320867964, 436.82740067148654, 240.27633735233175, 625.153045574217, 1709.0772532066828, 413.17357122658217, 1860.1187673100483, 349.4815572900384, 909.0448880353681, 1218.7233202317964, 867.0295135882382, 308.9170894223734, 1223.3909814945694, 599.5813064172313, 503.672083678799, 1044.9203770420766, 663.9404033622515, 911.0720349662612, 659.7105961584036, 1104.7657030342368, 2105.453691086359, 1692.376729550417, 578.1832129051054, 484.7123415227867, 567.2606457920367, 858.1272767062997, 1303.2056044782898, 1039.1702042907382, 605.4039431319828, 758.8701277220603, 907.2266847156254, 863.3917681068185, 762.1303308913408, 1166.2407559781636, 966.9197549744391, 339.3244631067419, 329.18156909872175, 295.94034356683744, 272.89428806406187, 267.86100583263493, 250.29250786385944, 200.43174719573952, 181.67620530999002, 178.5628661623586, 174.26607214558197, 168.4619296565934, 144.1097692074258, 134.39129367111286, 131.4787441073428, 121.997105871995, 121.02147892818178, 119.63184088145036, 117.84111209346585, 112.28055625260446, 108.93536579178534, 105.84100900557476, 104.89235723918829, 102.03804338601957, 245.6178269139493, 95.55967199959125, 91.07401374790938, 90.26924065310484, 91.26162568992562, 89.48730243786363, 83.82393908833592, 639.9020243382948, 332.54110862003006, 304.45122993123465, 1064.7837076189544, 458.4159399045664, 1078.9205115122588, 635.4477021646688, 142.81748332365132, 583.7879362232346, 161.94640279595762, 160.96295827686396, 422.37004338059023, 280.6598550775695, 150.72190908579307, 507.67321017601836, 341.00136327437156, 759.5418673679055, 301.50468550095906, 466.3498138439033, 206.20964800210086, 2205.360619890957, 908.7960189417876, 1167.28229554106, 482.02928627433664, 691.6189456269693, 848.7405523688367, 1465.0626647603813, 1599.885971695375, 524.5324188776659, 768.5448527700316, 798.43900274334, 1013.5324704004056, 1080.2677905133444, 1123.5917393256423, 1692.376729550417, 1860.1187673100483, 762.3302104144253, 1198.0395399662007, 325.5389098002238, 286.5097040947781, 199.31628418923555, 170.8954795244325, 142.17489893734935, 131.25895820185585, 124.346622063589, 118.75540938945257, 118.01467696251278, 116.038005763531, 150.27612540102822, 100.38010031014981, 96.40543648070083, 90.7443852634006, 85.26953542204873, 75.27940459064432, 75.77404923586839, 72.49671558954563, 70.64154230070768, 67.78160557329645, 67.02755168023957, 63.89753758369724, 61.40781180195485, 60.55578401051975, 58.769763361790254, 58.43827057528865, 58.04965522734195, 58.20278926116128, 56.92355703738407, 186.64950548087526, 60.59103037221436, 385.2505872538085, 215.994532803806, 260.345246651789, 109.21627874559091, 509.42769973420707, 619.6258118054407, 90.91960963237568, 426.59578233663103, 382.3988446252801, 562.9138031512967, 205.3832128366169, 209.42487121658684, 182.74941433514562, 185.9067547711806, 823.6775434554914, 514.6600443408516, 1507.4442901164848, 1103.0959564634916, 189.13637107577304, 261.3037916920343, 612.5434541462008, 675.0541104339989, 486.23950650608276, 905.8373455129808, 611.6363920155492, 422.12494031432067, 1309.4021755661527, 1265.707885447218, 1039.7080272683602, 458.3210673028263, 2105.453691086359, 1664.9447203450807, 1294.4032181904636, 607.79130716874, 2205.360619890957, 1340.6968995440893, 1709.0772532066828, 2074.055320867964, 612.2065365447888, 1133.8098038979203, 893.120159316436, 494.1810599524609, 195.7016388249183, 195.118054922976, 164.26494380411188, 125.43299391269399, 125.37879249365763, 107.17179480937793, 94.09604342119776, 93.04032390360227, 91.90198864803668, 88.0610164242193, 86.34565851336136, 83.6614431881278, 82.47559955908223, 81.45321485342816, 74.16337651312863, 75.16127746514836, 68.67876878946502, 68.46616894582283, 68.35437743085922, 68.22925695997, 67.63719088242182, 67.10148592156614, 65.0098077469908, 64.62959369343056, 65.52763796119763, 61.58209901672736, 57.85647569151767, 53.057699381907526, 52.71140087174006, 299.41657934750447, 116.27899795042651, 177.22654547176538, 717.8697374556166, 349.47699752707047, 121.2994938034054, 267.91736366516204, 288.9309514552959, 857.7379280471787, 225.44914685324218, 105.01980057580738, 154.38841617561786, 89.72118251754193, 299.66299082326066, 134.92657651291555, 201.47054565207623, 316.3682209200273, 824.2041626597967, 767.6880414873483, 1664.9447203450807, 1237.3937452081482, 341.9020990964155, 146.63608799574203, 620.3392134046475, 174.3774597516869, 388.05956389045906, 693.4883604170674, 762.3302104144253, 631.9934685620478, 532.8503075752146, 393.9582553619089, 347.9199489572559, 342.7465407621569, 265.32728229109495, 1167.28229554106, 759.4192967287623, 470.84963053079616, 330.7762765264058, 962.1695510497428, 571.7687961709544, 581.8403953751783, 673.5129086481784, 1692.376729550417, 1166.2407559781636, 1039.7080272683602, 213.17763561183978, 212.4663151717698, 206.54436127758552, 199.1078458257261, 114.74848425845927, 114.41567191422641, 111.80206672925955, 92.34646884489433, 83.68355325175457, 81.2518406866239, 80.42428465373838, 195.33649060117003, 75.48832030555806, 69.88746905049634, 68.59139676282797, 97.38302516212876, 62.413781047892954, 60.42999186678629, 59.79551676400473, 58.49974031031045, 52.750051229491135, 53.285038556543945, 51.78906314878152, 51.06900357440795, 51.196274098567415, 50.06710486953789, 48.347238368075665, 47.231007380810205, 46.21471925379904, 45.11050802518743, 208.43216791744894, 240.40697925920762, 138.89041243404716, 602.2450292942257, 507.01131094211496, 348.37983271564326, 231.7412330160027, 227.7936604170059, 409.52356945371224, 82.8113273109039, 914.0145962501208, 433.95233609148534, 346.15747231399354, 564.3450706083379, 442.185706878872, 537.4131038913765, 395.7463314432246, 266.01134114036324, 242.73296507716657, 171.89616944350215, 297.99011484459544, 262.20199377935575, 1067.0958068601283, 1123.5917393256423, 250.79874220601232, 966.9197549744391, 490.0381220562741, 610.0504373539495, 482.6305508082664, 736.9342087498536, 616.5482446035602, 1599.885971695375, 474.81495155193124, 755.3128894542635, 908.7960189417876, 848.7405523688367, 2105.453691086359, 2205.360619890957, 1465.0626647603813, 382.7773204975483, 315.1223631614006, 206.93015391191622, 187.55158428480937, 157.42977782689732, 145.37995600006502, 114.2504991485719, 111.77242845105886, 97.51596367439203, 187.20002304970976, 88.87460648124836, 88.85221944092571, 87.4240403044283, 85.42683873865407, 83.23776908110983, 112.787271577077, 69.10039356070843, 65.51325445209599, 62.97936188649146, 61.53587824123574, 58.88683093760939, 57.35061692395926, 56.994812882378895, 55.56653243018261, 55.22516242281472, 54.2344577891283, 54.357645225550336, 50.34984811631064, 50.217396295358604, 49.06450921231673, 47.17085986647303, 166.91494025686467, 222.71249678451525, 109.78764585047115, 342.7540742504263, 358.48953167144134, 94.84123813277999, 443.75219313021006, 96.55153013933725, 219.55428626397963, 424.1812272599585, 537.6248700931765, 474.551693141595, 184.37538083547955, 312.07108928480955, 533.8711221483605, 416.08338317755835, 513.9399514660502, 167.65465523277788, 472.0370168310021, 639.1598018708236, 481.3475068328237, 148.8358850846576, 1265.707885447218, 257.4634470058046, 429.85143862940777, 499.0563564580327, 550.7838825448576, 893.657016888207, 616.5482446035602, 1130.4158338911934, 717.6748680163967, 551.4680927828903, 475.38968097314205, 375.0443542341486, 962.1695510497428, 247.89733740859154, 178.23929825062177, 178.35585134919057, 144.76962628873636, 118.26054689831012, 116.83956477229475, 105.92474104503755, 104.96281209081572, 105.00051570867421, 100.87724941747231, 99.02102635967427, 97.7406976817048, 90.73619781396025, 88.30349052946342, 86.39925750397407, 73.65649953460193, 72.84631222546493, 71.53591965123893, 69.10092807743882, 68.47999411363371, 65.76884020884363, 64.26227065519784, 62.779775955638826, 61.719710426255084, 58.707711076459105, 57.1817428905848, 56.782846651069406, 57.54628915433468, 56.435976111154105, 53.27737157089278, 368.8201657473537, 264.59369361527547, 155.70251381275273, 160.38745420207115, 218.75729168148695, 290.7982984488043, 312.0356750079891, 128.2172852344138, 413.5975007928868, 1289.6090789014124, 609.9807046138845, 159.96910565668983, 132.266074281025, 497.41604754907763, 562.4969334221784, 166.87338223695716, 256.74094893793915, 494.38884810601263, 357.5756881698562, 375.3028878751566, 164.10454070496235, 863.3917681068185, 370.01130360727154, 215.90002412284713, 1340.6968995440893, 499.0563564580327, 2105.453691086359, 290.20812695013336, 12572.878234847089, 102.19944175006529, 49.06917999156702, 43.866329719179525, 40.861697018962055, 39.16634297350365, 29.20609312910525, 28.775693350051963, 25.516326607258193, 23.081201787962314, 22.77959561527671, 9.467432490645745, 8.089566534374315, 7.474632012669368, 1.0675389330405123, 1.0693948872973877, 1.0626079274915587, 1.0627126126882274, 1.0680336477167929, 1.0674043511929874, 1.0630814795796792, 1.0617194405754382, 1.0616993152268437, 1.0633553793535544, 1.0612968272973722, 1.0628430880452886, 1.0613690258916562, 1.0620346484964132, 1.0612761126053905, 1.061977509203624, 1.0734643947076679, 1.0635342612778858, 1.0639827810582165, 1.0705846780942088, 1.08597122649955, 1.0685281539464488, 1.0635804815086765, 1.0717189124952913, 1.0799708403923498, 1.0788040518073794, 1.0715699430518866, 1.0719908258924633, 1.091324403711419, 1.1017651165360682, 1.0763925543149888, 1.0894959399807753, 468.3030963960035, 270.35277493554463, 245.7539629489886, 162.64005477273676, 138.30459535089958, 116.44197858858323, 112.89902621101933, 110.68963749325157, 108.23657881035953, 104.44233080556245, 104.4491101354633, 95.26999425145235, 89.80458941370873, 88.92629582463171, 85.8438722645892, 80.9307337459344, 78.22386418610957, 76.5958823270447, 74.52072153720928, 69.78997674675911, 60.68763259748905, 57.93812746221205, 56.805004283049364, 56.22762700667323, 53.756912147510704, 51.43982830031922, 50.63659133344979, 50.515674693175036, 47.837144752102915, 47.299218855052764, 1206.5651767261759, 205.9359797032801, 193.1890302833485, 298.2379549619374, 87.45087186275373, 407.89121585207187, 71.86153062883403, 303.86227083843977, 234.38905027480482, 84.79403037621596, 248.77043374706497, 296.2384267694364, 252.40492401596052, 216.47957928499088, 762.7848214763269, 206.48374156934997, 259.878824470937, 466.3498138439033, 422.12494031432067, 405.6574130340831, 258.40694444871826, 227.6188856762406, 193.3968054939169, 151.45843595507148, 127.834381960697, 120.9842205646729, 118.37279501222119, 94.13773574953886, 92.56946233344877, 90.70125731526194, 89.38555570530319, 87.61489787034915, 80.97259456698845, 80.35513263390104, 78.81965121895709, 75.75564373566723, 73.99336094067495, 62.91123681537524, 60.54952948498014, 60.18510884880368, 59.1802627470685, 58.48181646534015, 56.262969943370415, 54.0761778813026, 53.85086872714385, 53.56985284388585, 52.36452420793649, 51.59761340111986, 51.69513867697731, 271.95096578142727, 133.46145401693366, 252.6295915734653, 510.14151148569516, 588.2288883518887, 220.1022471266233, 170.27226759125466, 228.09224200784394, 140.66118746596737, 233.8929541279989, 87.56679754803595, 1309.4021755661527, 145.2281146571406, 335.18510254456, 475.38968097314205, 199.43453399469786, 171.62886176041653, 1167.28229554106], \"Category\": [\"Default\", \"Default\", \"Default\", \"Default\", \"Default\", \"Default\", \"Default\", \"Default\", \"Default\", \"Default\", \"Default\", \"Default\", \"Default\", \"Default\", \"Default\", \"Default\", \"Default\", \"Default\", \"Default\", \"Default\", \"Default\", \"Default\", \"Default\", \"Default\", \"Default\", \"Default\", \"Default\", \"Default\", \"Default\", \"Default\", \"Topic1\", \"Topic1\", \"Topic1\", \"Topic1\", \"Topic1\", \"Topic1\", \"Topic1\", \"Topic1\", \"Topic1\", \"Topic1\", \"Topic1\", \"Topic1\", \"Topic1\", \"Topic1\", \"Topic1\", \"Topic1\", \"Topic1\", \"Topic1\", \"Topic1\", \"Topic1\", \"Topic1\", \"Topic1\", \"Topic1\", \"Topic1\", \"Topic1\", \"Topic1\", \"Topic1\", \"Topic1\", \"Topic1\", \"Topic1\", \"Topic1\", \"Topic1\", \"Topic1\", \"Topic1\", \"Topic1\", \"Topic1\", \"Topic1\", \"Topic1\", \"Topic1\", \"Topic1\", \"Topic1\", \"Topic1\", \"Topic1\", \"Topic1\", \"Topic1\", \"Topic1\", \"Topic1\", \"Topic1\", \"Topic1\", \"Topic1\", \"Topic1\", \"Topic1\", \"Topic1\", \"Topic1\", \"Topic1\", \"Topic1\", \"Topic1\", \"Topic1\", \"Topic1\", \"Topic1\", \"Topic1\", \"Topic1\", \"Topic1\", \"Topic1\", \"Topic1\", \"Topic1\", \"Topic1\", \"Topic1\", \"Topic1\", \"Topic1\", \"Topic1\", \"Topic1\", \"Topic1\", \"Topic1\", \"Topic1\", \"Topic1\", \"Topic1\", \"Topic1\", \"Topic1\", \"Topic1\", \"Topic2\", \"Topic2\", \"Topic2\", \"Topic2\", \"Topic2\", \"Topic2\", \"Topic2\", \"Topic2\", \"Topic2\", \"Topic2\", \"Topic2\", \"Topic2\", \"Topic2\", \"Topic2\", \"Topic2\", \"Topic2\", \"Topic2\", \"Topic2\", \"Topic2\", \"Topic2\", \"Topic2\", \"Topic2\", \"Topic2\", \"Topic2\", \"Topic2\", \"Topic2\", \"Topic2\", \"Topic2\", \"Topic2\", \"Topic2\", \"Topic2\", \"Topic2\", \"Topic2\", \"Topic2\", \"Topic2\", \"Topic2\", \"Topic2\", \"Topic2\", \"Topic2\", \"Topic2\", \"Topic2\", \"Topic2\", \"Topic2\", \"Topic2\", \"Topic2\", \"Topic2\", \"Topic2\", \"Topic2\", \"Topic2\", \"Topic2\", \"Topic2\", \"Topic2\", \"Topic2\", \"Topic2\", \"Topic2\", \"Topic2\", \"Topic2\", \"Topic2\", \"Topic2\", \"Topic2\", \"Topic2\", \"Topic2\", \"Topic2\", \"Topic2\", \"Topic2\", \"Topic2\", \"Topic2\", \"Topic2\", \"Topic3\", \"Topic3\", \"Topic3\", \"Topic3\", \"Topic3\", \"Topic3\", \"Topic3\", \"Topic3\", \"Topic3\", \"Topic3\", \"Topic3\", \"Topic3\", \"Topic3\", \"Topic3\", \"Topic3\", \"Topic3\", \"Topic3\", \"Topic3\", \"Topic3\", \"Topic3\", \"Topic3\", \"Topic3\", \"Topic3\", \"Topic3\", \"Topic3\", \"Topic3\", \"Topic3\", \"Topic3\", \"Topic3\", \"Topic3\", \"Topic3\", \"Topic3\", \"Topic3\", \"Topic3\", \"Topic3\", \"Topic3\", \"Topic3\", \"Topic3\", \"Topic3\", \"Topic3\", \"Topic3\", \"Topic3\", \"Topic3\", \"Topic3\", \"Topic3\", \"Topic3\", \"Topic3\", \"Topic3\", \"Topic3\", \"Topic3\", \"Topic3\", \"Topic3\", \"Topic3\", \"Topic3\", \"Topic3\", \"Topic3\", \"Topic3\", \"Topic3\", \"Topic3\", \"Topic3\", \"Topic3\", \"Topic3\", \"Topic3\", \"Topic3\", \"Topic3\", \"Topic3\", \"Topic3\", \"Topic3\", \"Topic3\", \"Topic3\", \"Topic3\", \"Topic3\", \"Topic4\", \"Topic4\", \"Topic4\", \"Topic4\", \"Topic4\", \"Topic4\", \"Topic4\", \"Topic4\", \"Topic4\", \"Topic4\", \"Topic4\", \"Topic4\", \"Topic4\", \"Topic4\", \"Topic4\", \"Topic4\", \"Topic4\", \"Topic4\", \"Topic4\", \"Topic4\", \"Topic4\", \"Topic4\", \"Topic4\", \"Topic4\", \"Topic4\", \"Topic4\", \"Topic4\", \"Topic4\", \"Topic4\", \"Topic4\", \"Topic4\", \"Topic4\", \"Topic4\", \"Topic4\", \"Topic4\", \"Topic4\", \"Topic4\", \"Topic4\", \"Topic4\", \"Topic4\", \"Topic4\", \"Topic4\", \"Topic4\", \"Topic4\", \"Topic4\", \"Topic4\", \"Topic4\", \"Topic4\", \"Topic4\", \"Topic4\", \"Topic4\", \"Topic4\", \"Topic4\", \"Topic4\", \"Topic4\", \"Topic4\", \"Topic4\", \"Topic4\", \"Topic4\", \"Topic4\", \"Topic4\", \"Topic4\", \"Topic4\", \"Topic4\", \"Topic4\", \"Topic4\", \"Topic4\", \"Topic4\", \"Topic4\", \"Topic4\", \"Topic4\", \"Topic4\", \"Topic4\", \"Topic4\", \"Topic4\", \"Topic5\", \"Topic5\", \"Topic5\", \"Topic5\", \"Topic5\", \"Topic5\", \"Topic5\", \"Topic5\", \"Topic5\", \"Topic5\", \"Topic5\", \"Topic5\", \"Topic5\", \"Topic5\", \"Topic5\", \"Topic5\", \"Topic5\", \"Topic5\", \"Topic5\", \"Topic5\", \"Topic5\", \"Topic5\", \"Topic5\", \"Topic5\", \"Topic5\", \"Topic5\", \"Topic5\", \"Topic5\", \"Topic5\", \"Topic5\", \"Topic5\", \"Topic5\", \"Topic5\", \"Topic5\", \"Topic5\", \"Topic5\", \"Topic5\", \"Topic5\", \"Topic5\", \"Topic5\", \"Topic5\", \"Topic5\", \"Topic5\", \"Topic5\", \"Topic5\", \"Topic5\", \"Topic5\", \"Topic5\", \"Topic5\", \"Topic5\", \"Topic5\", \"Topic5\", \"Topic5\", \"Topic5\", \"Topic5\", \"Topic5\", \"Topic5\", \"Topic5\", \"Topic5\", \"Topic5\", \"Topic5\", \"Topic5\", \"Topic5\", \"Topic5\", \"Topic5\", \"Topic5\", \"Topic5\", \"Topic5\", \"Topic5\", \"Topic5\", \"Topic6\", \"Topic6\", \"Topic6\", \"Topic6\", \"Topic6\", \"Topic6\", \"Topic6\", \"Topic6\", \"Topic6\", \"Topic6\", \"Topic6\", \"Topic6\", \"Topic6\", \"Topic6\", \"Topic6\", \"Topic6\", \"Topic6\", \"Topic6\", \"Topic6\", \"Topic6\", \"Topic6\", \"Topic6\", \"Topic6\", \"Topic6\", \"Topic6\", \"Topic6\", \"Topic6\", \"Topic6\", \"Topic6\", \"Topic6\", \"Topic6\", \"Topic6\", \"Topic6\", \"Topic6\", \"Topic6\", \"Topic6\", \"Topic6\", \"Topic6\", \"Topic6\", \"Topic6\", \"Topic6\", \"Topic6\", \"Topic6\", \"Topic6\", \"Topic6\", \"Topic6\", \"Topic6\", \"Topic6\", \"Topic6\", \"Topic6\", \"Topic6\", \"Topic6\", \"Topic6\", \"Topic6\", \"Topic6\", \"Topic6\", \"Topic6\", \"Topic6\", \"Topic6\", \"Topic6\", \"Topic6\", \"Topic6\", \"Topic6\", \"Topic6\", \"Topic6\", \"Topic7\", \"Topic7\", \"Topic7\", \"Topic7\", \"Topic7\", \"Topic7\", \"Topic7\", \"Topic7\", \"Topic7\", \"Topic7\", \"Topic7\", \"Topic7\", \"Topic7\", \"Topic7\", \"Topic7\", \"Topic7\", \"Topic7\", \"Topic7\", \"Topic7\", \"Topic7\", \"Topic7\", \"Topic7\", \"Topic7\", \"Topic7\", \"Topic7\", \"Topic7\", \"Topic7\", \"Topic7\", \"Topic7\", \"Topic7\", \"Topic7\", \"Topic7\", \"Topic7\", \"Topic7\", \"Topic7\", \"Topic7\", \"Topic7\", \"Topic7\", \"Topic7\", \"Topic7\", \"Topic7\", \"Topic7\", \"Topic7\", \"Topic7\", \"Topic7\", \"Topic7\", \"Topic7\", \"Topic7\", \"Topic7\", \"Topic7\", \"Topic7\", \"Topic7\", \"Topic7\", \"Topic7\", \"Topic7\", \"Topic7\", \"Topic7\", \"Topic7\", \"Topic8\", \"Topic8\", \"Topic8\", \"Topic8\", \"Topic8\", \"Topic8\", \"Topic8\", \"Topic8\", \"Topic8\", \"Topic8\", \"Topic8\", \"Topic8\", \"Topic8\", \"Topic8\", \"Topic8\", \"Topic8\", \"Topic8\", \"Topic8\", \"Topic8\", \"Topic8\", \"Topic8\", \"Topic8\", \"Topic8\", \"Topic8\", \"Topic8\", \"Topic8\", \"Topic8\", \"Topic8\", \"Topic8\", \"Topic8\", \"Topic8\", \"Topic8\", \"Topic8\", \"Topic8\", \"Topic8\", \"Topic8\", \"Topic8\", \"Topic8\", \"Topic8\", \"Topic8\", \"Topic8\", \"Topic8\", \"Topic8\", \"Topic8\", \"Topic8\", \"Topic8\", \"Topic9\", \"Topic9\", \"Topic9\", \"Topic9\", \"Topic9\", \"Topic9\", \"Topic9\", \"Topic9\", \"Topic9\", \"Topic9\", \"Topic9\", \"Topic9\", \"Topic9\", \"Topic9\", \"Topic9\", \"Topic9\", \"Topic9\", \"Topic9\", \"Topic9\", \"Topic9\", \"Topic9\", \"Topic9\", \"Topic9\", \"Topic9\", \"Topic9\", \"Topic9\", \"Topic9\", \"Topic9\", \"Topic9\", \"Topic9\", \"Topic9\", \"Topic9\", \"Topic9\", \"Topic9\", \"Topic9\", \"Topic9\", \"Topic9\", \"Topic9\", \"Topic9\", \"Topic9\", \"Topic9\", \"Topic9\", \"Topic9\", \"Topic9\", \"Topic9\", \"Topic9\", \"Topic9\", \"Topic9\", \"Topic9\", \"Topic10\", \"Topic10\", \"Topic10\", \"Topic10\", \"Topic10\", \"Topic10\", \"Topic10\", \"Topic10\", \"Topic10\", \"Topic10\", \"Topic10\", \"Topic10\", \"Topic10\", \"Topic10\", \"Topic10\", \"Topic10\", \"Topic10\", \"Topic10\", \"Topic10\", \"Topic10\", \"Topic10\", \"Topic10\", \"Topic10\", \"Topic10\", \"Topic10\", \"Topic10\", \"Topic10\", \"Topic10\", \"Topic10\", \"Topic10\", \"Topic10\", \"Topic10\", \"Topic10\", \"Topic10\", \"Topic10\", \"Topic10\", \"Topic10\", \"Topic10\", \"Topic10\", \"Topic10\", \"Topic10\", \"Topic10\", \"Topic10\", \"Topic10\", \"Topic10\", \"Topic10\", \"Topic10\", \"Topic10\"], \"logprob\": [30.0, 29.0, 28.0, 27.0, 26.0, 25.0, 24.0, 23.0, 22.0, 21.0, 20.0, 19.0, 18.0, 17.0, 16.0, 15.0, 14.0, 13.0, 12.0, 11.0, 10.0, 9.0, 8.0, 7.0, 6.0, 5.0, 4.0, 3.0, 2.0, 1.0, -6.0556, -6.2029, -6.3915, -6.634, -6.6403, -6.6641, -6.7022, -6.754, -6.8748, -6.8486, -6.905, -6.9084, -7.0265, -7.0163, -7.1099, -7.1249, -7.121, -7.1657, -7.1929, -7.2088, -7.2215, -7.2094, -7.2359, -7.2527, -7.2382, -7.2764, -7.3046, -7.3761, -7.4062, -7.4381, -5.7207, -6.0714, -6.3542, -6.2375, -6.0286, -5.2724, -5.8951, -5.9413, -6.2395, -5.7092, -6.0235, -5.2863, -5.907, -6.3628, -6.0011, -4.3526, -5.7362, -6.2533, -5.4394, -4.5951, -5.8054, -4.5757, -5.9681, -5.2194, -5.0361, -5.2983, -6.0744, -5.0643, -5.5982, -5.7329, -5.2765, -5.5835, -5.4517, -5.657, -5.3941, -5.0787, -5.2467, -5.748, -5.8236, -5.7638, -5.6145, -5.4698, -5.5602, -5.7554, -5.7015, -5.6911, -5.706, -5.7235, -5.6791, -5.73, -5.5968, -5.6272, -5.734, -5.8153, -5.834, -5.9021, -6.1253, -6.2241, -6.2414, -6.2659, -6.2999, -6.4571, -6.5274, -6.5494, -6.6249, -6.633, -6.6446, -6.6598, -6.7086, -6.7391, -6.7681, -6.7773, -6.8051, -5.9273, -6.8713, -6.92, -6.929, -6.9182, -6.9379, -7.0038, -4.9819, -5.6325, -5.7227, -4.4852, -5.3356, -4.5504, -5.0538, -6.493, -5.2033, -6.3798, -6.3884, -5.5653, -5.9549, -6.4578, -5.5057, -5.8213, -5.2086, -5.9317, -5.6285, -6.2186, -4.7384, -5.3204, -5.1856, -5.7224, -5.5276, -5.4323, -5.1569, -5.1226, -5.6825, -5.5087, -5.513, -5.5323, -5.577, -5.5785, -5.5234, -5.5421, -5.6662, -5.6398, -5.5327, -5.6608, -6.0251, -6.1798, -6.3649, -6.4456, -6.4998, -6.5462, -6.5525, -6.5695, -6.312, -6.7158, -6.7566, -6.8177, -6.8806, -7.0067, -7.0003, -7.0449, -7.0714, -7.1131, -7.1244, -7.1729, -7.2133, -7.2276, -7.2579, -7.2637, -7.2707, -7.2681, -7.2903, -6.1028, -7.228, -5.4129, -5.9976, -5.8235, -6.6605, -5.1988, -5.0388, -6.8498, -5.4496, -5.5533, -5.2162, -6.1175, -6.1064, -6.2357, -6.2291, -4.9557, -5.373, -4.5396, -4.8156, -6.2309, -5.9806, -5.378, -5.3334, -5.5648, -5.1418, -5.4253, -5.677, -4.9189, -4.9875, -5.152, -5.6598, -4.8162, -4.9695, -5.1091, -5.5226, -4.8721, -5.2378, -5.162, -5.1562, -5.5806, -5.4405, -5.5714, -4.8564, -5.7858, -5.7889, -5.9619, -6.2335, -6.234, -6.3922, -6.5236, -6.5351, -6.5475, -6.5908, -6.6105, -6.6425, -6.6569, -6.6696, -6.7646, -6.7517, -6.8425, -6.8456, -6.8473, -6.8493, -6.8581, -6.8661, -6.8982, -6.9042, -6.8907, -6.9532, -7.0167, -7.1049, -7.1117, -5.3822, -6.3261, -5.9254, -4.6041, -5.2943, -6.3026, -5.5547, -5.4852, -4.482, -5.7307, -6.4493, -6.0954, -6.5984, -5.5093, -6.2285, -5.88, -5.4889, -4.6717, -4.8011, -4.2205, -4.4893, -5.5097, -6.1877, -5.0932, -6.0675, -5.4872, -5.0719, -5.0179, -5.1653, -5.3098, -5.5294, -5.6112, -5.6353, -5.7898, -5.0598, -5.3319, -5.5334, -5.6966, -5.4056, -5.5751, -5.5771, -5.5516, -5.4125, -5.5368, -5.5586, -5.629, -5.6323, -5.6607, -5.6976, -6.2522, -6.2552, -6.2785, -6.4718, -6.571, -6.6009, -6.6112, -5.7245, -6.6754, -6.7536, -6.7724, -6.4221, -6.8682, -6.901, -6.9117, -6.934, -7.0392, -7.0292, -7.058, -7.0722, -7.0697, -7.0927, -7.128, -7.1519, -7.1741, -7.1988, -5.6881, -5.5509, -6.1134, -4.7345, -4.9035, -5.261, -5.6443, -5.6677, -5.1723, -6.6274, -4.4692, -5.1414, -5.3455, -4.9214, -5.1379, -5.0111, -5.2801, -5.631, -5.7123, -5.9969, -5.5712, -5.6917, -4.6566, -4.6578, -5.7302, -4.8509, -5.3146, -5.2249, -5.3879, -5.2375, -5.3157, -4.9412, -5.4608, -5.3504, -5.3129, -5.3637, -5.2316, -5.2414, -5.4279, -5.5676, -4.9574, -5.3796, -5.4784, -5.6545, -5.7348, -5.9774, -5.9995, -6.1373, -5.4856, -6.2311, -6.2314, -6.2477, -6.2711, -6.2974, -5.9956, -6.486, -6.54, -6.5801, -6.6036, -6.6484, -6.6752, -6.6816, -6.7074, -6.7137, -6.7321, -6.7298, -6.8081, -6.8107, -6.8342, -6.8744, -5.6163, -5.3382, -6.0435, -4.9316, -4.9003, -6.1959, -4.7462, -6.1896, -5.4507, -4.8587, -4.6804, -4.8218, -5.6507, -5.2542, -4.8738, -5.1103, -5.0047, -5.8024, -5.1022, -4.9011, -5.1303, -5.8974, -4.7536, -5.6225, -5.3851, -5.3289, -5.3061, -5.1273, -5.3618, -5.1932, -5.3911, -5.4649, -5.4928, -5.5471, -5.4789, -5.0713, -5.4027, -5.4021, -5.6119, -5.8157, -5.8278, -5.9268, -5.936, -5.9356, -5.9761, -5.9948, -6.008, -6.0832, -6.1105, -6.1334, -6.2942, -6.3054, -6.3236, -6.3587, -6.3679, -6.4088, -6.4324, -6.456, -6.4734, -6.5242, -6.5511, -6.5581, -6.5448, -6.5643, -6.623, -4.7368, -5.0688, -5.5888, -5.5787, -5.305, -5.0526, -5.0071, -5.8241, -4.8256, -3.9561, -4.5874, -5.6813, -5.8363, -4.8419, -4.7754, -5.6865, -5.4286, -5.024, -5.2464, -5.2334, -5.7279, -4.9653, -5.3894, -5.6679, -5.2915, -5.5656, -5.4351, -5.7335, -0.2767, -5.0973, -5.8407, -5.9549, -6.0273, -6.0707, -6.3722, -6.3875, -6.5117, -6.6158, -6.6299, -7.5671, -7.7429, -7.8312, -11.4632, -11.4641, -11.4738, -11.4743, -11.4694, -11.4703, -11.4746, -11.476, -11.476, -11.4746, -11.4766, -11.4751, -11.4765, -11.476, -11.4767, -11.476, -11.4661, -11.4747, -11.4745, -11.4697, -11.4591, -11.4718, -11.4749, -11.4701, -11.4654, -11.4671, -11.4708, -11.4706, -11.4651, -11.4624, -11.4709, -11.4706, -3.506, -4.0569, -4.1526, -4.5674, -4.7305, -4.9039, -4.935, -4.9549, -4.9776, -5.0136, -5.0135, -5.1064, -5.1661, -5.176, -5.2116, -5.2713, -5.3057, -5.327, -5.3548, -5.4213, -5.5631, -5.6102, -5.6303, -5.6407, -5.6864, -5.7313, -5.7473, -5.7497, -5.8053, -5.8168, -2.6978, -4.4126, -4.5113, -4.1326, -5.2604, -3.9096, -5.4417, -4.2827, -4.5295, -5.3265, -4.5953, -4.5995, -4.7143, -4.8397, -4.2384, -4.9464, -4.8978, -4.728, -4.8134, -3.6295, -4.0818, -4.2091, -4.3728, -4.6186, -4.7893, -4.8448, -4.8668, -5.0979, -5.1149, -5.1355, -5.1503, -5.1705, -5.2502, -5.2579, -5.2775, -5.3176, -5.3414, -5.506, -5.5448, -5.551, -5.568, -5.5801, -5.6194, -5.6598, -5.664, -5.6693, -5.6925, -5.7075, -5.7056, -4.0624, -4.7818, -4.1634, -3.5733, -3.5038, -4.399, -4.6826, -4.4972, -4.8942, -4.5939, -5.3053, -3.6892, -5.1468, -4.8985, -5.0266, -5.2109, -5.23, -5.2126], \"loglift\": [30.0, 29.0, 28.0, 27.0, 26.0, 25.0, 24.0, 23.0, 22.0, 21.0, 20.0, 19.0, 18.0, 17.0, 16.0, 15.0, 14.0, 13.0, 12.0, 11.0, 10.0, 9.0, 8.0, 7.0, 6.0, 5.0, 4.0, 3.0, 2.0, 1.0, 1.5815, 1.5809, 1.5801, 1.5786, 1.5784, 1.5782, 1.5781, 1.5778, 1.5768, 1.5767, 1.5765, 1.5765, 1.5754, 1.5753, 1.5745, 1.5743, 1.574, 1.5737, 1.5735, 1.5733, 1.5732, 1.5732, 1.573, 1.5728, 1.5725, 1.5725, 1.5721, 1.5712, 1.5706, 1.5702, 1.5636, 1.5621, 1.5469, 1.5299, 1.5171, 1.467, 1.4957, 1.4983, 1.5159, 1.4795, 1.4993, 1.4224, 1.4726, 1.5095, 1.444, 1.2043, 1.3784, 1.4591, 1.3168, 1.1554, 1.3649, 1.0901, 1.3697, 1.1624, 1.0525, 1.1308, 1.3867, 1.0205, 1.1998, 1.2394, 0.966, 1.1125, 0.9278, 1.0454, 0.7927, 0.4632, 0.5136, 1.0864, 1.1871, 1.0896, 0.8249, 0.5518, 0.6878, 1.0329, 0.8608, 0.6927, 0.7274, 0.8346, 0.4535, 0.5901, 1.7705, 1.7704, 1.77, 1.7698, 1.7697, 1.7694, 1.7685, 1.7679, 1.7679, 1.7677, 1.7676, 1.7666, 1.7661, 1.7659, 1.7653, 1.7652, 1.7652, 1.7651, 1.7646, 1.7644, 1.7641, 1.764, 1.7637, 1.7631, 1.7631, 1.7626, 1.7625, 1.7623, 1.7622, 1.7617, 1.7509, 1.755, 1.753, 1.7384, 1.7308, 1.6601, 1.6861, 1.7397, 1.6213, 1.7271, 1.7247, 1.583, 1.6022, 1.721, 1.4587, 1.541, 1.3529, 1.5537, 1.4208, 1.6467, 0.7571, 1.0617, 0.9462, 1.2938, 1.1276, 1.0181, 0.7477, 0.6939, 1.2492, 1.041, 0.9986, 0.7407, 0.6323, 0.5915, 0.2369, 0.1237, 0.8917, 0.466, 1.876, 1.8756, 1.8742, 1.8733, 1.8722, 1.8715, 1.8713, 1.8709, 1.8709, 1.8707, 1.8697, 1.8695, 1.869, 1.8684, 1.8677, 1.8663, 1.8661, 1.8657, 1.8652, 1.8648, 1.8647, 1.864, 1.8633, 1.863, 1.8627, 1.8626, 1.8622, 1.8622, 1.8621, 1.8621, 1.862, 1.8274, 1.8214, 1.8087, 1.8404, 1.7621, 1.7263, 1.8344, 1.6887, 1.6944, 1.6448, 1.7518, 1.7434, 1.7504, 1.7399, 1.5247, 1.5777, 1.3365, 1.3727, 1.7208, 1.6479, 1.3986, 1.346, 1.4427, 1.2435, 1.3528, 1.4719, 1.098, 1.0633, 1.0955, 1.4068, 0.7257, 0.8072, 0.9193, 1.2618, 0.6234, 0.7554, 0.5885, 0.4008, 1.1965, 0.7203, 0.828, 2.1349, 2.1318, 2.1317, 2.1309, 2.1289, 2.1289, 2.1276, 2.1263, 2.1261, 2.126, 2.1254, 2.1253, 2.1249, 2.1248, 2.1246, 2.1234, 2.1228, 2.1223, 2.1222, 2.1222, 2.1221, 2.1219, 2.1219, 2.1215, 2.1214, 2.121, 2.1206, 2.1195, 2.1179, 2.1177, 2.1102, 2.1122, 2.0914, 2.0138, 2.0435, 2.0933, 2.0489, 2.0428, 1.9579, 2.0454, 2.0908, 2.0593, 2.0991, 1.9823, 2.061, 2.0086, 1.9484, 1.8081, 1.7498, 1.5561, 1.5841, 1.85, 2.0185, 1.6708, 1.9655, 1.7458, 1.5805, 1.54, 1.5801, 1.6061, 1.6886, 1.731, 1.7219, 1.8235, 1.072, 1.2298, 1.5062, 1.6962, 0.9194, 1.2703, 1.2509, 1.1301, 0.3478, 0.5958, 0.6889, 2.2031, 2.2031, 2.203, 2.2027, 2.1993, 2.1992, 2.1989, 2.1969, 2.1961, 2.1957, 2.1957, 2.1949, 2.1949, 2.1938, 2.1936, 2.1935, 2.1922, 2.1917, 2.1916, 2.1912, 2.1894, 2.1893, 2.189, 2.1888, 2.1888, 2.1881, 2.1878, 2.1873, 2.1868, 2.1863, 2.1665, 2.1609, 2.1471, 2.059, 2.0622, 2.0799, 2.1043, 2.0981, 2.0069, 2.1502, 1.9072, 1.9799, 2.0019, 1.9371, 1.9646, 1.8964, 1.9334, 1.9796, 1.9899, 2.0504, 1.9259, 1.9333, 1.5649, 1.5122, 1.9394, 1.4692, 1.6851, 1.5558, 1.6271, 1.3542, 1.4544, 0.8753, 1.5705, 1.2166, 1.0692, 1.0867, 0.3103, 0.2542, 0.4767, 1.6791, 2.4839, 2.4822, 2.4818, 2.4807, 2.4801, 2.4784, 2.4782, 2.4769, 2.4765, 2.4759, 2.4758, 2.4757, 2.4755, 2.4751, 2.4731, 2.4726, 2.4719, 2.4713, 2.4709, 2.4702, 2.4698, 2.4697, 2.4692, 2.4691, 2.4688, 2.4688, 2.4671, 2.4671, 2.4668, 2.466, 2.4604, 2.4501, 2.4521, 2.4256, 2.412, 2.4461, 2.3527, 2.4345, 2.3519, 2.2854, 2.2266, 2.2101, 2.3265, 2.1968, 2.0403, 2.053, 1.9474, 2.2699, 1.935, 1.8329, 1.8873, 2.294, 1.2972, 2.0208, 1.7456, 1.6525, 1.5767, 1.2716, 1.4083, 0.9706, 1.227, 1.4167, 1.5373, 1.7201, 0.8461, 2.6099, 2.6084, 2.6084, 2.6071, 2.6056, 2.6056, 2.6047, 2.6046, 2.6046, 2.6042, 2.6041, 2.6039, 2.603, 2.6029, 2.6019, 2.6006, 2.6005, 2.6004, 2.5999, 2.5997, 2.5992, 2.5988, 2.5985, 2.5982, 2.5974, 2.5969, 2.5969, 2.5968, 2.5968, 2.5957, 2.5471, 2.5472, 2.5574, 2.5379, 2.5013, 2.469, 2.444, 2.5164, 2.3437, 2.076, 2.1934, 2.4379, 2.4731, 2.1429, 2.0864, 2.3905, 2.2175, 1.9668, 2.0685, 2.033, 2.3658, 1.4681, 1.8913, 2.1515, 0.7018, 1.4158, 0.1069, 1.7901, 3.4782, 3.47, 3.4603, 3.4582, 3.4567, 3.4557, 3.4477, 3.4472, 3.4432, 3.4394, 3.4384, 3.3792, 3.3607, 3.3515, 1.6657, 1.663, 1.6597, 1.659, 1.6589, 1.6587, 1.6584, 1.6583, 1.6583, 1.6581, 1.6581, 1.6581, 1.6581, 1.6581, 1.658, 1.658, 1.6572, 1.6579, 1.6577, 1.6563, 1.6526, 1.6561, 1.6577, 1.6548, 1.6519, 1.6513, 1.6543, 1.6541, 1.6417, 1.6349, 1.6497, 1.6379, 3.5391, 3.5376, 3.5373, 3.5353, 3.5342, 3.5329, 3.5327, 3.5325, 3.5323, 3.532, 3.532, 3.5311, 3.5305, 3.5304, 3.53, 3.5293, 3.5289, 3.5286, 3.5283, 3.5274, 3.5253, 3.5246, 3.5243, 3.5241, 3.5233, 3.5225, 3.5222, 3.5222, 3.5211, 3.5209, 3.4008, 3.454, 3.4192, 3.3637, 3.4627, 3.2736, 3.4777, 3.195, 3.2077, 3.4275, 3.0823, 2.9035, 2.9489, 2.977, 2.3188, 2.9176, 2.7362, 2.3212, 2.3355, 3.5592, 3.5579, 3.5574, 3.5567, 3.5553, 3.5542, 3.5537, 3.5536, 3.5515, 3.5514, 3.5511, 3.551, 3.5508, 3.5499, 3.5498, 3.5495, 3.5491, 3.5488, 3.5465, 3.5459, 3.5458, 3.5456, 3.5454, 3.5447, 3.5441, 3.544, 3.5439, 3.5435, 3.5432, 3.5432, 3.5262, 3.5186, 3.4989, 3.3862, 3.3133, 3.4011, 3.3742, 3.2673, 3.3536, 3.1454, 3.4165, 2.3277, 3.0691, 2.481, 2.0035, 2.6878, 2.8188, 0.9191]}, \"token.table\": {\"Topic\": [3, 2, 3, 5, 3, 8, 7, 1, 2, 3, 4, 5, 6, 7, 3, 4, 3, 2, 4, 5, 6, 1, 3, 4, 5, 6, 1, 3, 4, 1, 2, 3, 4, 5, 7, 7, 6, 1, 1, 2, 3, 4, 5, 6, 7, 7, 1, 3, 7, 7, 1, 2, 3, 4, 5, 7, 1, 2, 3, 4, 5, 7, 6, 6, 7, 1, 2, 3, 4, 5, 7, 1, 2, 3, 4, 5, 7, 6, 10, 1, 6, 10, 3, 4, 9, 6, 9, 6, 6, 6, 7, 9, 10, 1, 3, 7, 7, 1, 2, 10, 3, 1, 2, 3, 4, 7, 2, 10, 1, 2, 3, 4, 5, 6, 7, 2, 6, 3, 9, 10, 1, 2, 3, 5, 6, 9, 4, 1, 4, 5, 7, 6, 4, 7, 10, 9, 1, 3, 5, 7, 8, 1, 6, 1, 2, 3, 5, 6, 7, 6, 2, 1, 10, 1, 3, 4, 5, 7, 1, 2, 3, 5, 6, 7, 4, 5, 6, 1, 2, 3, 4, 5, 1, 10, 1, 3, 10, 4, 9, 1, 2, 4, 5, 2, 1, 2, 3, 4, 5, 7, 4, 9, 1, 3, 6, 2, 6, 7, 7, 1, 6, 1, 3, 5, 6, 7, 8, 3, 6, 1, 2, 3, 4, 5, 6, 7, 9, 1, 3, 7, 1, 1, 1, 2, 3, 5, 3, 9, 1, 2, 3, 4, 5, 7, 5, 6, 9, 10, 2, 5, 9, 4, 7, 4, 1, 4, 7, 10, 1, 2, 3, 4, 5, 7, 1, 3, 4, 7, 1, 6, 5, 9, 1, 2, 3, 4, 5, 6, 7, 1, 2, 3, 4, 5, 7, 4, 7, 3, 1, 2, 3, 4, 5, 6, 7, 10, 1, 4, 2, 3, 1, 6, 9, 1, 2, 3, 5, 2, 3, 4, 9, 1, 2, 4, 5, 2, 5, 6, 10, 9, 5, 4, 5, 1, 2, 3, 4, 5, 6, 7, 1, 2, 3, 4, 5, 6, 7, 9, 4, 2, 3, 4, 5, 6, 7, 9, 8, 2, 7, 1, 4, 2, 5, 10, 1, 2, 3, 4, 5, 6, 7, 1, 2, 3, 4, 5, 6, 7, 1, 2, 3, 4, 5, 7, 7, 5, 3, 7, 3, 4, 9, 1, 2, 3, 4, 5, 6, 7, 1, 3, 5, 7, 1, 3, 5, 7, 5, 10, 1, 3, 2, 5, 7, 9, 4, 4, 5, 10, 1, 2, 4, 1, 2, 3, 4, 5, 6, 7, 1, 4, 6, 5, 1, 2, 3, 4, 5, 7, 1, 4, 1, 2, 3, 5, 7, 6, 1, 2, 3, 4, 5, 6, 7, 3, 4, 5, 6, 7, 1, 2, 3, 4, 5, 6, 7, 10, 2, 5, 5, 4, 8, 2, 3, 9, 2, 2, 10, 1, 3, 9, 1, 2, 3, 5, 6, 7, 1, 2, 3, 5, 6, 7, 3, 6, 9, 1, 2, 3, 4, 2, 2, 10, 3, 1, 2, 3, 4, 5, 6, 7, 8, 7, 6, 9, 1, 6, 4, 6, 2, 2, 10, 4, 5, 1, 2, 3, 5, 6, 9, 3, 5, 6, 7, 4, 2, 3, 4, 5, 6, 7, 10, 10, 1, 2, 3, 4, 5, 7, 9, 2, 1, 3, 2, 3, 4, 5, 6, 7, 9, 10, 4, 3, 1, 2, 3, 4, 5, 7, 4, 6, 4, 6, 1, 5, 1, 2, 3, 4, 5, 7, 1, 2, 3, 4, 5, 6, 7, 9, 5, 3, 5, 7, 5, 9, 1, 2, 3, 4, 5, 6, 7, 2, 9, 1, 2, 3, 5, 6, 7, 4, 5, 6, 7, 1, 1, 2, 3, 4, 5, 7, 9, 1, 2, 3, 4, 5, 7, 10, 1, 2, 3, 4, 5, 6, 7, 5, 9, 9, 10, 1, 2, 3, 4, 5, 6, 7, 1, 5, 1, 2, 3, 4, 5, 6, 7, 1, 3, 6, 10, 1, 6, 7, 9, 10, 1, 5, 6, 7, 2, 3, 4, 5, 10, 6, 3, 9, 3, 2, 3, 4, 5, 7, 2, 3, 5, 6, 7, 1, 2, 3, 5, 3, 9, 7, 1, 2, 3, 5, 7, 2, 4, 7, 3, 6, 7, 7, 1, 3, 2, 9, 10, 1, 7, 10, 6, 7, 10, 2, 3, 4, 5, 7, 1, 7, 6, 4, 8, 6, 5, 5, 5, 1, 3, 5, 6, 7, 1, 2, 3, 4, 5, 6, 7, 3, 4, 8, 9, 1, 2, 4, 6, 10, 1, 2, 3, 5, 1, 2, 5, 1, 2, 3, 4, 6, 7, 1, 2, 3, 5, 1, 7, 6, 5, 6, 7, 4, 2, 5, 10, 6, 2, 10, 2, 8, 1, 3, 5, 7, 5, 2, 4, 5, 1, 2, 3, 4, 5, 7, 1, 6, 2, 3, 5, 6, 7, 3, 5, 1, 2, 3, 4, 5, 7, 1, 2, 3, 4, 5, 6, 7, 1, 2, 4, 5, 6, 1, 1, 2, 5, 7, 1, 2, 7, 1, 1, 2, 3, 4, 5, 6, 7, 2, 4, 5, 6, 1, 2, 3, 4, 5, 6, 1, 2, 3, 5, 6, 6, 2, 9, 7, 7, 1, 2, 3, 4, 5, 10, 6, 10, 1, 2, 4, 5, 6, 7, 3, 1, 2, 3, 4, 5, 7, 1, 2, 3, 5, 7, 9, 1, 6, 1, 2, 3, 9, 3, 5, 4, 5, 3, 5, 5, 4, 7, 1, 6, 7, 9, 10, 5, 6, 7, 3, 9, 3, 3, 2, 1, 2, 3, 5, 10, 8, 4, 7, 1, 2, 3, 4, 5, 6, 7, 1, 5, 7, 5, 10, 2, 6, 2, 1, 2, 3, 4, 6, 1, 2, 1, 3, 4, 6, 7, 1, 3, 5, 6, 7, 1, 3, 4, 5, 6, 7, 2, 3, 6, 7, 10, 1, 3, 7, 3, 6, 7, 3, 3, 3, 4, 5, 1, 2, 5, 10, 3, 1, 3, 4, 7, 9, 10, 5, 1, 2, 3, 4, 5, 6, 7, 2, 6, 7, 10, 1, 2, 3, 4, 5, 7, 3, 6, 10, 4, 7, 9, 10, 9, 2, 4, 10, 1, 3, 2, 6, 1, 2, 4, 5, 9, 2, 3, 5, 5, 8, 3, 1, 6, 5, 1, 1, 2, 3, 4, 5, 7, 7, 2, 6, 1, 2, 3, 4, 5, 6, 7, 5, 4, 5, 1, 2, 3, 4, 5, 6, 7, 1, 3, 5, 6, 7, 1, 2, 3, 4, 5, 7, 2, 5, 7, 9, 10, 2, 3, 4, 6, 7, 9, 10, 7, 2, 3, 4, 6, 7, 9, 10, 7, 9, 2, 3, 9, 10, 1, 3, 4, 5, 1, 2, 3, 5, 6, 1, 2, 3, 4, 5, 6, 7, 7, 1, 3, 4, 1, 4, 3, 5, 6, 10, 2, 4, 5, 7, 10, 1, 5, 1, 2, 3, 4, 5, 7, 1, 2, 3, 5, 7, 1, 2, 3, 4, 5, 7, 1, 2, 3, 5, 6, 3, 9, 10, 9, 1, 2, 3, 7, 2, 3, 4, 5, 6, 7, 2, 1, 2, 3, 4, 5, 6, 7, 1, 2, 3, 4, 5, 6, 7, 1, 3, 4, 5, 6, 7, 1, 3, 4, 5, 6, 7, 2, 2, 3, 10, 5, 1, 2, 3, 4, 5, 6, 7, 9, 6, 5, 1, 9, 1, 3, 7, 3, 3, 9, 2, 3, 5, 7, 9, 10, 4, 3, 9, 4, 10, 5, 7, 1, 4, 2, 4, 5, 7, 9, 10, 2, 3, 4, 5, 8, 4, 9, 1, 3, 9, 4, 7, 9, 1, 2, 3, 5, 7, 3, 4, 6, 7, 10, 6, 9, 10, 2, 4, 6, 2, 3, 9, 1, 2, 5, 7, 1, 1, 4, 1, 4, 2, 7, 2, 8, 1, 2, 3, 4, 5, 6, 7, 3, 7, 7, 1, 2, 3, 4, 5, 4, 5, 9, 2, 1, 2, 3, 5, 6, 7, 3, 4, 5, 1, 2, 3, 4, 5, 6, 10, 3, 6, 9, 1, 2, 3, 4, 5, 6, 7, 9, 1, 6, 4, 5, 10, 1, 2, 3, 4, 5, 7, 10, 3, 4, 5, 6, 7, 9, 10, 1, 3, 4, 7, 1, 7, 3, 6, 1, 2, 3, 4, 5, 7, 9, 10, 4, 9, 10, 2, 3, 4, 6, 1, 1, 3, 7, 2, 3, 4, 6, 7, 1, 4, 1, 2, 3, 4, 5, 7, 5, 7, 5, 3, 5, 1, 2, 3, 5, 6, 7, 7, 2, 2, 1, 3, 5, 6, 7, 10, 2, 3, 1, 3, 6, 3, 5, 1, 2, 3, 4, 5, 7, 2, 7, 1, 2, 3, 4, 5, 6, 7, 1, 2, 3, 4, 5, 6, 7, 1, 3, 4, 5, 6, 7, 1, 2, 3, 4, 5, 7, 3, 5, 1, 2, 3, 5, 1, 3, 5, 6, 7, 4, 5, 6, 7, 10, 3, 6, 10, 10, 2, 3, 5, 7, 10, 1, 2, 3, 7, 10, 6, 7, 10, 1, 3, 4, 5, 6, 7, 3, 1, 3, 4, 5, 6, 7, 10, 2, 5, 6, 7, 10, 1, 2, 3, 4, 5, 7, 1, 3, 9, 7, 4, 2, 10, 9, 3, 1, 2, 10, 2, 2, 3, 4, 5, 7, 1, 2, 3, 4, 5, 7, 4, 1, 2, 3, 4, 5, 7, 8], \"Freq\": [0.9753882077424646, 0.8825969190255627, 0.0581932034522349, 0.053343769831215325, 0.0004772176973264843, 0.9994529307674336, 0.9910870114823536, 0.14658867722669894, 0.2249185047524159, 0.12197073143290216, 0.12980371418547385, 0.07049684477314529, 0.2965343470616429, 0.007832982752571698, 0.9444683499711496, 0.05092721494942473, 0.9983445610217393, 0.0929854083903801, 0.0016604537212567875, 0.8617754813322727, 0.041511343031419685, 0.8496051259628443, 0.047285024963820775, 0.010677263701507917, 0.08084213945427424, 0.009151940315578215, 0.17112217940869132, 0.8274812237160004, 0.9819834332844749, 0.10473007553956706, 0.08291130980215726, 0.6240167000899205, 0.15273136016186864, 0.015273136016186864, 0.021818765737409807, 0.990506961224388, 0.9909179962861319, 0.9927110291890205, 0.04170685539381689, 0.19584088619705323, 0.001813341538861604, 0.3681083323889056, 0.005440024616584812, 0.3427215508448431, 0.0453335384715401, 0.9923980551300442, 0.927839491746402, 0.03906692596826956, 0.029300194476202166, 0.9925083838461614, 0.08337192213446905, 0.018527093807659788, 0.22232512569191745, 0.023158867259574736, 0.023158867259574736, 0.6299211894604329, 0.6545331345363117, 0.12540634846578072, 0.08690439937540945, 0.07810395386903887, 0.047302394596741855, 0.007700389818074255, 0.98444947904908, 0.12096828371880826, 0.8694595392289344, 0.46729664804402343, 0.2249083617767993, 0.13983939592339853, 0.04777846027382783, 0.1072102035412722, 0.011653282993616544, 0.4525846508691852, 0.24439571146936, 0.15206844269204622, 0.05068948089734874, 0.08689625296688355, 0.011767200922598815, 0.9751783225960393, 0.9803089356907055, 0.022839707012271095, 0.10277868155521992, 0.8679088664663016, 0.08298114097696419, 0.909931132092228, 0.0028614186543780757, 0.9901590958781584, 0.9930123927081237, 0.9890547598663376, 0.9772384967149841, 0.01817337193154065, 0.0726934877261626, 0.05452011579462196, 0.8496051377995255, 0.04609264103849749, 0.9333759810295741, 0.015364213679499162, 0.9904713257651976, 0.18573509034181118, 0.8026409261199697, 0.009950094125454171, 0.9837754861879497, 0.030033738818645586, 0.006674164181921242, 0.07675288809209428, 0.8576300973768796, 0.026696656727684967, 0.9962779643661303, 0.9841995357316313, 0.6091008917879217, 0.19192322892170172, 0.05644800850638286, 0.03494400526585605, 0.08762881320514672, 0.004300800648105361, 0.014515202187355592, 0.027325478898472304, 0.9655002544126882, 0.9862512559174015, 0.9895835555046797, 0.9879141372959521, 0.034442668978210474, 0.01148088965940349, 0.7921813864988408, 0.05740444829701745, 0.0841931908356256, 0.019134816099005816, 0.9890662014995443, 0.9830001280891137, 0.08389594441203484, 0.1078662142440448, 0.797011471914331, 0.9851297182183762, 0.8785403316754057, 0.08437957987842878, 0.03474453289111774, 0.9861901702648939, 0.18792569689502792, 0.02349071211187849, 0.7550586035960943, 0.030202344143843773, 0.9531566077930049, 0.9880677262820716, 0.9970590262571616, 0.08771973817128896, 0.02392356495580608, 0.09569425982322433, 0.7655540785857946, 0.01196178247790304, 0.01196178247790304, 0.9832975355319048, 0.9922991396521602, 0.03309420128051132, 0.967086104086053, 0.06269963948962258, 0.18026146353266492, 0.03396230472354556, 0.5904216051939459, 0.133236733915448, 0.08819885630041846, 0.5248554891319984, 0.08096944184956449, 0.2689342175717678, 0.014458828901707946, 0.021688243352561917, 0.9905792822837736, 0.8033519466052256, 0.19362841789972104, 0.6506434966082385, 0.0011702221162018678, 0.27500219730743897, 0.0005851110581009339, 0.07196866014641487, 0.9914137110355857, 0.9900252483062003, 0.9967191716133792, 0.03746400064969768, 0.9590784166322607, 0.06860995061794764, 0.9262343333422931, 0.009853794976218687, 0.9788103009710561, 0.0032845983254062286, 0.006569196650812457, 0.9914135709281671, 0.6832026059010831, 0.0019285888663403898, 0.2280556334447511, 0.004339324949265877, 0.07907214351995598, 0.003375030516095682, 0.9766871199889393, 0.9781668359127528, 0.02746843267740534, 0.961395143709187, 0.9955049861301888, 0.9947184555817671, 0.851523664865501, 0.14101665787581544, 0.992990739560561, 0.9943826499139519, 0.9898044307354532, 0.011160198000066724, 0.05952105600035586, 0.14880264000088964, 0.7700536620046039, 0.009300165000055602, 0.9702207843532215, 0.990918342383059, 0.9757574787789003, 0.06906537485902729, 0.3561800046301265, 0.21607595848752825, 0.16970349251075278, 0.11741113726034641, 0.04637246597677547, 0.025652853519067282, 0.9886693125426431, 0.2195624106486141, 0.7402944996205484, 0.03886060365462196, 0.9922777654294996, 0.9959244824250084, 0.0345660081821468, 0.14517723436501656, 0.023044005454764534, 0.7973225887348528, 0.05566260508226668, 0.932348635127967, 0.23107932132820797, 0.11024776780925953, 0.3139856427207711, 0.16404867850017818, 0.1146576785216299, 0.06526667854308164, 0.12059310886800247, 0.09245471679880189, 0.6311039364092129, 0.15275127123280313, 0.2586849077634115, 0.1662974407050503, 0.5681829224089218, 0.992299368478643, 0.9793335629372819, 0.9976100663336339, 0.8887371988382111, 0.04247062720111806, 0.05348153054955607, 0.014156875733706017, 0.15027608251168895, 0.19111197449856093, 0.5047316249577378, 0.02286809951264832, 0.07677147693531935, 0.050636506063721276, 0.8011160999900484, 0.15005800060236557, 0.04114493564903572, 0.004840580664592438, 0.9599104931791317, 0.03517996571860692, 0.07769404852446556, 0.9177609481952494, 0.24345815205230004, 0.319365256494462, 0.2841887934602894, 0.009256963956361218, 0.10090090712433727, 0.0009256963956361218, 0.04165633780362548, 0.1803519110479741, 0.4608993282337116, 0.04383553393527148, 0.017534213574108594, 0.2805474171857375, 0.015029325920664508, 0.3232830615581437, 0.6738309596332391, 0.9854216055441835, 0.07288928625896654, 0.021333449636770693, 0.19555662167039803, 0.019555662167039804, 0.049778049152464955, 0.04800026168273406, 0.5902254399506559, 0.980098854551725, 0.07124886874600375, 0.9262352936980488, 0.95052924994602, 0.043488266337399606, 0.9142440347266859, 0.015086535226512968, 0.06939806204195965, 0.043447242894400606, 0.6569749758880576, 0.03686432730433991, 0.2620000404844158, 0.016716124630817047, 0.09611771662719802, 0.8845615950474022, 0.0013930103859014207, 0.40248220869055895, 0.21050878678223314, 0.014563500972355753, 0.3707072974781464, 0.20657157239027035, 0.05508575263740543, 0.1239429434341622, 0.6128289980911353, 0.9920369002179084, 0.9873014567195858, 0.9522013891829485, 0.03808805556731794, 0.03768930173199767, 0.0037689301731997672, 0.10176111467639372, 0.7311724536007549, 0.015075720692799069, 0.05276502242479674, 0.056533952597996505, 0.03941069321243798, 0.0957116835159208, 0.050670891273134545, 0.5874069988330042, 0.06568448868739662, 0.060054389657048346, 0.09008158448557252, 0.009383498383913804, 0.9888185696270777, 0.053871261071390834, 0.15776583599478744, 0.2308768331631036, 0.046175366632620715, 0.023087683316310358, 0.038479472193850596, 0.4463618774486669, 0.9789118641214979, 0.9927348328335288, 0.9862133250226076, 0.9866386519395305, 0.9920938109250587, 0.04830257079424101, 0.9419001304876997, 0.9884178092410203, 0.47236015338605686, 0.12727481910679864, 0.1928803959659732, 0.06166924224762409, 0.03673912304113775, 0.0013121115371834912, 0.10628103451186278, 0.08961658806918332, 0.21863357261705932, 0.3831881696751287, 0.13365232531007512, 0.041718066859792236, 0.11279329188017902, 0.019313919842496405, 0.0017764709168647365, 0.06040001117340105, 0.7905295580048078, 0.1208000223468021, 0.014211767334917892, 0.01065882550118842, 0.9908271122730337, 0.9854193791951497, 0.9859534871352188, 0.9946837861748612, 0.032976229946045356, 0.9563106684353153, 0.9876163338508867, 0.05347159095900149, 0.014396197565885015, 0.6457722908125564, 0.07609418713396365, 0.0514149913067322, 0.04935839165446291, 0.10694318191800298, 0.12581855965080252, 0.11706596419683364, 0.7406883902921156, 0.015317042044445523, 0.16686232864614364, 0.0060311685052823, 0.20103895017607668, 0.6252311350475984, 0.9018679899125577, 0.09493347262237449, 0.11491144897180317, 0.880987775450491, 0.7917856908470965, 0.17008729655233926, 0.014662697978649934, 0.017595237574379922, 0.9835847760084829, 0.9844668399740415, 0.9944758013266267, 0.9929818114807476, 0.9341436735119341, 0.03475883436323476, 0.026069125772426066, 0.22342896958224134, 0.08593421907009283, 0.18733659757280235, 0.4124842515364456, 0.01890552819542042, 0.041248425153644554, 0.030936318865233417, 0.11421243918395474, 0.3629765190503767, 0.5194319151927804, 0.9935311806703148, 0.08246156770158335, 0.08503849169225783, 0.09792311164563024, 0.6751540855567137, 0.010307695962697918, 0.04896155582281512, 0.022291279984065836, 0.9585250393148309, 0.08527819096934003, 0.18367610362627082, 0.14337981558581345, 0.525725990481316, 0.061850116527213644, 0.9912916130142001, 0.586679509721706, 0.14195182542916804, 0.03200070053027487, 0.09189944767668681, 0.0943610400251695, 0.04266760070703316, 0.00984636939393073, 0.04828931577754653, 0.021949688989793877, 0.8955473107835903, 0.026339626787752656, 0.9760241255672107, 0.21054199071216156, 0.23796552731752713, 0.030962057457670816, 0.15392565707527778, 0.04688540129304438, 0.21938829284292463, 0.09819395365147031, 0.0008846302130763091, 0.996722950595976, 0.9928260116049389, 0.9758836890925712, 0.9885756221868434, 0.9730434523117907, 0.03316553622625421, 0.6656796913983881, 0.29848982603628793, 0.9968225232305137, 0.05541710261574312, 0.93813237999508, 0.06207476659520264, 0.8738217143786218, 0.06207476659520264, 0.007253428742313123, 0.055609620357733945, 0.0942945736500706, 0.04593838203464978, 0.031431524550023536, 0.764027827523649, 0.006251207043353127, 0.012502414086706253, 0.05000965634682501, 0.06251207043353127, 0.025004828173412506, 0.837661743809319, 0.8512376497669987, 0.06873347482590673, 0.07402066519713033, 0.007513262968579245, 0.965454291462433, 0.015965683808230897, 0.010330736581796462, 0.9928566845533643, 0.9915595236711001, 0.9893624340252246, 0.9891704170065806, 0.031179535838844107, 0.22449265803967755, 0.14030791127479847, 0.296205590469019, 0.03637612514531812, 0.19331312220083346, 0.07794883959711027, 0.936500952573334, 0.9875791854340189, 0.9921656395123633, 0.9886806561116128, 0.24994305040802364, 0.7466247531419168, 0.190868544363233, 0.8052266715323892, 0.9967856245818292, 0.9901705992667843, 0.9938482700547889, 0.9942698540972164, 0.9790674675520072, 0.01583045288688517, 0.1741349817557369, 0.0090459730782201, 0.7847381645355935, 0.013568959617330147, 0.9897917884635379, 0.037793795699984443, 0.007558759139996889, 0.015117518279993778, 0.9372861333596143, 0.9905475937647197, 0.08845551274812034, 0.25904828733378105, 0.06739467637952026, 0.5286269928518621, 0.01263650182116005, 0.03159125455290013, 0.01263650182116005, 0.9865531132178413, 0.1437406640623128, 0.36184558334929223, 0.28476068464079635, 0.012696336257869902, 0.14192690173975997, 0.05486631025722351, 0.9972174081144627, 0.994143219750758, 0.899825634553004, 0.09861102844416482, 0.2489102609357297, 0.07758241899295472, 0.5754029408644141, 0.04768086167275342, 0.005657051384902948, 0.02747710672667146, 0.00484890118705967, 0.012930403165492451, 0.9964147524306324, 0.9830045867445221, 0.40801785717999056, 0.28099342994471044, 0.0769845013547152, 0.00288691880080182, 0.17706435311584495, 0.053889150948300636, 0.6668200564391973, 0.3305358038383952, 0.0053418796841411525, 0.9882477415661132, 0.9935922365074749, 0.9918316894396422, 0.7068090758570367, 0.12111054389685179, 0.03970837504814813, 0.063533400077037, 0.029781281286111096, 0.037722956295740726, 0.17602785542373744, 0.07309631284545029, 0.3252040040879217, 0.1573808368407144, 0.0835386432519432, 0.03580227567940423, 0.14768438717754243, 0.9725319173021824, 0.9737157495834147, 0.12798423647963159, 0.8551673982957202, 0.011634930589057417, 0.9739364572327467, 0.9838081156001476, 0.48493146133534687, 0.13572809923244764, 0.07774716363800398, 0.1699895611746189, 0.06720517534810513, 0.054027689985731576, 0.010541988289898845, 0.7033346862443226, 0.2959152033588919, 0.036050466340298286, 0.024033644226865523, 0.038453830762984836, 0.23312634900059556, 0.648908394125369, 0.02163027980417897, 0.5739101370939244, 0.1542924237915827, 0.15717639432974312, 0.11391683625733676, 0.9898311283297835, 0.03366329688918148, 0.20101797285254083, 0.45685902921032007, 0.2346812697417223, 0.053861275022690364, 0.019236169650960845, 0.9866695252641627, 0.6804748507554113, 0.10507332254311498, 0.1467690854570495, 0.011674813615901664, 0.03335661033114761, 0.023349627231803328, 0.9855155158044431, 0.3224034129082007, 0.1603442505687062, 0.18006573593277164, 0.21436397134853769, 0.08574558853941508, 0.0025723676561824524, 0.03429823541576603, 0.10870182416258056, 0.8851434253238702, 0.9922204391549347, 0.9983793885851462, 0.27378061329199, 0.27044182532501454, 0.16527000436528666, 0.03422257666149875, 0.1310474277037879, 0.09599015405054528, 0.02921439471103552, 0.9910206726100879, 0.9876269405183611, 0.019066301326156724, 0.0932130287056551, 0.17371518986053905, 0.010592389625642625, 0.036014124727184925, 0.5762259956349588, 0.09109455078052657, 0.43259679174053833, 0.026850835349412724, 0.19988955204562806, 0.34011058109256115, 0.09972548035766968, 0.03094928700755266, 0.8665800362114745, 0.15877947231563672, 0.8389828907542285, 0.18905260484003114, 0.21190511751300192, 0.5484603041512991, 0.047782526498029845, 0.06276169590292056, 0.8315924707136975, 0.03138084795146028, 0.06799183722816395, 0.005230141325243381, 0.9731906218824649, 0.16094530961401607, 0.8382568209063337, 0.9982209883731914, 0.23431459592337495, 0.07236186050574815, 0.20330236999234003, 0.051687043218391536, 0.437616965915715, 0.09664478669903735, 0.007889370342778559, 0.8638860525342522, 0.017751083271251758, 0.011834055514167838, 0.3464519786562419, 0.6182196984404795, 0.010372813732222812, 0.022820190210890184, 0.4692166425397077, 0.5299785099189503, 0.9913037932483479, 0.6705007736732478, 0.11759552030576961, 0.1836140580212894, 0.01237847582165996, 0.014441555125269952, 0.4145185323669818, 0.5509423531459885, 0.034105955194751666, 0.02071432733498602, 0.9528590574093568, 0.02071432733498602, 0.9883822227974214, 0.988548594349899, 0.9917969000369565, 0.2896048915753303, 0.7075574055533638, 0.9831357053434902, 0.987952763613066, 0.3377613502489986, 0.6584208599790605, 0.9594982287409389, 0.031631809738712276, 0.9918648848578829, 0.04741310602050563, 0.0379304848164045, 0.8281489184914983, 0.050573979755206, 0.03476961108170413, 0.9827107320225922, 0.988339050502918, 0.9947089311846946, 0.9902584302724069, 0.9506273225494252, 0.9964383258930255, 0.9845930790484851, 0.9786865073920592, 0.9978052277539016, 0.10744192344947132, 0.0366279284486834, 0.8180237353539294, 0.014651171379473362, 0.02197675706921004, 0.14563537909710741, 0.34002423274174437, 0.1431352009151828, 0.004375311818368034, 0.26376879819304433, 0.026876915455689352, 0.07625543454870001, 0.9936389475364845, 0.9844154467459053, 0.9882637152461302, 0.9969320415429268, 0.806909532470594, 0.19171254849478653, 0.9821589012042905, 0.18484132309981127, 0.8104581089760956, 0.014175724067858641, 0.1523890337294804, 0.06910665483081088, 0.7637171341558843, 0.020222010385060878, 0.16177608308048702, 0.8146581326553096, 0.15115957082855822, 0.02720872274914048, 0.10883489099656192, 0.643939771729658, 0.0030231914165711644, 0.06348701974799445, 0.022741840631038613, 0.0783330066180219, 0.13645104378623168, 0.7605882255491804, 0.9792339849068276, 0.01898791660484153, 0.9778151413401986, 0.7589568528127192, 0.12585716654683282, 0.11441560595166621, 0.9843133286559211, 0.9960967650412954, 0.9595447861925586, 0.03838179144770234, 0.9783038854478238, 0.9882072426182706, 0.9800564801120799, 0.9928623204709853, 0.965776582322037, 0.1991019556933378, 0.02977225505694771, 0.7331417807773374, 0.03721531882118464, 0.9822903659029042, 0.1315733376252253, 0.06766628792154444, 0.796958502187079, 0.09027319052208808, 0.029016382667814027, 0.15475404089500816, 0.6270762698766476, 0.056420744076305054, 0.04352457400172104, 0.9895163155466531, 0.9904085745264662, 0.47010832566723737, 0.08836622662917995, 0.326365930350438, 0.057732601397730905, 0.057732601397730905, 0.010268730082426004, 0.9857980879128962, 0.14572994613954338, 0.48012812612045985, 0.1379229847392107, 0.048142928635384864, 0.16004270870681994, 0.026023204667775603, 0.06226408339868837, 0.14787719807188487, 0.06226408339868837, 0.07588435164215145, 0.04864381515522529, 0.5837257818627034, 0.017511773455881105, 0.1839782394295736, 0.19730999590997747, 0.047994323329453976, 0.1013213492510695, 0.4639451255180551, 0.9855667311615428, 0.9843064114064567, 0.9920540345044285, 0.06236101530238799, 0.9354152295358199, 0.9155355156055667, 0.01267177184229158, 0.0665268021720308, 0.9872242678079259, 0.18608833988155066, 0.016181594772308752, 0.0687717777823122, 0.11529386275269986, 0.08697607190115955, 0.002022699346538594, 0.5238791307534959, 0.06922069061574544, 0.9102520815970525, 0.01730517265393636, 0.9840754371428917, 0.040050134248057145, 0.30705102923510474, 0.02937009844857524, 0.03560011933160635, 0.4992916736257791, 0.08900029832901588, 0.0074924449629407315, 0.21353468144381085, 0.0655588934257314, 0.07305133838867213, 0.6406040443314326, 0.9930892755775, 0.23290523626881252, 0.7649098285881001, 0.9963802055400356, 0.9912698295420485, 0.006544275054276131, 0.9576455829424072, 0.02399567519901248, 0.006544275054276131, 0.0021814250180920438, 0.989600928115247, 0.9905079349448668, 0.9927775151696555, 0.5378400233622486, 0.20480029359345406, 0.047850535886321044, 0.057420643063585255, 0.14259459694123672, 0.007656085741811367, 0.9846697118650315, 0.14792942757743668, 0.23514155279100013, 0.5298964569938031, 0.006623705712422538, 0.04084618522660565, 0.03974223427453523, 0.8126779580545948, 0.0755447115938074, 0.08470164633245073, 0.013735402107964981, 0.011446168423304152, 0.9937696291281682, 0.00886624870002832, 0.9841536057031436, 0.987304894186524, 0.915889691657397, 0.05665297061798332, 0.02517909805243703, 0.1176876390358258, 0.8812220776585005, 0.010238742356048146, 0.988038637358646, 0.05039944714199755, 0.9431896536573828, 0.9973644340895178, 0.9883518649525826, 0.9745556609435467, 0.8921211665366773, 0.023869462649810762, 0.035804193974716146, 0.035804193974716146, 0.008951048493679037, 0.12297641945161904, 0.8744989827670687, 0.9930469977003658, 0.46008465014226385, 0.5375725912188556, 0.98690205102492, 0.9902455797733819, 0.989826898364833, 0.36921367896701773, 0.1478923139839875, 0.0041368479436080415, 0.47780593748672884, 0.9934729456355995, 0.9587040579589429, 0.9845495246446971, 0.984067825019585, 0.09085824724823181, 0.06241566550095925, 0.44244016051312884, 0.04661423119691893, 0.04345394433611087, 0.3041776103527761, 0.00948086058242419, 0.006409523526272417, 0.1474190411042656, 0.8428523437048228, 0.9866960466761346, 0.9969731896927322, 0.16797024444595496, 0.8264136026740985, 0.9963587718258706, 0.002780557017861379, 0.8925588027335026, 0.021317603803603907, 0.07414818714297011, 0.008341671053584137, 0.008142731434150697, 0.9893418692493097, 0.3325420402863975, 0.3493370928261145, 0.19258326912208878, 0.011196701693144696, 0.11308668710076143, 0.10906781778036921, 0.008389832136951478, 0.12864409276658934, 0.1705932534513467, 0.578898417449652, 0.20393777021486503, 0.06280973151104208, 0.006203430272695514, 0.08994973895408495, 0.05195372853382493, 0.5838978744174653, 0.09915443952992271, 0.02028158990384783, 0.8743618758547731, 0.004507019978632851, 0.9865749990533423, 0.031174508161346155, 0.037409409793615386, 0.9290003432081154, 0.05300015292333183, 0.9288974170247105, 0.01952637212964857, 0.9884687657265473, 0.9933960027672107, 0.9910546052847004, 0.978585497503402, 0.9773482550783441, 0.9453976784193463, 0.0043971985042760295, 0.030780389529932204, 0.013191595512828088, 0.9793345082524438, 0.5180709997508365, 0.23488812276838775, 0.19976466515816152, 0.02195216100639138, 0.015366512704473964, 0.00987847245287612, 0.9913779746332784, 0.24588130884819026, 0.004917626176963805, 0.055733096672256455, 0.022948922159164425, 0.5212683747581633, 0.13113669805236813, 0.01803129598220062, 0.12494659497865772, 0.8180465746715891, 0.04479217555838673, 0.00942993169650247, 0.32534555516467234, 0.10686532833876099, 0.3158464148678936, 0.019948194623235386, 0.15008641668910433, 0.08169260655229729, 0.9770743858046081, 0.9653701660397734, 0.03143065656873681, 0.842998861259521, 0.08028560583424009, 0.06881623357220579, 0.9972810442578086, 0.9960645932293177, 0.9968477983443276, 0.9901853195855088, 0.9917612602606879, 0.11685473057183153, 0.8812794263958962, 0.9914926381418484, 0.9825455540238037, 0.3043742701405081, 0.32219130058775736, 0.3652491241686097, 0.005939010149083085, 0.9901696854728524, 0.13556568883927575, 0.8585826959820797, 0.004841631744259848, 0.9934771752036969, 0.9797648534914378, 0.9851115006577078, 0.9900077156615612, 0.9750238403463404, 0.9944359509233215, 0.982485131317936, 0.5748228169768185, 0.198214764474765, 0.06772337786221137, 0.12223243809277175, 0.026428635263302, 0.00991073822373825, 0.9918863933942912, 0.9803299247808063, 0.015035735042650404, 0.23753250176293123, 0.3583464466251118, 0.1836098936041049, 0.04095387961429849, 0.17678424700172182, 0.0006825646602383081, 0.0013651293204766162, 0.9753824979189466, 0.9800651103566659, 0.9857810331552475, 0.23443364506180314, 0.0016393961193133088, 0.0016393961193133088, 0.08852739044291867, 0.0016393961193133088, 0.016393961193133088, 0.6573978438446368, 0.34372237509377085, 0.06394834885465504, 0.002664514535610627, 0.029309659891716893, 0.5595480524782316, 0.41004084896004267, 0.21383850725335557, 0.15321418818668261, 0.0011022603466667813, 0.20832720552002168, 0.013227124160001377, 0.19413250431240217, 0.03961887843110248, 0.12281852313641771, 0.5546642980354348, 0.08716153254842547, 0.8262896610911448, 0.040249066586101605, 0.0497194351945961, 0.016573145064865367, 0.0071027764563708715, 0.004735184304247248, 0.05445461949884335, 0.9879451768177879, 0.3976722757781907, 0.026335912303191437, 0.40425625385398856, 0.025019116688031865, 0.060572598297340303, 0.030286299148670152, 0.05530541583670202, 0.9883099624928425, 0.9843543374027425, 0.09812745080469461, 0.09812745080469461, 0.7167570319647258, 0.08532821809103878, 0.0968227325691039, 0.8714045931219351, 0.01613712209485065, 0.0107580813965671, 0.018155941589640776, 0.2505519939370427, 0.01997153574860485, 0.30865100702389314, 0.40306190329002517, 0.16440211608171557, 0.10318856222150231, 0.15740628135483403, 0.4197500836128908, 0.0402260496795687, 0.07170730595053551, 0.041975008361289076, 0.9852385163751993, 0.018662470888780855, 0.0634524010218549, 0.9144610735502618, 0.01720001062317947, 0.9718006002096401, 0.22563795295952288, 0.13538277177571373, 0.2156095994946552, 0.4161766687920089, 0.17956715909124732, 0.7194819279804707, 0.01577279100125821, 0.05217153946570024, 0.03275887361799782, 0.8823174280750399, 0.11653249050047697, 0.1044823833587561, 0.18121163363784262, 0.6187316139526339, 0.07999432475904765, 0.009795223439883385, 0.004897611719941693, 0.6235499419879681, 0.1340481759346115, 0.10543114961149218, 0.13103585737428314, 0.006024637120656696, 0.1273971947888885, 0.1436921848200254, 0.5866196411209285, 0.031108617332170446, 0.0651799601245476, 0.04592224463320399, 0.20343473974995646, 0.008360331770546155, 0.4180165885273078, 0.08499670633388591, 0.28425128019856927, 0.9947600748309761, 0.9905672306289635, 0.9775523769071982, 0.9885752226839493, 0.7646127670400236, 0.20794907890209846, 0.019195299590962934, 0.007998041496234556, 0.06743206369817324, 0.04214503981135828, 0.01053625995283957, 0.06953931568874117, 0.758610716604449, 0.050574047773629935, 0.9861757263210259, 0.4239095315936793, 0.0011582227639171565, 0.0011582227639171565, 0.1806827511710764, 0.011582227639171565, 0.061385806487609294, 0.31851126007721803, 0.1867107903321868, 0.10917834349932956, 0.09177310033276978, 0.5727907296631494, 0.02056983283320702, 0.004746884499970851, 0.014240653499912551, 0.01828510478098277, 0.009142552390491386, 0.03657020956196554, 0.004571276195245693, 0.031998933366719856, 0.8913988580729102, 0.045583521314919606, 0.18440606350126568, 0.006215934724761765, 0.5594341252285588, 0.18855001998444018, 0.014503847691110783, 0.9885950310958247, 0.9662682522367798, 0.028007775427153037, 0.9884027828177965, 0.984763903789596, 0.08857764655061473, 0.010420899594189969, 0.13937953207229084, 0.6786610860716217, 0.026052248985474924, 0.026052248985474924, 0.029960086333296162, 0.9884996255086942, 0.9837111131049365, 0.9721341194750585, 0.9878673287780729, 0.9825001103966157, 0.07459350957913444, 0.88923315366705, 0.033370780601191724, 0.9931484400981986, 0.9904085921517085, 0.994996260216426, 0.2438433418745899, 0.3762528984839102, 0.043262528397104656, 0.04195154268810149, 0.2949717845257136, 0.9844991095667487, 0.9851965457404582, 0.09434626428895324, 0.8962895107450558, 0.9535817535129015, 0.039497469080416035, 0.2132786810751644, 0.7799906050748869, 0.10229405465614688, 0.8865484736866064, 0.43691230643021467, 0.34438970036263983, 0.1070863496152487, 0.013707052750751833, 0.025700723907659685, 0.07110533614452513, 0.04972183570948491, 0.16378957645477382, 0.7516771633728012, 0.03509776638316582, 0.865312123987792, 0.987951349333648, 0.9874282348656184, 0.986055877261671, 0.9568892822106889, 0.032996182145196166, 0.0779926043646725, 0.904714210630201, 0.00779926043646725, 0.011003569328620205, 0.4907591920564611, 0.10453390862189194, 0.32020386746284796, 0.07262355756889335, 0.0990978680323959, 0.8359196632850336, 0.015156144522601726, 0.015156144522601726, 0.0349757181290809, 0.9394490808145354, 0.029175437292376875, 0.029175437292376875, 0.8444385462056814, 0.10689095521590904, 0.04988244576742422, 0.023206371723717055, 0.106915069727125, 0.8694101406492568, 0.8696261997783752, 0.10511965052266074, 0.00955633186569643, 0.012741775820928574, 0.9912463347313022, 0.08427621157674281, 0.9137315570952116, 0.9935881405286616, 0.9865038519186565, 0.9859393892767704, 0.9838047508231225, 0.9964105854955464, 0.9782107630135501, 0.5820734155796362, 0.033347956100916655, 0.14400253770850374, 0.08185407406588634, 0.09852805211634466, 0.0015158161864053026, 0.056085198896996195, 0.9914021121047928, 0.9924218089365711, 0.9928143794960983, 0.6343498016852989, 0.14417040947393156, 0.06689506999590424, 0.01960717568845469, 0.13379013999180847, 0.9801859444593848, 0.9763363882302251, 0.9859197242313005, 0.9896474419353557, 0.005405240273747939, 0.09188908465371495, 0.17026506862306007, 0.09188908465371495, 0.15675196793869023, 0.48647162463731447, 0.21068222043919912, 0.6396616813334721, 0.1497620603122018, 0.008414149822965945, 0.10728041024281579, 0.0063106123672244585, 0.2713563317906517, 0.008414149822965945, 0.38705089185643343, 0.2103537455741486, 0.36898441741851684, 0.6292155328610498, 0.9910406648595411, 0.3560451231989233, 0.22866691101999814, 0.18876530238563605, 0.11126410099966352, 0.08824394217214694, 0.003069354510335546, 0.024554836082684366, 0.9861261610215357, 0.9336153250253026, 0.0634153805677564, 0.9264297904129707, 0.06670294490973389, 0.007411438323303765, 0.005909313195706845, 0.7307850652024132, 0.16349099841455605, 0.04727450556565476, 0.025607023848062998, 0.027576794913298612, 0.9739418197992586, 0.04376411784242921, 0.6593793754926001, 0.1050338828218301, 0.02917607856161947, 0.06126976497940089, 0.055434549267077, 0.04376411784242921, 0.6070740072794332, 0.37012489332706183, 0.0017295555762946813, 0.019025111339241493, 0.9158015097452334, 0.07918584482759537, 0.9897847713871152, 0.9764498274578278, 0.04624778171856708, 0.0060062054179957245, 0.3423537088257563, 0.5591777244154019, 0.0060062054179957245, 0.006606825959795297, 0.0006006205417995725, 0.03183288871537734, 0.9752298975438607, 0.010019485248738294, 0.013359313664984392, 0.948767175703715, 0.026538941977726296, 0.006634735494431574, 0.013269470988863148, 0.9933237691999416, 0.044127122871327806, 0.9500309982885868, 0.0051914262201562126, 0.1232984125143139, 0.1861108113423606, 0.20472189247659664, 0.476908954064799, 0.006979155425338522, 0.9896559473624321, 0.9821086531414037, 0.12056974664869222, 0.060738143048589315, 0.6028487332434611, 0.16952287686695824, 0.025383104557619416, 0.01994386786670097, 0.991457392671154, 0.9896887923988428, 0.9766335711019859, 0.9915081294675202, 0.006654416976292083, 0.02757286254367812, 0.04865799272413786, 0.08109665454022977, 0.4703605963333326, 0.340605949068965, 0.03081672872528731, 0.9803575155012711, 0.9913218989027757, 0.9945545074598489, 0.08768382398254568, 0.017536764796509136, 0.017536764796509136, 0.12275735357556396, 0.008768382398254568, 0.7453125038516383, 0.8581883401722482, 0.13874901308174073, 0.9950915494968389, 0.02396430178056211, 0.976545297557906, 0.9858049156141657, 0.010715270821893106, 0.13592449871491202, 0.165657982808799, 0.014866742046943502, 0.5330788933975456, 0.07008606964987651, 0.08070517111197902, 0.05138003108685047, 0.9441080712208774, 0.072393269665149, 0.10858990449772349, 0.5396589193220198, 0.06252146016535595, 0.047713745915666385, 0.09542749183133277, 0.072393269665149, 0.045772835820465485, 0.09618929266619558, 0.5811160025902574, 0.15854648929117754, 0.03383209604121362, 0.023218105126323073, 0.061030447760620644, 0.8189899771264529, 0.10035055055699621, 0.0032371145340966516, 0.03560825987506317, 0.025896916272773213, 0.012948458136386606, 0.04977676073090063, 0.12262080082490154, 0.7017309195722088, 0.11533639681550145, 0.008498471344300106, 0.0024281346698000303, 0.04159613015734442, 0.9525513806031872, 0.9925869963046536, 0.9571067793045724, 0.024699529788505092, 0.01852464734137882, 0.40844894486662653, 0.1126287788170432, 0.42608959697050075, 0.03528130420774847, 0.016283678865114677, 0.01202269026805705, 0.14226850150534176, 0.43482063136139665, 0.3025710384127691, 0.1062004307011706, 0.990821950048187, 0.9849400804307336, 0.992268493998661, 0.9879885957441585, 0.42533638719753075, 0.05243873266818872, 0.011653051704041939, 0.029132629260104844, 0.47777511986571947, 0.005100055538593929, 0.14960162913208858, 0.03400037025729286, 0.02890031471869893, 0.7803084974048712, 0.052856522834386965, 0.11158599265037249, 0.8280855244053958, 0.15304931723533804, 0.13264274160395964, 0.0020406575631378406, 0.5938313508731116, 0.024487890757654087, 0.09387024790434066, 0.9917362421487137, 0.020620097097613175, 0.4582243799469594, 0.05498692559363513, 0.10233677818815427, 0.06262399859275113, 0.009928194898850787, 0.29097248126631925, 0.5929090153577962, 0.16014262794229864, 0.049567956267854346, 0.08769715339697307, 0.10866821181798837, 0.6081860297540901, 0.23446012161534488, 0.05817431588952166, 0.03702001920242288, 0.0546485997750052, 0.007051432229032929, 0.9768543920353655, 0.019229417166050502, 0.9720094652743955, 0.9893409346449746, 0.9890029847453876, 0.9948360105746255, 0.9909242980142983, 0.985828637930592, 0.9819179765455772, 0.020315610055215788, 0.978274761120391, 0.9945553148669444, 0.9918268071617927, 0.29919737018419224, 0.5902199488332973, 0.011444708149122108, 0.05722354074561054, 0.03923899936841865, 0.3421224068436656, 0.21508213487235628, 0.14417593656278826, 0.16722045101339789, 0.1099046073798304, 0.0212718594928704, 0.9901167594959981, 0.5680931202802766, 0.18554983928578817, 0.14958423167092175, 0.03596560761486643, 0.0318786067495407, 0.028609006057280114, 0.9802506905700674], \"Term\": [\"abl\", \"absorpt\", \"absorpt\", \"absorpt\", \"abstract\", \"abstract\", \"acquir\", \"activ\", \"activ\", \"activ\", \"activ\", \"activ\", \"activ\", \"activ\", \"acupunctur\", \"acupunctur\", \"adher\", \"adipos\", \"adipos\", \"adipos\", \"adipos\", \"adjust\", \"adjust\", \"adjust\", \"adjust\", \"adjust\", \"adjuv\", \"adjuv\", \"adopt\", \"advers\", \"advers\", \"advers\", \"advers\", \"advers\", \"advers\", \"advoc\", \"aerob\", \"african\", \"age\", \"age\", \"age\", \"age\", \"age\", \"age\", \"age\", \"agonist\", \"alcohol\", \"alcohol\", \"alcohol\", \"alpin\", \"amenorrhoea\", \"amenorrhoea\", \"amenorrhoea\", \"amenorrhoea\", \"amenorrhoea\", \"amenorrhoea\", \"among\", \"among\", \"among\", \"among\", \"among\", \"among\", \"anabol\", \"anaemia\", \"anaemia\", \"analys\", \"analys\", \"analys\", \"analys\", \"analys\", \"analys\", \"analysi\", \"analysi\", \"analysi\", \"analysi\", \"analysi\", \"analysi\", \"aneurysm\", \"angiotensin\", \"antibiot\", \"antibiot\", \"antibiot\", \"anxieti\", \"anxieti\", \"anxieti\", \"aortic\", \"apnoea\", \"apoptosi\", \"apoptot\", \"arena\", \"arena\", \"arena\", \"arena\", \"aroma\", \"aroma\", \"aroma\", \"arous\", \"arteri\", \"arteri\", \"arteri\", \"arthralgia\", \"articl\", \"articl\", \"articl\", \"articl\", \"articl\", \"asian\", \"aspirin\", \"associ\", \"associ\", \"associ\", \"associ\", \"associ\", \"associ\", \"associ\", \"asthma\", \"asthma\", \"astrodom\", \"atherosclerot\", \"atrial\", \"atrophi\", \"atrophi\", \"atrophi\", \"atrophi\", \"atrophi\", \"atrophi\", \"attitud\", \"august\", \"autoimmun\", \"autoimmun\", \"autoimmun\", \"bacteria\", \"behavior\", \"behavior\", \"behavior\", \"belief\", \"benign\", \"benign\", \"benign\", \"benign\", \"biliari\", \"binari\", \"biom\", \"biopsi\", \"biopsi\", \"biopsi\", \"biopsi\", \"biopsi\", \"biopsi\", \"biotic\", \"bishop\", \"bladder\", \"bladder\", \"bleed\", \"bleed\", \"bleed\", \"bleed\", \"bleed\", \"blood\", \"blood\", \"blood\", \"blood\", \"blood\", \"blood\", \"bothersom\", \"break\", \"break\", \"breast\", \"breast\", \"breast\", \"breast\", \"breast\", \"breastfeed\", \"breath\", \"burden\", \"burn\", \"burn\", \"calcif\", \"calcif\", \"calcium\", \"calcium\", \"calcium\", \"calcium\", \"calvin\", \"cancer\", \"cancer\", \"cancer\", \"cancer\", \"cancer\", \"cancer\", \"candid\", \"candida\", \"capsul\", \"capsul\", \"cardiac\", \"carotid\", \"carrier\", \"carrier\", \"cascad\", \"categor\", \"celia\", \"cell\", \"cell\", \"cell\", \"cell\", \"cell\", \"centuri\", \"cerebrovascular\", \"certainti\", \"chang\", \"chang\", \"chang\", \"chang\", \"chang\", \"chang\", \"chang\", \"characteris\", \"chemotherapi\", \"chemotherapi\", \"chemotherapi\", \"china\", \"chines\", \"cholesterol\", \"cholesterol\", \"cholesterol\", \"cholesterol\", \"circadian\", \"circadian\", \"clinic\", \"clinic\", \"clinic\", \"clinic\", \"clinic\", \"clinic\", \"clinician\", \"clinician\", \"clinician\", \"clinician\", \"cluster\", \"cluster\", \"cluster\", \"cochran\", \"coexist\", \"cognit\", \"cohort\", \"cohort\", \"cohort\", \"cohort\", \"combin\", \"combin\", \"combin\", \"combin\", \"combin\", \"combin\", \"confid\", \"confid\", \"confid\", \"confid\", \"confound\", \"confound\", \"consult\", \"consult\", \"control\", \"control\", \"control\", \"control\", \"control\", \"control\", \"control\", \"correl\", \"correl\", \"correl\", \"correl\", \"correl\", \"correl\", \"covid\", \"covid\", \"cream\", \"cycl\", \"cycl\", \"cycl\", \"cycl\", \"cycl\", \"cycl\", \"cycl\", \"cystiti\", \"dementia\", \"dementia\", \"demo\", \"demo\", \"demograph\", \"demograph\", \"demograph\", \"densiti\", \"densiti\", \"densiti\", \"densiti\", \"depress\", \"depress\", \"depress\", \"depress\", \"diabet\", \"diabet\", \"diabet\", \"diabet\", \"difficulti\", \"difficulti\", \"difficulti\", \"difficulti\", \"dimens\", \"dimorph\", \"disabl\", \"disabl\", \"discuss\", \"discuss\", \"discuss\", \"discuss\", \"discuss\", \"discuss\", \"discuss\", \"disord\", \"disord\", \"disord\", \"disord\", \"disord\", \"disord\", \"disord\", \"disord\", \"dispar\", \"disturb\", \"disturb\", \"disturb\", \"disturb\", \"disturb\", \"disturb\", \"disturb\", \"diuret\", \"donat\", \"dopamin\", \"drink\", \"drool\", \"ducal\", \"ducal\", \"dysuria\", \"earli\", \"earli\", \"earli\", \"earli\", \"earli\", \"earli\", \"earli\", \"effect\", \"effect\", \"effect\", \"effect\", \"effect\", \"effect\", \"effect\", \"efficaci\", \"efficaci\", \"efficaci\", \"efficaci\", \"efficaci\", \"efficaci\", \"elast\", \"elisa\", \"eliza\", \"embryo\", \"emot\", \"emot\", \"encompass\", \"endocrin\", \"endocrin\", \"endocrin\", \"endocrin\", \"endocrin\", \"endocrin\", \"endocrin\", \"endometri\", \"endometri\", \"endometri\", \"endometri\", \"endometriosi\", \"endometriosi\", \"endometriosi\", \"endometriosi\", \"endotheli\", \"endotheli\", \"endpoint\", \"endpoint\", \"energi\", \"energi\", \"energi\", \"energi\", \"engag\", \"english\", \"epidem\", \"estonia\", \"ethnic\", \"ethnic\", \"ethnic\", \"evid\", \"evid\", \"evid\", \"evid\", \"evid\", \"evid\", \"evid\", \"exercis\", \"exercis\", \"exercis\", \"expenditur\", \"experi\", \"experi\", \"experi\", \"experi\", \"experi\", \"experi\", \"expert\", \"expert\", \"express\", \"express\", \"express\", \"express\", \"express\", \"extracellular\", \"factor\", \"factor\", \"factor\", \"factor\", \"factor\", \"factor\", \"factor\", \"fast\", \"fast\", \"fast\", \"fast\", \"fatal\", \"femal\", \"femal\", \"femal\", \"femal\", \"femal\", \"femal\", \"femal\", \"femal\", \"femor\", \"fiber\", \"fibril\", \"fibroid\", \"firstli\", \"flash\", \"flash\", \"flash\", \"flavon\", \"floor\", \"floor\", \"flush\", \"flush\", \"flush\", \"follicl\", \"follicl\", \"follicl\", \"follicl\", \"follicl\", \"follicl\", \"follicular\", \"follicular\", \"follicular\", \"follicular\", \"follicular\", \"follicular\", \"formul\", \"formul\", \"formul\", \"fractur\", \"fractur\", \"fractur\", \"fractur\", \"fragil\", \"frailti\", \"franc\", \"fullest\", \"function\", \"function\", \"function\", \"function\", \"function\", \"function\", \"function\", \"gaiter\", \"garda\", \"gastric\", \"gather\", \"gene\", \"gene\", \"genom\", \"genom\", \"genotyp\", \"glace\", \"glaucoma\", \"global\", \"globular\", \"glucos\", \"glucos\", \"glucos\", \"glucos\", \"glucos\", \"goal\", \"gonadotropin\", \"gonadotropin\", \"gonadotropin\", \"gonadotropin\", \"googl\", \"grade\", \"grade\", \"grade\", \"grade\", \"grade\", \"grade\", \"grade\", \"graviti\", \"group\", \"group\", \"group\", \"group\", \"group\", \"group\", \"guidelin\", \"handgrip\", \"hazard\", \"hazard\", \"health\", \"health\", \"health\", \"health\", \"health\", \"health\", \"health\", \"health\", \"healthcar\", \"hedon\", \"higher\", \"higher\", \"higher\", \"higher\", \"higher\", \"higher\", \"highlight\", \"highlight\", \"hippocampu\", \"hippocampu\", \"hispan\", \"histopatholog\", \"histori\", \"histori\", \"histori\", \"histori\", \"histori\", \"histori\", \"hormon\", \"hormon\", \"hormon\", \"hormon\", \"hormon\", \"hormon\", \"hormon\", \"hygien\", \"hypercholesterolemia\", \"hyperplasia\", \"hyperplasia\", \"hyperplasia\", \"hyperthyroid\", \"iatrogen\", \"identifi\", \"identifi\", \"identifi\", \"identifi\", \"identifi\", \"identifi\", \"identifi\", \"imag\", \"imag\", \"immun\", \"immun\", \"immun\", \"immun\", \"immun\", \"immun\", \"impact\", \"impact\", \"impact\", \"impact\", \"implement\", \"improv\", \"improv\", \"improv\", \"improv\", \"improv\", \"improv\", \"inact\", \"incid\", \"incid\", \"incid\", \"incid\", \"incid\", \"incid\", \"incident\", \"includ\", \"includ\", \"includ\", \"includ\", \"includ\", \"includ\", \"includ\", \"incom\", \"incom\", \"inconclus\", \"incontin\", \"increas\", \"increas\", \"increas\", \"increas\", \"increas\", \"increas\", \"increas\", \"india\", \"indian\", \"induc\", \"induc\", \"induc\", \"induc\", \"induc\", \"induc\", \"induc\", \"infect\", \"infect\", \"infect\", \"infect\", \"infertil\", \"infertil\", \"infertil\", \"inflamm\", \"inflamm\", \"inflammatori\", \"inflammatori\", \"inflammatori\", \"inflammatori\", \"inhibitor\", \"inhibitor\", \"inhibitor\", \"inhibitor\", \"inhibitor\", \"innov\", \"insomnia\", \"insomnia\", \"instant\", \"insuffici\", \"insuffici\", \"insuffici\", \"insuffici\", \"insuffici\", \"insulin\", \"insulin\", \"insulin\", \"insulin\", \"insulin\", \"intak\", \"intak\", \"intak\", \"intak\", \"integr\", \"integr\", \"intercours\", \"interv\", \"interv\", \"interv\", \"interv\", \"interv\", \"intervent\", \"intervent\", \"intervent\", \"intestin\", \"intestin\", \"intestin\", \"introduct\", \"iranian\", \"iren\", \"issu\", \"issu\", \"itch\", \"item\", \"joint\", \"joint\", \"kinas\", \"kinas\", \"kinin\", \"knowledg\", \"knowledg\", \"knowledg\", \"knowledg\", \"knowledg\", \"korea\", \"labour\", \"lactobacillu\", \"languag\", \"laps\", \"laser\", \"latin\", \"lemon\", \"leptin\", \"lesion\", \"lesion\", \"lesion\", \"lesion\", \"lesion\", \"level\", \"level\", \"level\", \"level\", \"level\", \"level\", \"level\", \"lexem\", \"librari\", \"lichen\", \"lifespan\", \"lifestyl\", \"lifestyl\", \"lifetim\", \"likelihood\", \"likelihood\", \"lipid\", \"lipid\", \"lipid\", \"lipid\", \"lipoprotein\", \"lipoprotein\", \"lipoprotein\", \"literatur\", \"literatur\", \"literatur\", \"literatur\", \"literatur\", \"literatur\", \"liver\", \"liver\", \"liver\", \"liver\", \"logist\", \"logist\", \"longev\", \"lotu\", \"lotu\", \"lotu\", \"lubric\", \"lumbar\", \"lumin\", \"lumin\", \"lupu\", \"machin\", \"magnesium\", \"magnet\", \"makeup\", \"malign\", \"malign\", \"malign\", \"malign\", \"mammogram\", \"mammographi\", \"mammographi\", \"mammographi\", \"manag\", \"manag\", \"manag\", \"manag\", \"manag\", \"manag\", \"march\", \"margin\", \"marker\", \"marker\", \"marker\", \"marker\", \"marker\", \"mass\", \"mass\", \"measur\", \"measur\", \"measur\", \"measur\", \"measur\", \"measur\", \"mechan\", \"mechan\", \"mechan\", \"mechan\", \"mechan\", \"mechan\", \"mechan\", \"mediat\", \"mediat\", \"mediat\", \"mediat\", \"mediat\", \"meier\", \"melanoma\", \"melatonin\", \"memori\", \"memori\", \"menarch\", \"menarch\", \"menarch\", \"mendelian\", \"menstrual\", \"menstrual\", \"menstrual\", \"menstrual\", \"menstrual\", \"menstrual\", \"menstrual\", \"mental\", \"mental\", \"mental\", \"mesenchym\", \"metabol\", \"metabol\", \"metabol\", \"metabol\", \"metabol\", \"metabol\", \"micro\", \"micro\", \"micro\", \"micro\", \"micro\", \"microbi\", \"midlif\", \"midlif\", \"migrain\", \"miller\", \"miner\", \"miner\", \"miner\", \"miner\", \"miner\", \"miscarriag\", \"mitig\", \"mitochondri\", \"model\", \"model\", \"model\", \"model\", \"model\", \"model\", \"moistur\", \"month\", \"month\", \"month\", \"month\", \"month\", \"month\", \"mortal\", \"mortal\", \"mortal\", \"mortal\", \"mortal\", \"motor\", \"mous\", \"mous\", \"multidisciplinari\", \"muscl\", \"muscl\", \"muscl\", \"mutat\", \"mutat\", \"mysteri\", \"mysteri\", \"myxoma\", \"myxoma\", \"nake\", \"narr\", \"nasal\", \"nation\", \"nation\", \"nation\", \"nation\", \"nation\", \"network\", \"network\", \"neuron\", \"night\", \"night\", \"nitrat\", \"nocturn\", \"nutrient\", \"obes\", \"obes\", \"obes\", \"obes\", \"obstruct\", \"occlus\", \"octob\", \"ocular\", \"oestrogen\", \"oestrogen\", \"oestrogen\", \"oestrogen\", \"oestrogen\", \"oestrogen\", \"oestrogen\", \"oocyt\", \"oocyt\", \"oocyt\", \"orogen\", \"osteoarthr\", \"osteoblast\", \"osteoblast\", \"osteoclast\", \"osteoporosi\", \"osteoporosi\", \"osteoporosi\", \"osteoporosi\", \"osteoporosi\", \"osteoporot\", \"osteoporot\", \"outcom\", \"outcom\", \"outcom\", \"outcom\", \"outcom\", \"ovari\", \"ovari\", \"ovari\", \"ovari\", \"ovari\", \"ovarian\", \"ovarian\", \"ovarian\", \"ovarian\", \"ovarian\", \"ovarian\", \"ovariectomi\", \"ovariectomi\", \"ovariectomi\", \"ovariectomi\", \"overact\", \"ovul\", \"ovul\", \"ovul\", \"oxid\", \"oxid\", \"oxid\", \"oxytocin\", \"ozon\", \"pablo\", \"pandem\", \"papillari\", \"pariti\", \"pariti\", \"pariti\", \"pariti\", \"parkinson\", \"particip\", \"particip\", \"particip\", \"particip\", \"particip\", \"particip\", \"particl\", \"patholog\", \"patholog\", \"patholog\", \"patholog\", \"patholog\", \"patholog\", \"patholog\", \"pathway\", \"pathway\", \"pathway\", \"pathway\", \"patient\", \"patient\", \"patient\", \"patient\", \"patient\", \"patient\", \"paus\", \"peni\", \"peni\", \"peopl\", \"peopl\", \"peopl\", \"perceiv\", \"percept\", \"periodont\", \"perspect\", \"pessari\", \"pharmaci\", \"pharmaci\", \"phenol\", \"phosphoryl\", \"physic\", \"physic\", \"physic\", \"physic\", \"pittsburgh\", \"placebo\", \"placebo\", \"placebo\", \"plaqu\", \"plateau\", \"pluton\", \"pollut\", \"polymeras\", \"polyp\", \"poorer\", \"popul\", \"popul\", \"popul\", \"popul\", \"popul\", \"popul\", \"pose\", \"post\", \"post\", \"postmenopaus\", \"postmenopaus\", \"postmenopaus\", \"postmenopaus\", \"postmenopaus\", \"postmenopaus\", \"postmenopaus\", \"postprandi\", \"practition\", \"precancer\", \"pregnanc\", \"pregnanc\", \"pregnanc\", \"pregnanc\", \"pregnanc\", \"pregnanc\", \"pregnanc\", \"prematur\", \"prematur\", \"prematur\", \"prematur\", \"prematur\", \"premenopaus\", \"premenopaus\", \"premenopaus\", \"premenopaus\", \"premenopaus\", \"premenopaus\", \"prescrib\", \"prescrib\", \"prescrib\", \"prescrib\", \"prescrib\", \"pressur\", \"pressur\", \"pressur\", \"pressur\", \"pressur\", \"pressur\", \"pressur\", \"preterm\", \"preval\", \"preval\", \"preval\", \"preval\", \"preval\", \"preval\", \"preval\", \"primordi\", \"probe\", \"profession\", \"profession\", \"profession\", \"profession\", \"progestin\", \"progestin\", \"progestin\", \"progestin\", \"protein\", \"protein\", \"protein\", \"protein\", \"protein\", \"provid\", \"provid\", \"provid\", \"provid\", \"provid\", \"provid\", \"provid\", \"psoriasi\", \"psycholog\", \"psycholog\", \"psycholog\", \"psychosoci\", \"psychosoci\", \"qualit\", \"qualit\", \"qualit\", \"qualit\", \"qualiti\", \"qualiti\", \"qualiti\", \"qualiti\", \"qualiti\", \"quartil\", \"quartil\", \"random\", \"random\", \"random\", \"random\", \"random\", \"random\", \"ratio\", \"ratio\", \"ratio\", \"ratio\", \"ratio\", \"receiv\", \"receiv\", \"receiv\", \"receiv\", \"receiv\", \"receiv\", \"receptor\", \"receptor\", \"receptor\", \"receptor\", \"receptor\", \"rectal\", \"referr\", \"reflex\", \"registr\", \"regress\", \"regress\", \"regress\", \"regress\", \"regul\", \"regul\", \"regul\", \"regul\", \"regul\", \"regul\", \"repair\", \"reproduct\", \"reproduct\", \"reproduct\", \"reproduct\", \"reproduct\", \"reproduct\", \"reproduct\", \"research\", \"research\", \"research\", \"research\", \"research\", \"research\", \"research\", \"reserv\", \"reserv\", \"reserv\", \"reserv\", \"reserv\", \"reserv\", \"resist\", \"resist\", \"resist\", \"resist\", \"resist\", \"resist\", \"reson\", \"resorpt\", \"resorpt\", \"rest\", \"retrial\", \"review\", \"review\", \"review\", \"review\", \"review\", \"review\", \"review\", \"revis\", \"robot\", \"rostov\", \"rural\", \"safer\", \"safeti\", \"safeti\", \"safeti\", \"saliva\", \"salivari\", \"satisfact\", \"scale\", \"scale\", \"scale\", \"scale\", \"scale\", \"schizophrenia\", \"scholar\", \"school\", \"school\", \"scienc\", \"scienc\", \"sclerosi\", \"sclerosi\", \"scope\", \"scope\", \"score\", \"score\", \"score\", \"score\", \"score\", \"score\", \"search\", \"search\", \"search\", \"search\", \"secondli\", \"sedentari\", \"sensori\", \"septemb\", \"serotonin\", \"serotonin\", \"serou\", \"serou\", \"serou\", \"serum\", \"serum\", \"serum\", \"serum\", \"serum\", \"sexual\", \"sexual\", \"sexual\", \"sexual\", \"sexual\", \"signal\", \"signal\", \"signal\", \"skelet\", \"skelet\", \"skelet\", \"sleep\", \"sleep\", \"sleep\", \"smoke\", \"smoke\", \"smoke\", \"smoke\", \"snap\", \"social\", \"social\", \"south\", \"specialist\", \"spectrometri\", \"sperm\", \"spine\", \"spring\", \"stage\", \"stage\", \"stage\", \"stage\", \"stage\", \"stage\", \"stage\", \"stane\", \"statement\", \"station\", \"statu\", \"statu\", \"statu\", \"statu\", \"statu\", \"stein\", \"stenot\", \"step\", \"stiff\", \"stimul\", \"stimul\", \"stimul\", \"stimul\", \"stimul\", \"stimul\", \"strategi\", \"strategi\", \"strategi\", \"stress\", \"stress\", \"stress\", \"stress\", \"stress\", \"stress\", \"stress\", \"stroke\", \"stroke\", \"student\", \"studi\", \"studi\", \"studi\", \"studi\", \"studi\", \"studi\", \"studi\", \"subclin\", \"subtyp\", \"subtyp\", \"summar\", \"summar\", \"summar\", \"supplement\", \"supplement\", \"supplement\", \"supplement\", \"supplement\", \"supplement\", \"suppositori\", \"survey\", \"survey\", \"survey\", \"survey\", \"survey\", \"survey\", \"survey\", \"surviv\", \"surviv\", \"surviv\", \"surviv\", \"survivor\", \"survivor\", \"switch\", \"symbiosi\", \"symptom\", \"symptom\", \"symptom\", \"symptom\", \"symptom\", \"symptom\", \"symptom\", \"symptom\", \"systemat\", \"systemat\", \"systemat\", \"systol\", \"systol\", \"systol\", \"systol\", \"tailor\", \"tamoxifen\", \"tamoxifen\", \"tamoxifen\", \"target\", \"target\", \"target\", \"target\", \"target\", \"textil\", \"theme\", \"therapi\", \"therapi\", \"therapi\", \"therapi\", \"therapi\", \"therapi\", \"thicken\", \"thrombosi\", \"thrombot\", \"tirol\", \"tirol\", \"tissu\", \"tissu\", \"tissu\", \"tissu\", \"tissu\", \"tissu\", \"tobacco\", \"trabecular\", \"track\", \"tract\", \"tract\", \"tract\", \"tract\", \"tract\", \"tract\", \"train\", \"train\", \"trajectori\", \"transcript\", \"transcript\", \"transderm\", \"transderm\", \"transit\", \"transit\", \"transit\", \"transit\", \"transit\", \"transit\", \"transplant\", \"transplant\", \"treat\", \"treat\", \"treat\", \"treat\", \"treat\", \"treat\", \"treat\", \"treatment\", \"treatment\", \"treatment\", \"treatment\", \"treatment\", \"treatment\", \"treatment\", \"trend\", \"trend\", \"trend\", \"trend\", \"trend\", \"trend\", \"trial\", \"trial\", \"trial\", \"trial\", \"trial\", \"trial\", \"triglycerid\", \"triglycerid\", \"tripl\", \"turnov\", \"turnov\", \"turnov\", \"tutor\", \"tutor\", \"tutor\", \"tutor\", \"tutor\", \"understand\", \"understand\", \"understand\", \"understand\", \"understand\", \"underweight\", \"unregul\", \"urethr\", \"urgenc\", \"urin\", \"urin\", \"urin\", \"urin\", \"urin\", \"urinari\", \"urinari\", \"urinari\", \"urinari\", \"urinari\", \"urogenit\", \"urogenit\", \"urogenit\", \"uterin\", \"uterin\", \"uterin\", \"uterin\", \"uterin\", \"uterin\", \"vaccin\", \"vagin\", \"vagin\", \"vagin\", \"vagin\", \"vagin\", \"vagin\", \"vagin\", \"valid\", \"valid\", \"valid\", \"valid\", \"valid\", \"variabl\", \"variabl\", \"variabl\", \"variabl\", \"variabl\", \"variabl\", \"variant\", \"variant\", \"vasodil\", \"ventricular\", \"version\", \"vertebr\", \"vestibular\", \"view\", \"viral\", \"vitamin\", \"vitamin\", \"volvo\", \"walk\", \"week\", \"week\", \"week\", \"week\", \"week\", \"women\", \"women\", \"women\", \"women\", \"women\", \"women\", \"workplac\", \"year\", \"year\", \"year\", \"year\", \"year\", \"year\", \"zealand\"]}, \"R\": 30, \"lambda.step\": 0.01, \"plot.opts\": {\"xlab\": \"PC1\", \"ylab\": \"PC2\"}, \"topic.order\": [6, 2, 7, 8, 4, 3, 10, 5, 9, 1]};\n",
       "\n",
       "function LDAvis_load_lib(url, callback){\n",
       "  var s = document.createElement('script');\n",
       "  s.src = url;\n",
       "  s.async = true;\n",
       "  s.onreadystatechange = s.onload = callback;\n",
       "  s.onerror = function(){console.warn(\"failed to load library \" + url);};\n",
       "  document.getElementsByTagName(\"head\")[0].appendChild(s);\n",
       "}\n",
       "\n",
       "if(typeof(LDAvis) !== \"undefined\"){\n",
       "   // already loaded: just create the visualization\n",
       "   !function(LDAvis){\n",
       "       new LDAvis(\"#\" + \"ldavis_el94560342294473446640280328\", ldavis_el94560342294473446640280328_data);\n",
       "   }(LDAvis);\n",
       "}else if(typeof define === \"function\" && define.amd){\n",
       "   // require.js is available: use it to load d3/LDAvis\n",
       "   require.config({paths: {d3: \"https://d3js.org/d3.v5\"}});\n",
       "   require([\"d3\"], function(d3){\n",
       "      window.d3 = d3;\n",
       "      LDAvis_load_lib(\"https://cdn.jsdelivr.net/gh/bmabey/pyLDAvis@3.4.0/pyLDAvis/js/ldavis.v3.0.0.js\", function(){\n",
       "        new LDAvis(\"#\" + \"ldavis_el94560342294473446640280328\", ldavis_el94560342294473446640280328_data);\n",
       "      });\n",
       "    });\n",
       "}else{\n",
       "    // require.js not available: dynamically load d3 & LDAvis\n",
       "    LDAvis_load_lib(\"https://d3js.org/d3.v5.js\", function(){\n",
       "         LDAvis_load_lib(\"https://cdn.jsdelivr.net/gh/bmabey/pyLDAvis@3.4.0/pyLDAvis/js/ldavis.v3.0.0.js\", function(){\n",
       "                 new LDAvis(\"#\" + \"ldavis_el94560342294473446640280328\", ldavis_el94560342294473446640280328_data);\n",
       "            })\n",
       "         });\n",
       "}\n",
       "</script>"
      ],
      "text/plain": [
       "<IPython.core.display.HTML object>"
      ]
     },
     "execution_count": 188,
     "metadata": {},
     "output_type": "execute_result"
    }
   ],
   "source": [
    "from gensim import corpora\n",
    "from gensim.models import LdaModel, TfidfModel\n",
    "import pyLDAvis.gensim_models as gensimvis\n",
    "import pyLDAvis\n",
    "import matplotlib.pyplot as plt\n",
    "\n",
    "num_topics = 10\n",
    "processed_text = df['abstract_cleaned'].tolist()\n",
    "\n",
    "# Create Dictionary and Corpus\n",
    "dictionary = corpora.Dictionary(processed_text)\n",
    "corpus = [dictionary.doc2bow(doc) for doc in processed_text]\n",
    "\n",
    "# -------------------- LDA with Bag of Words\n",
    "print(\" -------------------- LDA with bag of words\")\n",
    "lda_bow = LdaModel(corpus, num_topics=num_topics, id2word=dictionary, passes=2)    \n",
    "\n",
    "for idx, topic in lda_bow.print_topics(-1):\n",
    "    print('Topic: {} \\nWords: {}'.format(idx, topic))\n",
    "\n",
    "# -------------------- LDA with TFIDF\n",
    "print(\" -------------------- LDA with TFIDF\")\n",
    "tfidf = TfidfModel(corpus)\n",
    "corpus_tfidf = tfidf[corpus]\n",
    "\n",
    "lda_tfidf = LdaModel(corpus_tfidf, num_topics=num_topics, id2word=dictionary, passes=2)\n",
    "\n",
    "for idx, topic in lda_tfidf.print_topics(-1):\n",
    "    print('Topic: {} \\nWords: {}'.format(idx, topic))\n",
    "\n",
    "# -------------------- Visualization with pyLDAvis\n",
    "print(\" -------------------- Preparing pyLDAvis...\")\n",
    "\n",
    "pyLDAvis.enable_notebook()  # use enable_notebook() if you're in a Jupyter environment\n",
    "vis_data = gensimvis.prepare(lda_tfidf, corpus_tfidf, dictionary)\n",
    "pyLDAvis.display(vis_data)\n",
    "\n",
    "# Optional: Save to HTML file if you're outside of Jupyter\n",
    "# pyLDAvis.save_html(vis_data, 'lda_tfidf_vis.html')\n"
   ]
  },
  {
   "cell_type": "code",
   "execution_count": 187,
   "metadata": {},
   "outputs": [],
   "source": [
    "pyLDAvis.save_html(vis_data, 'lda_tfidf_vis_10.html')"
   ]
  }
 ],
 "metadata": {
  "kernelspec": {
   "display_name": "base",
   "language": "python",
   "name": "python3"
  },
  "language_info": {
   "codemirror_mode": {
    "name": "ipython",
    "version": 3
   },
   "file_extension": ".py",
   "mimetype": "text/x-python",
   "name": "python",
   "nbconvert_exporter": "python",
   "pygments_lexer": "ipython3",
   "version": "3.11.7"
  }
 },
 "nbformat": 4,
 "nbformat_minor": 2
}
